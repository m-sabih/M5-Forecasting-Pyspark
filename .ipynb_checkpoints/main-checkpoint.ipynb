{
 "cells": [
  {
   "cell_type": "code",
   "execution_count": 16,
   "metadata": {},
   "outputs": [
    {
     "name": "stdout",
     "output_type": "stream",
     "text": [
      "The autoreload extension is already loaded. To reload it, use:\n",
      "  %reload_ext autoreload\n"
     ]
    }
   ],
   "source": [
    "%load_ext autoreload\n",
    "%autoreload 2"
   ]
  },
  {
   "cell_type": "code",
   "execution_count": 2,
   "metadata": {},
   "outputs": [],
   "source": [
    "from pyspark.ml.feature import VectorAssembler, StringIndexer\n",
    "from pyspark.sql import SparkSession\n",
    "from pyspark.ml import Pipeline\n",
    "\n",
    "from DataManipulation import DataManipulation\n",
    "from Estimators.XGBoost import XGBoost\n",
    "from Logging import Logging\n",
    "from Transformers.FilterDepartment import FilterDepartment\n",
    "from Transformers.ImputePrice import ImputePrice\n",
    "from Transformers.LagFeature import LagFeature\n",
    "from Transformers.LogTransformation import LogTransformation\n",
    "from Transformers.MonthlyAggregate import MonthlyAggregate\n",
    "from Transformers.NegativeSales import NegativeSales\n",
    "\n",
    "import pandas as pd\n",
    "import findspark"
   ]
  },
  {
   "cell_type": "code",
   "execution_count": 3,
   "metadata": {
    "pycharm": {
     "name": "#%%\n"
    }
   },
   "outputs": [],
   "source": [
    "def initialize_session(name):\n",
    "    return SparkSession.builder.master(\"local[*]\").appName(name).\\\n",
    "        config(\"spark.driver.bindAddress\", \"localhost\").\\\n",
    "        config(\"spark.ui.port\", \"4050\").getOrCreate()"
   ]
  },
  {
   "cell_type": "code",
   "execution_count": 4,
   "metadata": {
    "pycharm": {
     "name": "#%%\n"
    }
   },
   "outputs": [],
   "source": [
    "findspark.init()\n",
    "spark = initialize_session(\"Assignment\")\n",
    "spark.conf.set(\"spark.sql.execution.arrow.enabled\", \"true\")\n",
    "log = Logging.getLogger()\n",
    "log.info(\"Initializing session\")\n",
    "\n",
    "data = DataManipulation()\n",
    "df = data.get_data()"
   ]
  },
  {
   "cell_type": "code",
   "execution_count": 5,
   "metadata": {},
   "outputs": [
    {
     "name": "stdout",
     "output_type": "stream",
     "text": [
      "+-------+\n",
      "|Letters|\n",
      "+-------+\n",
      "|      X|\n",
      "|      Y|\n",
      "|      Z|\n",
      "+-------+\n",
      "\n"
     ]
    }
   ],
   "source": [
    "pandas_df = pd.DataFrame({\"Letters\":[\"X\", \"Y\", \"Z\"]})\n",
    "spark_df = spark.createDataFrame(pandas_df)\n",
    "\n",
    "# Add the spark data frame to the catalog\n",
    "spark_df.createOrReplaceTempView('spark_df')\n",
    "\n",
    "spark_df.show()"
   ]
  },
  {
   "cell_type": "code",
   "execution_count": 6,
   "metadata": {
    "pycharm": {
     "name": "#%%\n"
    }
   },
   "outputs": [],
   "source": [
    "# df = data.filter_store(df, \"WI_1\")\n",
    "filterDepartment = FilterDepartment(inputCol=\"FOODS_1\", filterCol=\"dept_id\")"
   ]
  },
  {
   "cell_type": "code",
   "execution_count": 7,
   "metadata": {
    "pycharm": {
     "name": "#%%\n"
    }
   },
   "outputs": [],
   "source": [
    "imputePrice = ImputePrice()\n",
    "negativeSales = NegativeSales(column=\"sales\")\n",
    "aggregate = MonthlyAggregate(columns=[\"store_id\", \"dept_id\", \"year\", \"month\"],\n",
    "                             expressions={\"sales\": \"sum\",\n",
    "                                          \"sell_price\": \"avg\",\n",
    "                                          \"event_name_1\": \"count\",\n",
    "                                          \"event_name_2\": \"count\",\n",
    "                                          \"snap_WI\": \"sum\"}\n",
    "                             )\n",
    "logTransformation = LogTransformation(inputCols=[\"sales\"])\n",
    "lagFeatures = LagFeature(partitionBy=[\"store_id\", \"dept_id\"],\n",
    "                         orderBy=[\"year\", \"month\"],\n",
    "                         lags=[i for i in range(1, 12)],\n",
    "                         target=\"sales\"\n",
    "                         )\n",
    "\n",
    "storeIndexer = StringIndexer(inputCol=\"store_id\", outputCol=\"store_id_index\")\n",
    "yearIndexer = StringIndexer(inputCol=\"year\", outputCol=\"year_index\")"
   ]
  },
  {
   "cell_type": "code",
   "execution_count": 8,
   "metadata": {
    "pycharm": {
     "name": "#%%\n"
    }
   },
   "outputs": [],
   "source": [
    "log.info(\"Initiating pipeline\")\n",
    "transformed = Pipeline(stages=[filterDepartment, imputePrice, negativeSales, aggregate,\n",
    "                               logTransformation, lagFeatures, storeIndexer,\n",
    "                               yearIndexer]).fit(df).transform(df)"
   ]
  },
  {
   "cell_type": "code",
   "execution_count": 9,
   "metadata": {
    "pycharm": {
     "name": "#%%\n"
    }
   },
   "outputs": [],
   "source": [
    "train, test = data.train_test_split(transformed)"
   ]
  },
  {
   "cell_type": "markdown",
   "metadata": {},
   "source": [
    "# XGBoost"
   ]
  },
  {
   "cell_type": "code",
   "execution_count": 10,
   "metadata": {
    "pycharm": {
     "name": "#%%\n"
    }
   },
   "outputs": [
    {
     "name": "stdout",
     "output_type": "stream",
     "text": [
      "Training XGBoost\n",
      "score:                                                                                                                 \n",
      "2.9916431909900405                                                                                                     \n",
      "score:                                                                                                                 \n",
      "6.3183759718282895                                                                                                     \n",
      "score:                                                                                                                 \n",
      "2.9946315615338612                                                                                                     \n",
      "score:                                                                                                                 \n",
      "3.0001932511570852                                                                                                     \n",
      "score:                                                                                                                 \n",
      "3.051619438656472                                                                                                      \n",
      "score:                                                                                                                 \n",
      "3.0045884277171515                                                                                                     \n",
      "score:                                                                                                                 \n",
      "2.9717775172140812                                                                                                     \n",
      "score:                                                                                                                 \n",
      "3.021006989857038                                                                                                      \n",
      "score:                                                                                                                 \n",
      "3.051919099443606                                                                                                      \n",
      "score:                                                                                                                 \n",
      "2.99938062407938                                                                                                       \n",
      "100%|█████████████████████████████████████████████| 10/10 [1:38:47<00:00, 592.79s/trial, best loss: 2.9717775172140812]\n",
      "{'colsample_bytree': 0.7000000000000001, 'eta': 0.2, 'max_depth': 4, 'min_child_weight': 8, 'n_estimators': 66, 'subsample': 0.8}\n"
     ]
    }
   ],
   "source": [
    "inputColumns = [\"store_id_index\", \"month\", \"year_index\", \"event_name_1\", \"event_name_2\", \"sell_price\"]\n",
    "inputColumns.extend([\"lag_{}\".format(i) for i in range(1, 12)])\n",
    "\n",
    "#xgbModel =\n",
    "xgbModel = XGBoost(inputCols=inputColumns, labelCol=\"sales\").fit(train)"
   ]
  },
  {
   "cell_type": "code",
   "execution_count": 12,
   "metadata": {
    "pycharm": {
     "name": "#%%\n"
    }
   },
   "outputs": [
    {
     "name": "stdout",
     "output_type": "stream",
     "text": [
      "+----------+------------------+\n",
      "|prediction|            actual|\n",
      "+----------+------------------+\n",
      "| 3.8714511|3.7662640906519957|\n",
      "|  3.847605| 3.991447598003803|\n",
      "| 3.9086847|3.8987251815894934|\n",
      "| 3.9006307| 4.073571728304925|\n",
      "| 3.9226177| 3.770557474850995|\n",
      "|  3.888113| 3.922154325231059|\n",
      "| 3.7979376|   3.9703933720796|\n",
      "| 3.8614612| 4.006380458549693|\n",
      "| 3.8469942|  4.14674801363064|\n",
      "| 3.9204493|4.1285285037974395|\n",
      "+----------+------------------+\n",
      "only showing top 10 rows\n",
      "\n",
      "None\n"
     ]
    }
   ],
   "source": [
    "pred = xgbModel.transform(test)\n",
    "print(pred.show(10))"
   ]
  },
  {
   "cell_type": "code",
   "execution_count": 17,
   "metadata": {},
   "outputs": [],
   "source": [
    "xgbModel.save(\"XGBoostBestModel\")"
   ]
  },
  {
   "cell_type": "markdown",
   "metadata": {},
   "source": [
    "# Random Forest"
   ]
  },
  {
   "cell_type": "code",
   "execution_count": null,
   "metadata": {},
   "outputs": [],
   "source": []
  }
 ],
 "metadata": {
  "kernelspec": {
   "display_name": "Python 3",
   "language": "python",
   "name": "python3"
  },
  "language_info": {
   "codemirror_mode": {
    "name": "ipython",
    "version": 3
   },
   "file_extension": ".py",
   "mimetype": "text/x-python",
   "name": "python",
   "nbconvert_exporter": "python",
   "pygments_lexer": "ipython3",
   "version": "3.8.8"
  }
 },
 "nbformat": 4,
 "nbformat_minor": 1
}
