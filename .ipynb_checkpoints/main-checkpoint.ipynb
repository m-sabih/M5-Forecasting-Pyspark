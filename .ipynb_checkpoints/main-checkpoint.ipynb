{
 "cells": [
  {
   "cell_type": "code",
   "execution_count": 1,
   "metadata": {},
   "outputs": [],
   "source": [
    "%load_ext autoreload\n",
    "%autoreload 2"
   ]
  },
  {
   "cell_type": "code",
   "execution_count": 2,
   "metadata": {},
   "outputs": [
    {
     "name": "stderr",
     "output_type": "stream",
     "text": [
      "Importing plotly failed. Interactive plots will not work.\n"
     ]
    }
   ],
   "source": [
    "from pyspark.ml.feature import VectorAssembler, StringIndexer\n",
    "from pyspark.sql import SparkSession\n",
    "from pyspark.ml import Pipeline\n",
    "\n",
    "from DataManipulation import DataManipulation\n",
    "from Estimators.XGBoost import XGBoost\n",
    "from Logging import Logging\n",
    "from Transformers.FilterDepartment import FilterDepartment\n",
    "from Transformers.ImputePrice import ImputePrice\n",
    "from Transformers.LagFeature import LagFeature\n",
    "from Transformers.LogTransformation import LogTransformation\n",
    "from Transformers.MonthlyAggregate import MonthlyAggregate\n",
    "from Transformers.NegativeSales import NegativeSales\n",
    "from Estimators.RandomForest import RandomForest\n",
    "from Estimators.ProphetEstimator import ProphetEstimator\n",
    "from pyspark.ml.feature import MinMaxScaler\n",
    "from pyspark.sql.functions import mean, stddev\n",
    "from Transformers.Scaling import Scaling\n",
    "from Evaluator.MAPE import MAPE\n",
    "import pyspark.sql.functions as F\n",
    "import pandas as pd\n",
    "import findspark\n",
    "import sys\n",
    "import warnings\n",
    "\n",
    "if not sys.warnoptions:\n",
    "    warnings.simplefilter(\"ignore\")"
   ]
  },
  {
   "cell_type": "code",
   "execution_count": 3,
   "metadata": {
    "pycharm": {
     "name": "#%%\n"
    }
   },
   "outputs": [],
   "source": [
    "def initialize_session(name):\n",
    "    return SparkSession.builder.master(\"local[*]\").appName(name).\\\n",
    "        config(\"spark.driver.bindAddress\", \"localhost\").\\\n",
    "        config(\"spark.ui.port\", \"4050\").getOrCreate()"
   ]
  },
  {
   "cell_type": "code",
   "execution_count": 4,
   "metadata": {
    "pycharm": {
     "name": "#%%\n"
    }
   },
   "outputs": [],
   "source": [
    "findspark.init()\n",
    "spark = initialize_session(\"Assignment\")\n",
    "spark.conf.set(\"spark.sql.execution.arrow.enabled\", \"true\")\n",
    "log = Logging.getLogger()\n",
    "log.info(\"Initializing session\")\n",
    "\n",
    "data = DataManipulation()\n",
    "df = data.get_data()"
   ]
  },
  {
   "cell_type": "code",
   "execution_count": 5,
   "metadata": {
    "pycharm": {
     "name": "#%%\n"
    }
   },
   "outputs": [],
   "source": [
    "# df = data.filter_store(df, \"WI_1\")\n",
    "filterDepartment = FilterDepartment(inputCol=\"FOODS_1\", filterCol=\"dept_id\")"
   ]
  },
  {
   "cell_type": "code",
   "execution_count": 6,
   "metadata": {
    "pycharm": {
     "name": "#%%\n"
    }
   },
   "outputs": [],
   "source": [
    "imputePrice = ImputePrice()\n",
    "negativeSales = NegativeSales(column=\"sales\")\n",
    "aggregate = MonthlyAggregate(columns=[\"store_id\", \"dept_id\", \"year\", \"month\"],\n",
    "                             expressions={\"sales\": \"sum\",\n",
    "                                          \"sell_price\": \"avg\",\n",
    "                                          \"event_name_1\": \"count\",\n",
    "                                          \"event_name_2\": \"count\",\n",
    "                                          \"snap_WI\": \"sum\"}\n",
    "                             )\n",
    "logTransformation = LogTransformation(inputCols=[\"sales\"])\n",
    "lagFeatures = LagFeature(partitionBy=[\"store_id\", \"dept_id\"],\n",
    "                         orderBy=[\"year\", \"month\"],\n",
    "                         lags=[i for i in range(1, 13)],\n",
    "                         target=\"sales\"\n",
    "                         )\n",
    "\n",
    "storeIndexer = StringIndexer(inputCol=\"store_id\", outputCol=\"store_id_index\")\n",
    "yearIndexer = StringIndexer(inputCol=\"year\", outputCol=\"year_index\")\n",
    "#scaling = Scaling(inputCols=[\"sell_price\"])\n",
    "#scaling1 = Scaling(inputCols=[\"event_name_1\"])\n",
    "#scaling2 = Scaling(inputCols=[\"event_name_2\"])"
   ]
  },
  {
   "cell_type": "code",
   "execution_count": 7,
   "metadata": {
    "pycharm": {
     "name": "#%%\n"
    }
   },
   "outputs": [],
   "source": [
    "inputColumns = [\"store_id_index\", \"month\", \"year_index\", \"event_name_1\", \"event_name_2\", \"sell_price\"]\n",
    "inputColumns.extend([\"lag_{}\".format(i) for i in range(1, 13)])\n",
    "vector = VectorAssembler(inputCols=inputColumns,outputCol=\"features\")"
   ]
  },
  {
   "cell_type": "code",
   "execution_count": 8,
   "metadata": {
    "pycharm": {
     "name": "#%%\n"
    }
   },
   "outputs": [],
   "source": [
    "log.info(\"Initiating pipeline\")\n",
    "transformed = Pipeline(stages=[filterDepartment, imputePrice, negativeSales, aggregate,\n",
    "                               logTransformation, lagFeatures, storeIndexer,\n",
    "                               yearIndexer, vector]).fit(df).transform(df)"
   ]
  },
  {
   "cell_type": "code",
   "execution_count": 9,
   "metadata": {
    "pycharm": {
     "name": "#%%\n"
    }
   },
   "outputs": [],
   "source": [
    "train, test = data.train_test_split(transformed)"
   ]
  },
  {
   "cell_type": "code",
   "execution_count": 8,
   "metadata": {},
   "outputs": [],
   "source": [
    "#train = spark.read.option(\"inferSchema\", \"true\").option(\"header\", \"true\").csv(\"train.csv\")\n",
    "#test = spark.read.option(\"inferSchema\", \"true\").option(\"header\", \"true\").csv(\"test.csv\")"
   ]
  },
  {
   "cell_type": "markdown",
   "metadata": {},
   "source": [
    "# XGBoost"
   ]
  },
  {
   "cell_type": "code",
   "execution_count": 15,
   "metadata": {},
   "outputs": [
    {
     "name": "stdout",
     "output_type": "stream",
     "text": [
      "Training XGBoost\n",
      "score: 0.042476453781381526\n",
      "score:                                                                                                               \n",
      "0.032620789686800794                                                                                                 \n",
      "score:                                                                                                               \n",
      "0.028908502516641784                                                                                                 \n",
      "score:                                                                                                               \n",
      "0.027340361032599115                                                                                                 \n",
      "score:                                                                                                               \n",
      "0.030438058954456934                                                                                                 \n",
      "score:                                                                                                               \n",
      "0.030555239739873317                                                                                                 \n",
      "score:                                                                                                               \n",
      "0.031330489885770016                                                                                                 \n",
      "score:                                                                                                               \n",
      "0.029921368837845616                                                                                                 \n",
      "score:                                                                                                               \n",
      "0.03472214125952135                                                                                                  \n",
      "score:                                                                                                               \n",
      "0.030177695884345646                                                                                                 \n",
      "score:                                                                                                               \n",
      "0.030363551561149994                                                                                                 \n",
      "100%|████████████████████████████████████████████| 10/10 [00:02<00:00,  4.05trial/s, best loss: 0.027340361032599115]\n",
      "{'colsample_bytree': 0.5, 'learning_rate': 0.18, 'max_depth': 1, 'min_child_weight': 140, 'n_estimators': 551, 'subsample': 0.6000000000000001}\n"
     ]
    }
   ],
   "source": [
    "xgbModel = XGBoost(inputCols=inputColumns, labelCol=\"sales\").fit(train)"
   ]
  },
  {
   "cell_type": "code",
   "execution_count": 16,
   "metadata": {
    "pycharm": {
     "name": "#%%\n"
    }
   },
   "outputs": [
    {
     "name": "stdout",
     "output_type": "stream",
     "text": [
      "+-----+----+-----+----------+------------------+\n",
      "|store|year|month|prediction|            actual|\n",
      "+-----+----+-----+----------+------------------+\n",
      "|  0.0| 5.0|    1| 3.8563993|3.7662640906519957|\n",
      "|  0.0| 5.0|    2| 3.8563993| 3.991447598003803|\n",
      "|  0.0| 5.0|    3| 3.8563993|3.8987251815894934|\n",
      "|  0.0| 5.0|    4| 3.8563993| 4.073571728304925|\n",
      "|  0.0| 5.0|    5| 3.8563993| 3.770557474850995|\n",
      "|  1.0| 5.0|    1| 3.8563993| 3.922154325231059|\n",
      "|  1.0| 5.0|    2| 3.8563993|   3.9703933720796|\n",
      "|  1.0| 5.0|    3| 3.8563993| 4.006380458549693|\n",
      "|  1.0| 5.0|    4| 3.8563993|  4.14674801363064|\n",
      "|  1.0| 5.0|    5| 3.8563993|4.1285285037974395|\n",
      "|  2.0| 5.0|    1| 3.8563993|3.8274338954007794|\n",
      "|  2.0| 5.0|    2| 3.8563993|3.8232785569516707|\n",
      "|  2.0| 5.0|    3| 3.8563993|3.9811387826406603|\n",
      "|  2.0| 5.0|    4| 3.8563993| 3.773932647467645|\n",
      "|  2.0| 5.0|    5| 3.8563993| 4.146686055647526|\n",
      "|  3.0| 5.0|    1| 3.8563993| 3.850829959848531|\n",
      "|  3.0| 5.0|    2| 3.8563993| 3.932879457823799|\n",
      "|  3.0| 5.0|    3| 3.8563993|4.1170059966359664|\n",
      "|  3.0| 5.0|    4| 3.8563993|3.8816699076720615|\n",
      "|  3.0| 5.0|    5| 3.8563993| 3.850829959848531|\n",
      "+-----+----+-----+----------+------------------+\n",
      "only showing top 20 rows\n",
      "\n",
      "None\n"
     ]
    }
   ],
   "source": [
    "pred = xgbModel.transform(test)\n",
    "print(pred.show())"
   ]
  },
  {
   "cell_type": "code",
   "execution_count": 18,
   "metadata": {},
   "outputs": [],
   "source": [
    "#pred.repartition(1).write.csv(\"RFresult\", header=\"true\")\n",
    "pred.toPandas().to_csv(\"XGBresult.csv\", header=True, index=False)"
   ]
  },
  {
   "cell_type": "code",
   "execution_count": 17,
   "metadata": {},
   "outputs": [
    {
     "name": "stdout",
     "output_type": "stream",
     "text": [
      "Score:  0.028539248254612275\n"
     ]
    }
   ],
   "source": [
    "mape = MAPE(labelCol=\"actual\", predictionCol=\"prediction\")\n",
    "score = mape.evaluate(pred)\n",
    "print(\"Score: \", score)"
   ]
  },
  {
   "cell_type": "code",
   "execution_count": 19,
   "metadata": {},
   "outputs": [],
   "source": [
    "xgbModel.save(\"XGBoostBestModel\")"
   ]
  },
  {
   "cell_type": "markdown",
   "metadata": {},
   "source": [
    "# Random Forest"
   ]
  },
  {
   "cell_type": "code",
   "execution_count": 26,
   "metadata": {
    "pycharm": {
     "is_executing": true
    }
   },
   "outputs": [
    {
     "name": "stdout",
     "output_type": "stream",
     "text": [
      "Training Random Forest\n",
      "score: 0.010931220998669416\n",
      "score:                                                                                                               \n",
      "0.030190120390308016                                                                                                 \n",
      "score:                                                                                                               \n",
      "0.030396800602553765                                                                                                 \n",
      "score:                                                                                                               \n",
      "0.011024392406822415                                                                                                 \n",
      "score:                                                                                                               \n",
      "0.03021033623642931                                                                                                  \n",
      "score:                                                                                                               \n",
      "0.03023710361648497                                                                                                    \n",
      "score:                                                                                                                 \n",
      "0.030145204838088375                                                                                                   \n",
      "score:                                                                                                                 \n",
      "0.030187511455735016                                                                                                   \n",
      "score:                                                                                                                 \n",
      "0.030339283456920104                                                                                                   \n",
      "score:                                                                                                                 \n",
      "0.030294416743126027                                                                                                   \n",
      "score:                                                                                                                 \n",
      "0.03033671447029682                                                                                                    \n",
      "100%|█████████████████████████████████████████████| 10/10 [34:48<00:00, 208.82s/trial, best loss: 0.011024392406822415]\n",
      "{'maxBins': 73.0, 'maxDepth': 6.0, 'minInfoGain': 0.0, 'numTrees': 155.0, 'subsamplingRate': 0.9}\n"
     ]
    }
   ],
   "source": [
    "rfModel = RandomForest(featuresCol=\"features\", labelCol=\"sales\").fit(train)"
   ]
  },
  {
   "cell_type": "code",
   "execution_count": 27,
   "metadata": {
    "pycharm": {
     "name": "#%%\n"
    }
   },
   "outputs": [
    {
     "name": "stdout",
     "output_type": "stream",
     "text": [
      "+--------+----+-----+------------------+------------------+\n",
      "|store_id|year|month|             sales|        prediction|\n",
      "+--------+----+-----+------------------+------------------+\n",
      "|    CA_1|2016|    1| 3.959089114367392|3.9705157543934466|\n",
      "|    CA_1|2016|    2|3.9631264410819047|3.9676277267533813|\n",
      "|    CA_1|2016|    3| 4.006380458549693|3.9667071590597844|\n",
      "|    CA_1|2016|    4|  3.95525468282018| 3.982620703180685|\n",
      "|    CA_1|2016|    5|  3.88058495606498|3.9863100982005246|\n",
      "|    CA_2|2016|    1|  4.14674801363064| 4.074364171863007|\n",
      "|    CA_2|2016|    2| 4.104282207094438| 4.075550791931293|\n",
      "|    CA_2|2016|    3| 4.121428518367963| 4.057472623526878|\n",
      "|    CA_2|2016|    4| 4.146686055647526| 4.062845940921025|\n",
      "|    CA_2|2016|    5| 4.073571728304925| 4.070152647635027|\n",
      "|    CA_3|2016|    1| 4.172369376763842| 4.065421247590753|\n",
      "|    CA_3|2016|    2|4.1285285037974395| 4.073434137599054|\n",
      "|    CA_3|2016|    3|4.1170059966359664| 4.061250096710981|\n",
      "|    CA_3|2016|    4| 4.066102196766773| 4.060429485477689|\n",
      "|    CA_3|2016|    5| 4.023705042622037| 4.046444328678632|\n",
      "|    CA_4|2016|    1|3.8274338954007794|3.8731350651279106|\n",
      "|    CA_4|2016|    2|3.7754648093457392|3.8743242284098094|\n",
      "|    CA_4|2016|    3| 3.850829959848531|3.8406670858328447|\n",
      "|    CA_4|2016|    4|3.8227563329513905|  3.83903692895831|\n",
      "|    CA_4|2016|    5| 3.770557474850995|3.8527576125544782|\n",
      "+--------+----+-----+------------------+------------------+\n",
      "only showing top 20 rows\n",
      "\n"
     ]
    }
   ],
   "source": [
    "predRf = rfModel.transform(test)\n",
    "predRf.select(\"store_id\", \"year\", \"month\", \"sales\", \"prediction\").show()"
   ]
  },
  {
   "cell_type": "code",
   "execution_count": 28,
   "metadata": {},
   "outputs": [],
   "source": [
    "RFresult = predRf.select(\"store_id\", \"year\", \"month\", \"sales\", \"prediction\")\n",
    "#RFresult.repartition(1).write.csv(\"RFresult\", header=\"true\")\n",
    "result = RFresult.toPandas()"
   ]
  },
  {
   "cell_type": "code",
   "execution_count": 29,
   "metadata": {},
   "outputs": [],
   "source": [
    "result.to_csv(\"RFresult.csv\",header=True, index=False)"
   ]
  },
  {
   "cell_type": "code",
   "execution_count": 30,
   "metadata": {},
   "outputs": [
    {
     "name": "stdout",
     "output_type": "stream",
     "text": [
      "Score:  0.010473321067061045\n"
     ]
    }
   ],
   "source": [
    "mape = MAPE(labelCol=\"sales\", predictionCol=\"prediction\")\n",
    "score = mape.evaluate(predRf)\n",
    "print(\"Score: \", score)"
   ]
  },
  {
   "cell_type": "markdown",
   "metadata": {},
   "source": [
    "# Prophet"
   ]
  },
  {
   "cell_type": "code",
   "execution_count": 11,
   "metadata": {},
   "outputs": [],
   "source": [
    "transformedProphet = transformed.withColumn(\"ds\", F.to_date(F.concat_ws(\"-\", \"Year\",\"month\")))\n",
    "trainProphet, testProphet = data.train_test_split(transformedProphet)"
   ]
  },
  {
   "cell_type": "code",
   "execution_count": 12,
   "metadata": {},
   "outputs": [],
   "source": [
    "def getStores(data):\n",
    "    storesName = data.select(\"store_id\").distinct().collect()\n",
    "    stores = {}\n",
    "    for store in storesName:\n",
    "        stores[store.store_id] = data.filter(df[\"store_id\"] == store.store_id)    \n",
    "    return stores"
   ]
  },
  {
   "cell_type": "code",
   "execution_count": 13,
   "metadata": {},
   "outputs": [],
   "source": [
    "trainStores = getStores(trainProphet)\n",
    "testStores = getStores(testProphet)"
   ]
  },
  {
   "cell_type": "code",
   "execution_count": 14,
   "metadata": {},
   "outputs": [],
   "source": [
    "#prophetModel = ProphetEstimator(labelCol=\"sales\").fit(trainStores[\"WI_2\"])\n",
    "#pred = prophetModel.transform(testStores[\"WI_2\"])\n",
    "#pred.show()"
   ]
  },
  {
   "cell_type": "code",
   "execution_count": 15,
   "metadata": {},
   "outputs": [
    {
     "name": "stdout",
     "output_type": "stream",
     "text": [
      "Training Prophet\n"
     ]
    },
    {
     "name": "stderr",
     "output_type": "stream",
     "text": [
      "INFO:fbprophet:Disabling weekly seasonality. Run prophet with weekly_seasonality=True to override this.\n",
      "INFO:fbprophet:Disabling daily seasonality. Run prophet with daily_seasonality=True to override this.\n"
     ]
    },
    {
     "name": "stdout",
     "output_type": "stream",
     "text": [
      "score: 0.018402331270018394\n",
      "\r",
      "  0%|                                                                            | 0/5 [00:00<?, ?trial/s, best loss=?]"
     ]
    },
    {
     "name": "stderr",
     "output_type": "stream",
     "text": [
      "INFO:hyperopt.tpe:build_posterior_wrapper took 0.000000 seconds\n",
      "INFO:hyperopt.tpe:TPE using 0 trials\n",
      "INFO:fbprophet:Disabling weekly seasonality. Run prophet with weekly_seasonality=True to override this.\n",
      "INFO:fbprophet:Disabling daily seasonality. Run prophet with daily_seasonality=True to override this.\n"
     ]
    },
    {
     "name": "stdout",
     "output_type": "stream",
     "text": [
      "score:                                                                                                                 \n",
      "0.015897449170829973                                                                                                   \n",
      " 20%|█████████▌                                      | 1/5 [00:02<00:08,  2.24s/trial, best loss: 0.015897449170829973]"
     ]
    },
    {
     "name": "stderr",
     "output_type": "stream",
     "text": [
      "INFO:hyperopt.tpe:build_posterior_wrapper took 0.000000 seconds\n",
      "INFO:hyperopt.tpe:TPE using 1/1 trials with best loss 0.015897\n",
      "INFO:fbprophet:Disabling weekly seasonality. Run prophet with weekly_seasonality=True to override this.\n",
      "INFO:fbprophet:Disabling daily seasonality. Run prophet with daily_seasonality=True to override this.\n",
      "INFO:fbprophet:n_changepoints greater than number of observations. Using 37.\n"
     ]
    },
    {
     "name": "stdout",
     "output_type": "stream",
     "text": [
      "score:                                                                                                                 \n",
      "0.03746208071161486                                                                                                    \n",
      " 40%|███████████████████▏                            | 2/5 [00:46<01:21, 27.09s/trial, best loss: 0.015897449170829973]"
     ]
    },
    {
     "name": "stderr",
     "output_type": "stream",
     "text": [
      "INFO:hyperopt.tpe:build_posterior_wrapper took 0.000000 seconds\n",
      "INFO:hyperopt.tpe:TPE using 2/2 trials with best loss 0.015897\n",
      "INFO:fbprophet:Disabling weekly seasonality. Run prophet with weekly_seasonality=True to override this.\n",
      "INFO:fbprophet:Disabling daily seasonality. Run prophet with daily_seasonality=True to override this.\n"
     ]
    },
    {
     "name": "stdout",
     "output_type": "stream",
     "text": [
      "score:                                                                                                                 \n",
      "0.01240285428835003                                                                                                    \n",
      " 60%|█████████████████████████████▍                   | 3/5 [00:50<00:32, 16.30s/trial, best loss: 0.01240285428835003]"
     ]
    },
    {
     "name": "stderr",
     "output_type": "stream",
     "text": [
      "INFO:hyperopt.tpe:build_posterior_wrapper took 0.000000 seconds\n",
      "INFO:hyperopt.tpe:TPE using 3/3 trials with best loss 0.012403\n",
      "INFO:fbprophet:Disabling weekly seasonality. Run prophet with weekly_seasonality=True to override this.\n",
      "INFO:fbprophet:Disabling daily seasonality. Run prophet with daily_seasonality=True to override this.\n"
     ]
    },
    {
     "name": "stdout",
     "output_type": "stream",
     "text": [
      "score:                                                                                                                 \n",
      "0.0154774406696688                                                                                                     \n",
      " 80%|███████████████████████████████████████▏         | 4/5 [00:52<00:10, 10.64s/trial, best loss: 0.01240285428835003]"
     ]
    },
    {
     "name": "stderr",
     "output_type": "stream",
     "text": [
      "INFO:hyperopt.tpe:build_posterior_wrapper took 0.000000 seconds\n",
      "INFO:hyperopt.tpe:TPE using 4/4 trials with best loss 0.012403\n",
      "INFO:fbprophet:Disabling weekly seasonality. Run prophet with weekly_seasonality=True to override this.\n",
      "INFO:fbprophet:Disabling daily seasonality. Run prophet with daily_seasonality=True to override this.\n"
     ]
    },
    {
     "name": "stdout",
     "output_type": "stream",
     "text": [
      "score:                                                                                                                 \n",
      "0.01617318487791192                                                                                                    \n",
      "100%|█████████████████████████████████████████████████| 5/5 [00:55<00:00, 11.08s/trial, best loss: 0.01240285428835003]\n",
      "{'changepoint_prior_scale': 0.30000000000000004, 'holidays_prior_scale': 0.2, 'n_changepoints': 25}\n"
     ]
    },
    {
     "name": "stderr",
     "output_type": "stream",
     "text": [
      "INFO:fbprophet:Disabling weekly seasonality. Run prophet with weekly_seasonality=True to override this.\n",
      "INFO:fbprophet:Disabling daily seasonality. Run prophet with daily_seasonality=True to override this.\n"
     ]
    },
    {
     "name": "stdout",
     "output_type": "stream",
     "text": [
      "Training Prophet\n"
     ]
    },
    {
     "name": "stderr",
     "output_type": "stream",
     "text": [
      "INFO:fbprophet:Disabling weekly seasonality. Run prophet with weekly_seasonality=True to override this.\n",
      "INFO:fbprophet:Disabling daily seasonality. Run prophet with daily_seasonality=True to override this.\n"
     ]
    },
    {
     "name": "stdout",
     "output_type": "stream",
     "text": [
      "score: 0.0585131485655536\n",
      "\r",
      "  0%|                                                                            | 0/5 [00:00<?, ?trial/s, best loss=?]"
     ]
    },
    {
     "name": "stderr",
     "output_type": "stream",
     "text": [
      "INFO:hyperopt.tpe:build_posterior_wrapper took 0.000000 seconds\n",
      "INFO:hyperopt.tpe:TPE using 0 trials\n",
      "INFO:fbprophet:Disabling weekly seasonality. Run prophet with weekly_seasonality=True to override this.\n",
      "INFO:fbprophet:Disabling daily seasonality. Run prophet with daily_seasonality=True to override this.\n"
     ]
    },
    {
     "name": "stdout",
     "output_type": "stream",
     "text": [
      "score:                                                                                                                 \n",
      "0.02723238927569095                                                                                                    \n",
      " 20%|█████████▊                                       | 1/5 [00:47<03:11, 47.91s/trial, best loss: 0.02723238927569095]"
     ]
    },
    {
     "name": "stderr",
     "output_type": "stream",
     "text": [
      "INFO:hyperopt.tpe:build_posterior_wrapper took 0.015605 seconds\n",
      "INFO:hyperopt.tpe:TPE using 1/1 trials with best loss 0.027232\n",
      "INFO:fbprophet:Disabling weekly seasonality. Run prophet with weekly_seasonality=True to override this.\n",
      "INFO:fbprophet:Disabling daily seasonality. Run prophet with daily_seasonality=True to override this.\n"
     ]
    },
    {
     "name": "stdout",
     "output_type": "stream",
     "text": [
      "score:                                                                                                                 \n",
      "0.03481743945066771                                                                                                    \n",
      " 40%|███████████████████▌                             | 2/5 [00:49<01:02, 20.77s/trial, best loss: 0.02723238927569095]"
     ]
    },
    {
     "name": "stderr",
     "output_type": "stream",
     "text": [
      "INFO:hyperopt.tpe:build_posterior_wrapper took 0.000000 seconds\n",
      "INFO:hyperopt.tpe:TPE using 2/2 trials with best loss 0.027232\n",
      "INFO:fbprophet:Disabling weekly seasonality. Run prophet with weekly_seasonality=True to override this.\n",
      "INFO:fbprophet:Disabling daily seasonality. Run prophet with daily_seasonality=True to override this.\n"
     ]
    },
    {
     "name": "stdout",
     "output_type": "stream",
     "text": [
      "score:                                                                                                                 \n",
      "0.03039688957811736                                                                                                    \n",
      " 60%|█████████████████████████████▍                   | 3/5 [00:52<00:25, 12.53s/trial, best loss: 0.02723238927569095]"
     ]
    },
    {
     "name": "stderr",
     "output_type": "stream",
     "text": [
      "INFO:hyperopt.tpe:build_posterior_wrapper took 0.000000 seconds\n",
      "INFO:hyperopt.tpe:TPE using 3/3 trials with best loss 0.027232\n",
      "INFO:fbprophet:Disabling weekly seasonality. Run prophet with weekly_seasonality=True to override this.\n",
      "INFO:fbprophet:Disabling daily seasonality. Run prophet with daily_seasonality=True to override this.\n"
     ]
    },
    {
     "name": "stdout",
     "output_type": "stream",
     "text": [
      "score:                                                                                                                 \n",
      "0.02553126660941374                                                                                                    \n",
      " 80%|███████████████████████████████████████▏         | 4/5 [01:39<00:26, 26.31s/trial, best loss: 0.02553126660941374]"
     ]
    },
    {
     "name": "stderr",
     "output_type": "stream",
     "text": [
      "INFO:hyperopt.tpe:build_posterior_wrapper took 0.000000 seconds\n",
      "INFO:hyperopt.tpe:TPE using 4/4 trials with best loss 0.025531\n",
      "INFO:fbprophet:Disabling weekly seasonality. Run prophet with weekly_seasonality=True to override this.\n",
      "INFO:fbprophet:Disabling daily seasonality. Run prophet with daily_seasonality=True to override this.\n"
     ]
    },
    {
     "name": "stdout",
     "output_type": "stream",
     "text": [
      "score:                                                                                                                 \n",
      "0.05373016650665643                                                                                                    \n",
      "100%|█████████████████████████████████████████████████| 5/5 [02:22<00:00, 28.47s/trial, best loss: 0.02553126660941374]\n",
      "{'changepoint_prior_scale': 0.30000000000000004, 'holidays_prior_scale': 0.30000000000000004, 'n_changepoints': 35}\n"
     ]
    },
    {
     "name": "stderr",
     "output_type": "stream",
     "text": [
      "INFO:fbprophet:Disabling weekly seasonality. Run prophet with weekly_seasonality=True to override this.\n",
      "INFO:fbprophet:Disabling daily seasonality. Run prophet with daily_seasonality=True to override this.\n"
     ]
    },
    {
     "name": "stdout",
     "output_type": "stream",
     "text": [
      "Training Prophet\n"
     ]
    },
    {
     "name": "stderr",
     "output_type": "stream",
     "text": [
      "INFO:fbprophet:Disabling weekly seasonality. Run prophet with weekly_seasonality=True to override this.\n",
      "INFO:fbprophet:Disabling daily seasonality. Run prophet with daily_seasonality=True to override this.\n"
     ]
    },
    {
     "name": "stdout",
     "output_type": "stream",
     "text": [
      "score: 0.026729855997590205\n",
      "\r",
      "  0%|                                                                            | 0/5 [00:00<?, ?trial/s, best loss=?]"
     ]
    },
    {
     "name": "stderr",
     "output_type": "stream",
     "text": [
      "INFO:hyperopt.tpe:build_posterior_wrapper took 0.000000 seconds\n",
      "INFO:hyperopt.tpe:TPE using 0 trials\n",
      "INFO:fbprophet:Disabling weekly seasonality. Run prophet with weekly_seasonality=True to override this.\n",
      "INFO:fbprophet:Disabling daily seasonality. Run prophet with daily_seasonality=True to override this.\n"
     ]
    },
    {
     "name": "stdout",
     "output_type": "stream",
     "text": [
      "score:                                                                                                                 \n",
      "0.02052824214315092                                                                                                    \n",
      " 20%|█████████▊                                       | 1/5 [00:01<00:07,  1.76s/trial, best loss: 0.02052824214315092]"
     ]
    },
    {
     "name": "stderr",
     "output_type": "stream",
     "text": [
      "INFO:hyperopt.tpe:build_posterior_wrapper took 0.000000 seconds\n",
      "INFO:hyperopt.tpe:TPE using 1/1 trials with best loss 0.020528\n",
      "INFO:fbprophet:Disabling weekly seasonality. Run prophet with weekly_seasonality=True to override this.\n",
      "INFO:fbprophet:Disabling daily seasonality. Run prophet with daily_seasonality=True to override this.\n"
     ]
    },
    {
     "name": "stdout",
     "output_type": "stream",
     "text": [
      "score:                                                                                                                 \n",
      "0.017881947026712395                                                                                                   \n",
      " 40%|███████████████████▏                            | 2/5 [00:05<00:09,  3.07s/trial, best loss: 0.017881947026712395]"
     ]
    },
    {
     "name": "stderr",
     "output_type": "stream",
     "text": [
      "INFO:hyperopt.tpe:build_posterior_wrapper took 0.000000 seconds\n",
      "INFO:hyperopt.tpe:TPE using 2/2 trials with best loss 0.017882\n",
      "INFO:fbprophet:Disabling weekly seasonality. Run prophet with weekly_seasonality=True to override this.\n",
      "INFO:fbprophet:Disabling daily seasonality. Run prophet with daily_seasonality=True to override this.\n",
      "INFO:fbprophet:n_changepoints greater than number of observations. Using 37.\n"
     ]
    },
    {
     "name": "stdout",
     "output_type": "stream",
     "text": [
      "score:                                                                                                                 \n",
      "0.09821415767074011                                                                                                    \n",
      " 60%|████████████████████████████▊                   | 3/5 [00:57<00:50, 25.27s/trial, best loss: 0.017881947026712395]"
     ]
    },
    {
     "name": "stderr",
     "output_type": "stream",
     "text": [
      "INFO:hyperopt.tpe:build_posterior_wrapper took 0.000000 seconds\n",
      "INFO:hyperopt.tpe:TPE using 3/3 trials with best loss 0.017882\n",
      "INFO:fbprophet:Disabling weekly seasonality. Run prophet with weekly_seasonality=True to override this.\n",
      "INFO:fbprophet:Disabling daily seasonality. Run prophet with daily_seasonality=True to override this.\n",
      "INFO:fbprophet:n_changepoints greater than number of observations. Using 37.\n"
     ]
    },
    {
     "name": "stdout",
     "output_type": "stream",
     "text": [
      "score:                                                                                                                 \n",
      "0.03897143328234495                                                                                                    \n",
      " 80%|██████████████████████████████████████▍         | 4/5 [01:48<00:35, 35.29s/trial, best loss: 0.017881947026712395]"
     ]
    },
    {
     "name": "stderr",
     "output_type": "stream",
     "text": [
      "INFO:hyperopt.tpe:build_posterior_wrapper took 0.000000 seconds\n",
      "INFO:hyperopt.tpe:TPE using 4/4 trials with best loss 0.017882\n",
      "INFO:fbprophet:Disabling weekly seasonality. Run prophet with weekly_seasonality=True to override this.\n",
      "INFO:fbprophet:Disabling daily seasonality. Run prophet with daily_seasonality=True to override this.\n",
      "INFO:fbprophet:n_changepoints greater than number of observations. Using 37.\n"
     ]
    },
    {
     "name": "stdout",
     "output_type": "stream",
     "text": [
      "score:                                                                                                                 \n",
      "0.017916345893343153                                                                                                   \n",
      "100%|████████████████████████████████████████████████| 5/5 [01:53<00:00, 22.60s/trial, best loss: 0.017881947026712395]\n",
      "{'changepoint_prior_scale': 0.2, 'holidays_prior_scale': 0.2, 'n_changepoints': 30}\n"
     ]
    },
    {
     "name": "stderr",
     "output_type": "stream",
     "text": [
      "INFO:fbprophet:Disabling weekly seasonality. Run prophet with weekly_seasonality=True to override this.\n",
      "INFO:fbprophet:Disabling daily seasonality. Run prophet with daily_seasonality=True to override this.\n"
     ]
    },
    {
     "name": "stdout",
     "output_type": "stream",
     "text": [
      "Training Prophet\n"
     ]
    },
    {
     "name": "stderr",
     "output_type": "stream",
     "text": [
      "INFO:fbprophet:Disabling weekly seasonality. Run prophet with weekly_seasonality=True to override this.\n",
      "INFO:fbprophet:Disabling daily seasonality. Run prophet with daily_seasonality=True to override this.\n"
     ]
    },
    {
     "name": "stdout",
     "output_type": "stream",
     "text": [
      "score: 0.016392109137133935\n",
      "\r",
      "  0%|                                                                            | 0/5 [00:00<?, ?trial/s, best loss=?]"
     ]
    },
    {
     "name": "stderr",
     "output_type": "stream",
     "text": [
      "INFO:hyperopt.tpe:build_posterior_wrapper took 0.000000 seconds\n",
      "INFO:hyperopt.tpe:TPE using 0 trials\n",
      "INFO:fbprophet:Disabling weekly seasonality. Run prophet with weekly_seasonality=True to override this.\n",
      "INFO:fbprophet:Disabling daily seasonality. Run prophet with daily_seasonality=True to override this.\n"
     ]
    },
    {
     "name": "stdout",
     "output_type": "stream",
     "text": [
      "score:                                                                                                                 \n",
      "0.009639574191335598                                                                                                   \n",
      " 20%|█████████▌                                      | 1/5 [00:48<03:15, 48.80s/trial, best loss: 0.009639574191335598]"
     ]
    },
    {
     "name": "stderr",
     "output_type": "stream",
     "text": [
      "INFO:hyperopt.tpe:build_posterior_wrapper took 0.000000 seconds\n",
      "INFO:hyperopt.tpe:TPE using 1/1 trials with best loss 0.009640\n",
      "INFO:fbprophet:Disabling weekly seasonality. Run prophet with weekly_seasonality=True to override this.\n",
      "INFO:fbprophet:Disabling daily seasonality. Run prophet with daily_seasonality=True to override this.\n",
      "INFO:fbprophet:n_changepoints greater than number of observations. Using 37.\n"
     ]
    },
    {
     "name": "stdout",
     "output_type": "stream",
     "text": [
      "score:                                                                                                                 \n",
      "0.027084453329055475                                                                                                   \n",
      " 40%|███████████████████▏                            | 2/5 [01:38<02:28, 49.38s/trial, best loss: 0.009639574191335598]"
     ]
    },
    {
     "name": "stderr",
     "output_type": "stream",
     "text": [
      "INFO:hyperopt.tpe:build_posterior_wrapper took 0.000000 seconds\n",
      "INFO:hyperopt.tpe:TPE using 2/2 trials with best loss 0.009640\n",
      "INFO:fbprophet:Disabling weekly seasonality. Run prophet with weekly_seasonality=True to override this.\n",
      "INFO:fbprophet:Disabling daily seasonality. Run prophet with daily_seasonality=True to override this.\n"
     ]
    },
    {
     "name": "stdout",
     "output_type": "stream",
     "text": [
      "score:                                                                                                                 \n",
      "0.13510338305792968                                                                                                    \n",
      " 60%|████████████████████████████▊                   | 3/5 [01:40<00:55, 27.80s/trial, best loss: 0.009639574191335598]"
     ]
    },
    {
     "name": "stderr",
     "output_type": "stream",
     "text": [
      "INFO:hyperopt.tpe:build_posterior_wrapper took 0.000000 seconds\n",
      "INFO:hyperopt.tpe:TPE using 3/3 trials with best loss 0.009640\n",
      "INFO:fbprophet:Disabling weekly seasonality. Run prophet with weekly_seasonality=True to override this.\n",
      "INFO:fbprophet:Disabling daily seasonality. Run prophet with daily_seasonality=True to override this.\n"
     ]
    },
    {
     "name": "stdout",
     "output_type": "stream",
     "text": [
      "score:                                                                                                                 \n",
      "0.009639574191335598                                                                                                   \n",
      " 80%|██████████████████████████████████████▍         | 4/5 [02:28<00:35, 35.57s/trial, best loss: 0.009639574191335598]"
     ]
    },
    {
     "name": "stderr",
     "output_type": "stream",
     "text": [
      "INFO:hyperopt.tpe:build_posterior_wrapper took 0.000000 seconds\n",
      "INFO:hyperopt.tpe:TPE using 4/4 trials with best loss 0.009640\n",
      "INFO:fbprophet:Disabling weekly seasonality. Run prophet with weekly_seasonality=True to override this.\n",
      "INFO:fbprophet:Disabling daily seasonality. Run prophet with daily_seasonality=True to override this.\n"
     ]
    },
    {
     "name": "stdout",
     "output_type": "stream",
     "text": [
      "score:                                                                                                                 \n",
      "0.02123780547825793                                                                                                    \n",
      "100%|████████████████████████████████████████████████| 5/5 [02:31<00:00, 30.30s/trial, best loss: 0.009639574191335598]\n",
      "{'changepoint_prior_scale': 0.30000000000000004, 'holidays_prior_scale': 0.6, 'n_changepoints': 35}\n"
     ]
    },
    {
     "name": "stderr",
     "output_type": "stream",
     "text": [
      "INFO:fbprophet:Disabling weekly seasonality. Run prophet with weekly_seasonality=True to override this.\n",
      "INFO:fbprophet:Disabling daily seasonality. Run prophet with daily_seasonality=True to override this.\n"
     ]
    },
    {
     "name": "stdout",
     "output_type": "stream",
     "text": [
      "Training Prophet\n"
     ]
    },
    {
     "name": "stderr",
     "output_type": "stream",
     "text": [
      "INFO:fbprophet:Disabling weekly seasonality. Run prophet with weekly_seasonality=True to override this.\n",
      "INFO:fbprophet:Disabling daily seasonality. Run prophet with daily_seasonality=True to override this.\n"
     ]
    },
    {
     "name": "stdout",
     "output_type": "stream",
     "text": [
      "score: 0.025418223187866296\n",
      "\r",
      "  0%|                                                                            | 0/5 [00:00<?, ?trial/s, best loss=?]"
     ]
    },
    {
     "name": "stderr",
     "output_type": "stream",
     "text": [
      "INFO:hyperopt.tpe:build_posterior_wrapper took 0.000000 seconds\n",
      "INFO:hyperopt.tpe:TPE using 0 trials\n",
      "INFO:fbprophet:Disabling weekly seasonality. Run prophet with weekly_seasonality=True to override this.\n",
      "INFO:fbprophet:Disabling daily seasonality. Run prophet with daily_seasonality=True to override this.\n"
     ]
    },
    {
     "name": "stdout",
     "output_type": "stream",
     "text": [
      "score:                                                                                                                 \n",
      "0.022877780534841376                                                                                                   \n",
      " 20%|█████████▌                                      | 1/5 [00:01<00:06,  1.60s/trial, best loss: 0.022877780534841376]"
     ]
    },
    {
     "name": "stderr",
     "output_type": "stream",
     "text": [
      "INFO:hyperopt.tpe:build_posterior_wrapper took 0.000000 seconds\n",
      "INFO:hyperopt.tpe:TPE using 1/1 trials with best loss 0.022878\n",
      "INFO:fbprophet:Disabling weekly seasonality. Run prophet with weekly_seasonality=True to override this.\n",
      "INFO:fbprophet:Disabling daily seasonality. Run prophet with daily_seasonality=True to override this.\n"
     ]
    },
    {
     "name": "stdout",
     "output_type": "stream",
     "text": [
      "score:                                                                                                                 \n",
      "0.020667266383034413                                                                                                   \n",
      " 40%|███████████████████▏                            | 2/5 [00:04<00:07,  2.44s/trial, best loss: 0.020667266383034413]"
     ]
    },
    {
     "name": "stderr",
     "output_type": "stream",
     "text": [
      "INFO:hyperopt.tpe:build_posterior_wrapper took 0.000000 seconds\n",
      "INFO:hyperopt.tpe:TPE using 2/2 trials with best loss 0.020667\n",
      "INFO:fbprophet:Disabling weekly seasonality. Run prophet with weekly_seasonality=True to override this.\n",
      "INFO:fbprophet:Disabling daily seasonality. Run prophet with daily_seasonality=True to override this.\n",
      "INFO:fbprophet:n_changepoints greater than number of observations. Using 37.\n"
     ]
    },
    {
     "name": "stdout",
     "output_type": "stream",
     "text": [
      "score:                                                                                                                 \n",
      "0.059526444770449015                                                                                                   \n",
      " 60%|████████████████████████████▊                   | 3/5 [01:02<00:55, 27.93s/trial, best loss: 0.020667266383034413]"
     ]
    },
    {
     "name": "stderr",
     "output_type": "stream",
     "text": [
      "INFO:hyperopt.tpe:build_posterior_wrapper took 0.000000 seconds\n",
      "INFO:hyperopt.tpe:TPE using 3/3 trials with best loss 0.020667\n",
      "INFO:fbprophet:Disabling weekly seasonality. Run prophet with weekly_seasonality=True to override this.\n",
      "INFO:fbprophet:Disabling daily seasonality. Run prophet with daily_seasonality=True to override this.\n",
      "INFO:fbprophet:n_changepoints greater than number of observations. Using 37.\n"
     ]
    },
    {
     "name": "stdout",
     "output_type": "stream",
     "text": [
      "score:                                                                                                                 \n",
      "0.016827351564676806                                                                                                   \n",
      " 80%|██████████████████████████████████████▍         | 4/5 [01:52<00:36, 36.54s/trial, best loss: 0.016827351564676806]"
     ]
    },
    {
     "name": "stderr",
     "output_type": "stream",
     "text": [
      "INFO:hyperopt.tpe:build_posterior_wrapper took 0.000000 seconds\n",
      "INFO:hyperopt.tpe:TPE using 4/4 trials with best loss 0.016827\n",
      "INFO:fbprophet:Disabling weekly seasonality. Run prophet with weekly_seasonality=True to override this.\n",
      "INFO:fbprophet:Disabling daily seasonality. Run prophet with daily_seasonality=True to override this.\n"
     ]
    },
    {
     "name": "stdout",
     "output_type": "stream",
     "text": [
      "score:                                                                                                                 \n",
      "0.13841305465481804                                                                                                    \n",
      "100%|████████████████████████████████████████████████| 5/5 [01:55<00:00, 23.07s/trial, best loss: 0.016827351564676806]\n",
      "{'changepoint_prior_scale': 0.5000000000000001, 'holidays_prior_scale': 0.2, 'n_changepoints': 45}\n"
     ]
    },
    {
     "name": "stderr",
     "output_type": "stream",
     "text": [
      "INFO:fbprophet:Disabling weekly seasonality. Run prophet with weekly_seasonality=True to override this.\n",
      "INFO:fbprophet:Disabling daily seasonality. Run prophet with daily_seasonality=True to override this.\n"
     ]
    },
    {
     "name": "stdout",
     "output_type": "stream",
     "text": [
      "Training Prophet\n"
     ]
    },
    {
     "name": "stderr",
     "output_type": "stream",
     "text": [
      "INFO:fbprophet:Disabling weekly seasonality. Run prophet with weekly_seasonality=True to override this.\n",
      "INFO:fbprophet:Disabling daily seasonality. Run prophet with daily_seasonality=True to override this.\n"
     ]
    },
    {
     "name": "stdout",
     "output_type": "stream",
     "text": [
      "score: 0.021003632912945356\n",
      "\r",
      "  0%|                                                                            | 0/5 [00:00<?, ?trial/s, best loss=?]"
     ]
    },
    {
     "name": "stderr",
     "output_type": "stream",
     "text": [
      "INFO:hyperopt.tpe:build_posterior_wrapper took 0.000999 seconds\n",
      "INFO:hyperopt.tpe:TPE using 0 trials\n",
      "INFO:fbprophet:Disabling weekly seasonality. Run prophet with weekly_seasonality=True to override this.\n",
      "INFO:fbprophet:Disabling daily seasonality. Run prophet with daily_seasonality=True to override this.\n"
     ]
    },
    {
     "name": "stdout",
     "output_type": "stream",
     "text": [
      "score:                                                                                                                 \n",
      "0.01085824250191221                                                                                                    \n",
      " 20%|█████████▊                                       | 1/5 [00:42<02:48, 42.16s/trial, best loss: 0.01085824250191221]"
     ]
    },
    {
     "name": "stderr",
     "output_type": "stream",
     "text": [
      "INFO:hyperopt.tpe:build_posterior_wrapper took 0.001994 seconds\n",
      "INFO:hyperopt.tpe:TPE using 1/1 trials with best loss 0.010858\n",
      "INFO:fbprophet:Disabling weekly seasonality. Run prophet with weekly_seasonality=True to override this.\n",
      "INFO:fbprophet:Disabling daily seasonality. Run prophet with daily_seasonality=True to override this.\n"
     ]
    },
    {
     "name": "stdout",
     "output_type": "stream",
     "text": [
      "score:                                                                                                                 \n",
      "0.010173914117431461                                                                                                   \n",
      " 40%|███████████████████▏                            | 2/5 [00:45<00:57, 19.32s/trial, best loss: 0.010173914117431461]"
     ]
    },
    {
     "name": "stderr",
     "output_type": "stream",
     "text": [
      "INFO:hyperopt.tpe:build_posterior_wrapper took 0.001999 seconds\n",
      "INFO:hyperopt.tpe:TPE using 2/2 trials with best loss 0.010174\n",
      "INFO:fbprophet:Disabling weekly seasonality. Run prophet with weekly_seasonality=True to override this.\n",
      "INFO:fbprophet:Disabling daily seasonality. Run prophet with daily_seasonality=True to override this.\n"
     ]
    },
    {
     "name": "stdout",
     "output_type": "stream",
     "text": [
      "score:                                                                                                                 \n",
      "0.05822431020442232                                                                                                    \n",
      " 60%|████████████████████████████▊                   | 3/5 [01:28<01:00, 30.17s/trial, best loss: 0.010173914117431461]"
     ]
    },
    {
     "name": "stderr",
     "output_type": "stream",
     "text": [
      "INFO:hyperopt.tpe:build_posterior_wrapper took 0.001997 seconds\n",
      "INFO:hyperopt.tpe:TPE using 3/3 trials with best loss 0.010174\n",
      "INFO:fbprophet:Disabling weekly seasonality. Run prophet with weekly_seasonality=True to override this.\n",
      "INFO:fbprophet:Disabling daily seasonality. Run prophet with daily_seasonality=True to override this.\n"
     ]
    },
    {
     "name": "stdout",
     "output_type": "stream",
     "text": [
      "score:                                                                                                                 \n",
      "0.010173914117431461                                                                                                   \n",
      " 80%|██████████████████████████████████████▍         | 4/5 [01:31<00:19, 19.56s/trial, best loss: 0.010173914117431461]"
     ]
    },
    {
     "name": "stderr",
     "output_type": "stream",
     "text": [
      "INFO:hyperopt.tpe:build_posterior_wrapper took 0.002990 seconds\n",
      "INFO:hyperopt.tpe:TPE using 4/4 trials with best loss 0.010174\n",
      "INFO:fbprophet:Disabling weekly seasonality. Run prophet with weekly_seasonality=True to override this.\n",
      "INFO:fbprophet:Disabling daily seasonality. Run prophet with daily_seasonality=True to override this.\n"
     ]
    },
    {
     "name": "stdout",
     "output_type": "stream",
     "text": [
      "score:                                                                                                                 \n",
      "0.017334615075615345                                                                                                   \n",
      "100%|████████████████████████████████████████████████| 5/5 [01:33<00:00, 18.77s/trial, best loss: 0.010173914117431461]\n",
      "{'changepoint_prior_scale': 0.5000000000000001, 'holidays_prior_scale': 0.2, 'n_changepoints': 25}\n"
     ]
    },
    {
     "name": "stderr",
     "output_type": "stream",
     "text": [
      "INFO:fbprophet:Disabling weekly seasonality. Run prophet with weekly_seasonality=True to override this.\n",
      "INFO:fbprophet:Disabling daily seasonality. Run prophet with daily_seasonality=True to override this.\n"
     ]
    },
    {
     "name": "stdout",
     "output_type": "stream",
     "text": [
      "Training Prophet\n"
     ]
    },
    {
     "name": "stderr",
     "output_type": "stream",
     "text": [
      "INFO:fbprophet:Disabling weekly seasonality. Run prophet with weekly_seasonality=True to override this.\n",
      "INFO:fbprophet:Disabling daily seasonality. Run prophet with daily_seasonality=True to override this.\n"
     ]
    },
    {
     "name": "stdout",
     "output_type": "stream",
     "text": [
      "score: 0.014234230879097393\n",
      "\r",
      "  0%|                                                                            | 0/5 [00:00<?, ?trial/s, best loss=?]"
     ]
    },
    {
     "name": "stderr",
     "output_type": "stream",
     "text": [
      "INFO:hyperopt.tpe:build_posterior_wrapper took 0.000999 seconds\n",
      "INFO:hyperopt.tpe:TPE using 0 trials\n",
      "INFO:fbprophet:Disabling weekly seasonality. Run prophet with weekly_seasonality=True to override this.\n",
      "INFO:fbprophet:Disabling daily seasonality. Run prophet with daily_seasonality=True to override this.\n"
     ]
    },
    {
     "name": "stdout",
     "output_type": "stream",
     "text": [
      "score:                                                                                                                 \n",
      "0.009961897035304779                                                                                                   \n",
      " 20%|█████████▌                                      | 1/5 [00:02<00:10,  2.51s/trial, best loss: 0.009961897035304779]"
     ]
    },
    {
     "name": "stderr",
     "output_type": "stream",
     "text": [
      "INFO:hyperopt.tpe:build_posterior_wrapper took 0.001993 seconds\n",
      "INFO:hyperopt.tpe:TPE using 1/1 trials with best loss 0.009962\n",
      "INFO:fbprophet:Disabling weekly seasonality. Run prophet with weekly_seasonality=True to override this.\n",
      "INFO:fbprophet:Disabling daily seasonality. Run prophet with daily_seasonality=True to override this.\n"
     ]
    },
    {
     "name": "stdout",
     "output_type": "stream",
     "text": [
      "score:                                                                                                                 \n",
      "0.017088406753338847                                                                                                   \n",
      " 40%|███████████████████▏                            | 2/5 [00:03<00:05,  1.87s/trial, best loss: 0.009961897035304779]"
     ]
    },
    {
     "name": "stderr",
     "output_type": "stream",
     "text": [
      "INFO:hyperopt.tpe:build_posterior_wrapper took 0.001997 seconds\n",
      "INFO:hyperopt.tpe:TPE using 2/2 trials with best loss 0.009962\n",
      "INFO:fbprophet:Disabling weekly seasonality. Run prophet with weekly_seasonality=True to override this.\n",
      "INFO:fbprophet:Disabling daily seasonality. Run prophet with daily_seasonality=True to override this.\n",
      "INFO:fbprophet:n_changepoints greater than number of observations. Using 37.\n"
     ]
    },
    {
     "name": "stdout",
     "output_type": "stream",
     "text": [
      "score:                                                                                                                 \n",
      "0.028903080111887653                                                                                                   \n",
      " 60%|████████████████████████████▊                   | 3/5 [00:52<00:46, 23.22s/trial, best loss: 0.009961897035304779]"
     ]
    },
    {
     "name": "stderr",
     "output_type": "stream",
     "text": [
      "INFO:hyperopt.tpe:build_posterior_wrapper took 0.001995 seconds\n",
      "INFO:hyperopt.tpe:TPE using 3/3 trials with best loss 0.009962\n",
      "INFO:fbprophet:Disabling weekly seasonality. Run prophet with weekly_seasonality=True to override this.\n",
      "INFO:fbprophet:Disabling daily seasonality. Run prophet with daily_seasonality=True to override this.\n",
      "INFO:fbprophet:n_changepoints greater than number of observations. Using 37.\n"
     ]
    },
    {
     "name": "stdout",
     "output_type": "stream",
     "text": [
      "score:                                                                                                                 \n",
      "0.0200625066130001                                                                                                     \n",
      " 80%|██████████████████████████████████████▍         | 4/5 [01:36<00:31, 31.57s/trial, best loss: 0.009961897035304779]"
     ]
    },
    {
     "name": "stderr",
     "output_type": "stream",
     "text": [
      "INFO:hyperopt.tpe:build_posterior_wrapper took 0.001995 seconds\n",
      "INFO:hyperopt.tpe:TPE using 4/4 trials with best loss 0.009962\n",
      "INFO:fbprophet:Disabling weekly seasonality. Run prophet with weekly_seasonality=True to override this.\n",
      "INFO:fbprophet:Disabling daily seasonality. Run prophet with daily_seasonality=True to override this.\n"
     ]
    },
    {
     "name": "stdout",
     "output_type": "stream",
     "text": [
      "score:                                                                                                                 \n",
      "0.023536329735691447                                                                                                   \n",
      "100%|████████████████████████████████████████████████| 5/5 [02:12<00:00, 26.53s/trial, best loss: 0.009961897035304779]\n",
      "{'changepoint_prior_scale': 0.6000000000000001, 'holidays_prior_scale': 0.2, 'n_changepoints': 20}\n"
     ]
    },
    {
     "name": "stderr",
     "output_type": "stream",
     "text": [
      "INFO:fbprophet:Disabling weekly seasonality. Run prophet with weekly_seasonality=True to override this.\n",
      "INFO:fbprophet:Disabling daily seasonality. Run prophet with daily_seasonality=True to override this.\n"
     ]
    },
    {
     "name": "stdout",
     "output_type": "stream",
     "text": [
      "Training Prophet\n"
     ]
    },
    {
     "name": "stderr",
     "output_type": "stream",
     "text": [
      "INFO:fbprophet:Disabling weekly seasonality. Run prophet with weekly_seasonality=True to override this.\n",
      "INFO:fbprophet:Disabling daily seasonality. Run prophet with daily_seasonality=True to override this.\n"
     ]
    },
    {
     "name": "stdout",
     "output_type": "stream",
     "text": [
      "score: 0.03113582390786192\n",
      "\r",
      "  0%|                                                                            | 0/5 [00:00<?, ?trial/s, best loss=?]"
     ]
    },
    {
     "name": "stderr",
     "output_type": "stream",
     "text": [
      "INFO:hyperopt.tpe:build_posterior_wrapper took 0.001027 seconds\n",
      "INFO:hyperopt.tpe:TPE using 0 trials\n",
      "INFO:fbprophet:Disabling weekly seasonality. Run prophet with weekly_seasonality=True to override this.\n",
      "INFO:fbprophet:Disabling daily seasonality. Run prophet with daily_seasonality=True to override this.\n"
     ]
    },
    {
     "name": "stdout",
     "output_type": "stream",
     "text": [
      "score:                                                                                                                 \n",
      "0.027792108570999466                                                                                                   \n",
      " 20%|█████████▌                                      | 1/5 [00:39<02:39, 39.83s/trial, best loss: 0.027792108570999466]"
     ]
    },
    {
     "name": "stderr",
     "output_type": "stream",
     "text": [
      "INFO:hyperopt.tpe:build_posterior_wrapper took 0.001995 seconds\n",
      "INFO:hyperopt.tpe:TPE using 1/1 trials with best loss 0.027792\n",
      "INFO:fbprophet:Disabling weekly seasonality. Run prophet with weekly_seasonality=True to override this.\n",
      "INFO:fbprophet:Disabling daily seasonality. Run prophet with daily_seasonality=True to override this.\n"
     ]
    },
    {
     "name": "stdout",
     "output_type": "stream",
     "text": [
      "score:                                                                                                                 \n",
      "0.026247681198214027                                                                                                   \n",
      " 40%|███████████████████▏                            | 2/5 [01:22<02:04, 41.43s/trial, best loss: 0.026247681198214027]"
     ]
    },
    {
     "name": "stderr",
     "output_type": "stream",
     "text": [
      "INFO:hyperopt.tpe:build_posterior_wrapper took 0.000996 seconds\n",
      "INFO:hyperopt.tpe:TPE using 2/2 trials with best loss 0.026248\n",
      "INFO:fbprophet:Disabling weekly seasonality. Run prophet with weekly_seasonality=True to override this.\n",
      "INFO:fbprophet:Disabling daily seasonality. Run prophet with daily_seasonality=True to override this.\n"
     ]
    },
    {
     "name": "stdout",
     "output_type": "stream",
     "text": [
      "score:                                                                                                                 \n",
      "0.027161897521405826                                                                                                   \n",
      " 60%|████████████████████████████▊                   | 3/5 [01:26<00:49, 24.57s/trial, best loss: 0.026247681198214027]"
     ]
    },
    {
     "name": "stderr",
     "output_type": "stream",
     "text": [
      "INFO:hyperopt.tpe:build_posterior_wrapper took 0.001994 seconds\n",
      "INFO:hyperopt.tpe:TPE using 3/3 trials with best loss 0.026248\n",
      "INFO:fbprophet:Disabling weekly seasonality. Run prophet with weekly_seasonality=True to override this.\n",
      "INFO:fbprophet:Disabling daily seasonality. Run prophet with daily_seasonality=True to override this.\n"
     ]
    },
    {
     "name": "stdout",
     "output_type": "stream",
     "text": [
      "score:                                                                                                                 \n",
      "0.03867692654972735                                                                                                    \n",
      " 80%|██████████████████████████████████████▍         | 4/5 [01:28<00:15, 15.35s/trial, best loss: 0.026247681198214027]"
     ]
    },
    {
     "name": "stderr",
     "output_type": "stream",
     "text": [
      "INFO:hyperopt.tpe:build_posterior_wrapper took 0.002991 seconds\n",
      "INFO:hyperopt.tpe:TPE using 4/4 trials with best loss 0.026248\n",
      "INFO:fbprophet:Disabling weekly seasonality. Run prophet with weekly_seasonality=True to override this.\n",
      "INFO:fbprophet:Disabling daily seasonality. Run prophet with daily_seasonality=True to override this.\n",
      "INFO:fbprophet:n_changepoints greater than number of observations. Using 37.\n"
     ]
    },
    {
     "name": "stdout",
     "output_type": "stream",
     "text": [
      "score:                                                                                                                 \n",
      "0.03552450533046369                                                                                                    \n",
      "100%|████████████████████████████████████████████████| 5/5 [01:31<00:00, 18.36s/trial, best loss: 0.026247681198214027]\n",
      "{'changepoint_prior_scale': 0.5000000000000001, 'holidays_prior_scale': 0.4, 'n_changepoints': 35}\n"
     ]
    },
    {
     "name": "stderr",
     "output_type": "stream",
     "text": [
      "INFO:fbprophet:Disabling weekly seasonality. Run prophet with weekly_seasonality=True to override this.\n",
      "INFO:fbprophet:Disabling daily seasonality. Run prophet with daily_seasonality=True to override this.\n"
     ]
    },
    {
     "name": "stdout",
     "output_type": "stream",
     "text": [
      "Training Prophet\n"
     ]
    },
    {
     "name": "stderr",
     "output_type": "stream",
     "text": [
      "INFO:fbprophet:Disabling weekly seasonality. Run prophet with weekly_seasonality=True to override this.\n",
      "INFO:fbprophet:Disabling daily seasonality. Run prophet with daily_seasonality=True to override this.\n"
     ]
    },
    {
     "name": "stdout",
     "output_type": "stream",
     "text": [
      "score: 0.022624462791673298\n",
      "\r",
      "  0%|                                                                            | 0/5 [00:00<?, ?trial/s, best loss=?]"
     ]
    },
    {
     "name": "stderr",
     "output_type": "stream",
     "text": [
      "INFO:hyperopt.tpe:build_posterior_wrapper took 0.001022 seconds\n",
      "INFO:hyperopt.tpe:TPE using 0 trials\n",
      "INFO:fbprophet:Disabling weekly seasonality. Run prophet with weekly_seasonality=True to override this.\n",
      "INFO:fbprophet:Disabling daily seasonality. Run prophet with daily_seasonality=True to override this.\n"
     ]
    },
    {
     "name": "stdout",
     "output_type": "stream",
     "text": [
      "score:                                                                                                                 \n",
      "0.026297193103226476                                                                                                   \n",
      " 20%|█████████▌                                      | 1/5 [00:03<00:15,  3.94s/trial, best loss: 0.026297193103226476]"
     ]
    },
    {
     "name": "stderr",
     "output_type": "stream",
     "text": [
      "INFO:hyperopt.tpe:build_posterior_wrapper took 0.002993 seconds\n",
      "INFO:hyperopt.tpe:TPE using 1/1 trials with best loss 0.026297\n",
      "INFO:fbprophet:Disabling weekly seasonality. Run prophet with weekly_seasonality=True to override this.\n",
      "INFO:fbprophet:Disabling daily seasonality. Run prophet with daily_seasonality=True to override this.\n",
      "INFO:fbprophet:n_changepoints greater than number of observations. Using 37.\n"
     ]
    },
    {
     "name": "stdout",
     "output_type": "stream",
     "text": [
      "score:                                                                                                                 \n",
      "0.03309722547200989                                                                                                    \n",
      " 40%|███████████████████▏                            | 2/5 [00:51<01:29, 29.72s/trial, best loss: 0.026297193103226476]"
     ]
    },
    {
     "name": "stderr",
     "output_type": "stream",
     "text": [
      "INFO:hyperopt.tpe:build_posterior_wrapper took 0.001995 seconds\n",
      "INFO:hyperopt.tpe:TPE using 2/2 trials with best loss 0.026297\n",
      "INFO:fbprophet:Disabling weekly seasonality. Run prophet with weekly_seasonality=True to override this.\n",
      "INFO:fbprophet:Disabling daily seasonality. Run prophet with daily_seasonality=True to override this.\n",
      "INFO:fbprophet:n_changepoints greater than number of observations. Using 37.\n"
     ]
    },
    {
     "name": "stdout",
     "output_type": "stream",
     "text": [
      "score:                                                                                                                 \n",
      "0.03309722547200989                                                                                                    \n",
      " 60%|████████████████████████████▊                   | 3/5 [01:39<01:15, 37.97s/trial, best loss: 0.026297193103226476]"
     ]
    },
    {
     "name": "stderr",
     "output_type": "stream",
     "text": [
      "INFO:hyperopt.tpe:build_posterior_wrapper took 0.001993 seconds\n",
      "INFO:hyperopt.tpe:TPE using 3/3 trials with best loss 0.026297\n",
      "INFO:fbprophet:Disabling weekly seasonality. Run prophet with weekly_seasonality=True to override this.\n",
      "INFO:fbprophet:Disabling daily seasonality. Run prophet with daily_seasonality=True to override this.\n",
      "INFO:fbprophet:n_changepoints greater than number of observations. Using 37.\n"
     ]
    },
    {
     "name": "stdout",
     "output_type": "stream",
     "text": [
      "score:                                                                                                                 \n",
      "0.021006618653542395                                                                                                   \n",
      " 80%|██████████████████████████████████████▍         | 4/5 [01:44<00:24, 24.82s/trial, best loss: 0.021006618653542395]"
     ]
    },
    {
     "name": "stderr",
     "output_type": "stream",
     "text": [
      "INFO:hyperopt.tpe:build_posterior_wrapper took 0.000997 seconds\n",
      "INFO:hyperopt.tpe:TPE using 4/4 trials with best loss 0.021007\n",
      "INFO:fbprophet:Disabling weekly seasonality. Run prophet with weekly_seasonality=True to override this.\n",
      "INFO:fbprophet:Disabling daily seasonality. Run prophet with daily_seasonality=True to override this.\n"
     ]
    },
    {
     "name": "stdout",
     "output_type": "stream",
     "text": [
      "score:                                                                                                                 \n",
      "0.03875631657509051                                                                                                    \n",
      "100%|████████████████████████████████████████████████| 5/5 [01:45<00:00, 21.11s/trial, best loss: 0.021006618653542395]\n",
      "{'changepoint_prior_scale': 0.2, 'holidays_prior_scale': 0.6, 'n_changepoints': 40}\n"
     ]
    },
    {
     "name": "stderr",
     "output_type": "stream",
     "text": [
      "INFO:fbprophet:Disabling weekly seasonality. Run prophet with weekly_seasonality=True to override this.\n",
      "INFO:fbprophet:Disabling daily seasonality. Run prophet with daily_seasonality=True to override this.\n"
     ]
    },
    {
     "name": "stdout",
     "output_type": "stream",
     "text": [
      "Training Prophet\n"
     ]
    },
    {
     "name": "stderr",
     "output_type": "stream",
     "text": [
      "INFO:fbprophet:Disabling weekly seasonality. Run prophet with weekly_seasonality=True to override this.\n",
      "INFO:fbprophet:Disabling daily seasonality. Run prophet with daily_seasonality=True to override this.\n"
     ]
    },
    {
     "name": "stdout",
     "output_type": "stream",
     "text": [
      "score: 0.017588040183716507\n",
      "\r",
      "  0%|                                                                            | 0/5 [00:00<?, ?trial/s, best loss=?]"
     ]
    },
    {
     "name": "stderr",
     "output_type": "stream",
     "text": [
      "INFO:hyperopt.tpe:build_posterior_wrapper took 0.001972 seconds\n",
      "INFO:hyperopt.tpe:TPE using 0 trials\n",
      "INFO:fbprophet:Disabling weekly seasonality. Run prophet with weekly_seasonality=True to override this.\n",
      "INFO:fbprophet:Disabling daily seasonality. Run prophet with daily_seasonality=True to override this.\n"
     ]
    },
    {
     "name": "stdout",
     "output_type": "stream",
     "text": [
      "score:                                                                                                                 \n",
      "0.0107045219642729                                                                                                     \n",
      " 20%|██████████                                        | 1/5 [00:42<02:51, 42.99s/trial, best loss: 0.0107045219642729]"
     ]
    },
    {
     "name": "stderr",
     "output_type": "stream",
     "text": [
      "INFO:hyperopt.tpe:build_posterior_wrapper took 0.003024 seconds\n",
      "INFO:hyperopt.tpe:TPE using 1/1 trials with best loss 0.010705\n",
      "INFO:fbprophet:Disabling weekly seasonality. Run prophet with weekly_seasonality=True to override this.\n",
      "INFO:fbprophet:Disabling daily seasonality. Run prophet with daily_seasonality=True to override this.\n",
      "INFO:fbprophet:n_changepoints greater than number of observations. Using 37.\n"
     ]
    },
    {
     "name": "stdout",
     "output_type": "stream",
     "text": [
      "score:                                                                                                                 \n",
      "0.008912998554966595                                                                                                   \n",
      " 40%|███████████████████▏                            | 2/5 [01:32<02:19, 46.63s/trial, best loss: 0.008912998554966595]"
     ]
    },
    {
     "name": "stderr",
     "output_type": "stream",
     "text": [
      "INFO:hyperopt.tpe:build_posterior_wrapper took 0.001994 seconds\n",
      "INFO:hyperopt.tpe:TPE using 2/2 trials with best loss 0.008913\n",
      "INFO:fbprophet:Disabling weekly seasonality. Run prophet with weekly_seasonality=True to override this.\n",
      "INFO:fbprophet:Disabling daily seasonality. Run prophet with daily_seasonality=True to override this.\n"
     ]
    },
    {
     "name": "stdout",
     "output_type": "stream",
     "text": [
      "score:                                                                                                                 \n",
      "0.016921804672799527                                                                                                   \n",
      " 60%|████████████████████████████▊                   | 3/5 [01:34<00:52, 26.18s/trial, best loss: 0.008912998554966595]"
     ]
    },
    {
     "name": "stderr",
     "output_type": "stream",
     "text": [
      "INFO:hyperopt.tpe:build_posterior_wrapper took 0.001994 seconds\n",
      "INFO:hyperopt.tpe:TPE using 3/3 trials with best loss 0.008913\n",
      "INFO:fbprophet:Disabling weekly seasonality. Run prophet with weekly_seasonality=True to override this.\n",
      "INFO:fbprophet:Disabling daily seasonality. Run prophet with daily_seasonality=True to override this.\n"
     ]
    },
    {
     "name": "stdout",
     "output_type": "stream",
     "text": [
      "score:                                                                                                                 \n",
      "0.018989121389867365                                                                                                   \n",
      " 80%|██████████████████████████████████████▍         | 4/5 [01:36<00:16, 16.68s/trial, best loss: 0.008912998554966595]"
     ]
    },
    {
     "name": "stderr",
     "output_type": "stream",
     "text": [
      "INFO:hyperopt.tpe:build_posterior_wrapper took 0.000997 seconds\n",
      "INFO:hyperopt.tpe:TPE using 4/4 trials with best loss 0.008913\n",
      "INFO:fbprophet:Disabling weekly seasonality. Run prophet with weekly_seasonality=True to override this.\n",
      "INFO:fbprophet:Disabling daily seasonality. Run prophet with daily_seasonality=True to override this.\n",
      "INFO:fbprophet:n_changepoints greater than number of observations. Using 37.\n"
     ]
    },
    {
     "name": "stdout",
     "output_type": "stream",
     "text": [
      "score:                                                                                                                 \n",
      "0.012510491547732547                                                                                                   \n",
      "100%|████████████████████████████████████████████████| 5/5 [02:24<00:00, 28.92s/trial, best loss: 0.008912998554966595]\n",
      "{'changepoint_prior_scale': 0.4000000000000001, 'holidays_prior_scale': 0.4, 'n_changepoints': 45}\n"
     ]
    },
    {
     "name": "stderr",
     "output_type": "stream",
     "text": [
      "INFO:fbprophet:Disabling weekly seasonality. Run prophet with weekly_seasonality=True to override this.\n",
      "INFO:fbprophet:Disabling daily seasonality. Run prophet with daily_seasonality=True to override this.\n"
     ]
    }
   ],
   "source": [
    "models = {}\n",
    "for key, value in trainStores.items():\n",
    "    prophetModel = ProphetEstimator(labelCol=\"sales\").fit(value)\n",
    "    models[key] = prophetModel  "
   ]
  },
  {
   "cell_type": "code",
   "execution_count": 17,
   "metadata": {},
   "outputs": [],
   "source": [
    "predictions = {}\n",
    "for key, value in models.items():    \n",
    "    data = testStores[key]\n",
    "    pred = value.transform(data)\n",
    "    predictions[key] = pred"
   ]
  },
  {
   "cell_type": "code",
   "execution_count": 18,
   "metadata": {},
   "outputs": [],
   "source": [
    "from functools import reduce\n",
    "from pyspark.sql import DataFrame\n",
    "\n",
    "def union_all(*dfs):\n",
    "    return reduce(DataFrame.union, dfs)"
   ]
  },
  {
   "cell_type": "code",
   "execution_count": 19,
   "metadata": {},
   "outputs": [],
   "source": [
    "predProphet = union_all(*predictions.values())"
   ]
  },
  {
   "cell_type": "code",
   "execution_count": 20,
   "metadata": {},
   "outputs": [
    {
     "name": "stdout",
     "output_type": "stream",
     "text": [
      "+-----+----+-----+------------------+------------------+\n",
      "|store|year|month|             sales|        prediction|\n",
      "+-----+----+-----+------------------+------------------+\n",
      "| WI_2|2016|    1| 4.025018972282759|3.9069961338498205|\n",
      "| WI_2|2016|    2|   3.9703933720796| 4.113730260156093|\n",
      "| WI_2|2016|    3| 4.064120905829622| 4.020392316214241|\n",
      "| WI_2|2016|    4| 4.080806804334363| 4.032772698458722|\n",
      "| WI_2|2016|    5| 4.027145665774341| 3.981828016762505|\n",
      "| WI_3|2016|    1|3.9421569284674907| 3.977281947338469|\n",
      "| WI_3|2016|    2|3.9200189160289147|  4.00005461053498|\n",
      "| WI_3|2016|    3|3.8987251815894934| 4.025028742333013|\n",
      "| WI_3|2016|    4|3.8765642139838454| 4.006011367037505|\n",
      "| WI_3|2016|    5|   3.8750612633917| 4.035203957707031|\n",
      "| TX_2|2016|    1|3.8605176774617465| 3.744595002150639|\n",
      "| TX_2|2016|    2| 3.890532791927745|  4.04413416078616|\n",
      "| TX_2|2016|    3|3.9088601730172763|3.9528864544498346|\n",
      "| TX_2|2016|    4| 3.850829959848531|3.8772934498686977|\n",
      "| TX_2|2016|    5|3.8232785569516707| 3.882855224244688|\n",
      "| WI_1|2016|    1|3.9654839242451385|3.9981796750113103|\n",
      "| WI_1|2016|    2|3.9318137039591394|  4.03673776758171|\n",
      "| WI_1|2016|    3| 3.991447598003803| 4.120646356551705|\n",
      "| WI_1|2016|    4|3.9811387826406603| 4.042110856492271|\n",
      "| WI_1|2016|    5| 3.913919764951466| 4.030198922562387|\n",
      "+-----+----+-----+------------------+------------------+\n",
      "only showing top 20 rows\n",
      "\n"
     ]
    }
   ],
   "source": [
    "predProphet.show()"
   ]
  },
  {
   "cell_type": "code",
   "execution_count": 21,
   "metadata": {},
   "outputs": [
    {
     "name": "stdout",
     "output_type": "stream",
     "text": [
      "Score:  0.018951990399497586\n"
     ]
    }
   ],
   "source": [
    "mape = MAPE(labelCol=\"sales\", predictionCol=\"prediction\")\n",
    "score = mape.evaluate(predProphet)\n",
    "print(\"Score: \", score)"
   ]
  },
  {
   "cell_type": "code",
   "execution_count": 22,
   "metadata": {},
   "outputs": [],
   "source": [
    "result = predProphet.toPandas()\n",
    "result.to_csv(\"Prophetresult.csv\",header=True, index=False)"
   ]
  },
  {
   "cell_type": "code",
   "execution_count": null,
   "metadata": {},
   "outputs": [],
   "source": []
  }
 ],
 "metadata": {
  "kernelspec": {
   "display_name": "Python 3 (ipykernel)",
   "language": "python",
   "name": "python3"
  },
  "language_info": {
   "codemirror_mode": {
    "name": "ipython",
    "version": 3
   },
   "file_extension": ".py",
   "mimetype": "text/x-python",
   "name": "python",
   "nbconvert_exporter": "python",
   "pygments_lexer": "ipython3",
   "version": "3.7.11"
  }
 },
 "nbformat": 4,
 "nbformat_minor": 1
}
