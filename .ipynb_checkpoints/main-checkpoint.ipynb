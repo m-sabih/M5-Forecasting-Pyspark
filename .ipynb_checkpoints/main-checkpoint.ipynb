{
 "cells": [
  {
   "cell_type": "code",
   "execution_count": null,
   "metadata": {},
   "outputs": [],
   "source": [
    "from pyspark.ml.feature import VectorAssembler, StringIndexer\n",
    "from pyspark.sql import SparkSession\n",
    "from pyspark.ml import Pipeline\n",
    "\n",
    "from DataManipulation import DataManipulation\n",
    "from Estimators.XGBoost import XGBoost\n",
    "from Logging import Logging\n",
    "from Transformers.FilterDepartment import FilterDepartment\n",
    "from Transformers.ImputePrice import ImputePrice\n",
    "from Transformers.LagFeature import LagFeature\n",
    "from Transformers.LogTransformation import LogTransformation\n",
    "from Transformers.MonthlyAggregate import MonthlyAggregate\n",
    "from Transformers.NegativeSales import NegativeSales\n",
    "\n",
    "import pandas as pd\n",
    "import findspark"
   ]
  },
  {
   "cell_type": "code",
   "execution_count": 2,
   "metadata": {},
   "outputs": [],
   "source": [
    "%load_ext autoreload\n",
    "%autoreload 2"
   ]
  },
  {
   "cell_type": "code",
   "execution_count": 3,
   "metadata": {
    "pycharm": {
     "name": "#%%\n"
    }
   },
   "outputs": [],
   "source": [
    "def initialize_session(name):\n",
    "    return SparkSession.builder.master(\"local[*]\").appName(name).\\\n",
    "        config(\"spark.driver.bindAddress\", \"localhost\").\\\n",
    "        config(\"spark.ui.port\", \"4050\").getOrCreate()"
   ]
  },
  {
   "cell_type": "code",
   "execution_count": null,
   "metadata": {
    "pycharm": {
     "name": "#%%\n"
    }
   },
   "outputs": [],
   "source": [
    "findspark.init()\n",
    "spark = initialize_session(\"Assignment\")\n",
    "spark.conf.set(\"spark.sql.execution.arrow.enabled\", \"true\")\n",
    "log = Logging.getLogger()\n",
    "log.info(\"Initializing session\")\n",
    "\n",
    "data = DataManipulation()\n",
    "df = data.get_data()"
   ]
  },
  {
   "cell_type": "code",
   "execution_count": null,
   "metadata": {},
   "outputs": [],
   "source": [
    "pandas_df = pd.DataFrame({\"Letters\":[\"X\", \"Y\", \"Z\"]})\n",
    "spark_df = spark.createDataFrame(pandas_df)\n",
    "\n",
    "# Add the spark data frame to the catalog\n",
    "spark_df.createOrReplaceTempView('spark_df')\n",
    "\n",
    "spark_df.show()"
   ]
  },
  {
   "cell_type": "code",
   "execution_count": null,
   "metadata": {
    "pycharm": {
     "name": "#%%\n"
    }
   },
   "outputs": [],
   "source": [
    "# df = data.filter_store(df, \"WI_1\")\n",
    "filterDepartment = FilterDepartment(inputCol=\"FOODS_1\", filterCol=\"dept_id\")"
   ]
  },
  {
   "cell_type": "code",
   "execution_count": null,
   "metadata": {
    "pycharm": {
     "name": "#%%\n"
    }
   },
   "outputs": [],
   "source": [
    "imputePrice = ImputePrice()\n",
    "negativeSales = NegativeSales(column=\"sales\")\n",
    "aggregate = MonthlyAggregate(columns=[\"store_id\", \"dept_id\", \"year\", \"month\"],\n",
    "                             expressions={\"sales\": \"sum\",\n",
    "                                          \"sell_price\": \"avg\",\n",
    "                                          \"event_name_1\": \"count\",\n",
    "                                          \"event_name_2\": \"count\",\n",
    "                                          \"snap_WI\": \"sum\"}\n",
    "                             )\n",
    "logTransformation = LogTransformation(inputCols=[\"sales\"])\n",
    "lagFeatures = LagFeature(partitionBy=[\"store_id\", \"dept_id\"],\n",
    "                         orderBy=[\"year\", \"month\"],\n",
    "                         lags=[i for i in range(1, 12)],\n",
    "                         target=\"sales\"\n",
    "                         )\n",
    "\n",
    "storeIndexer = StringIndexer(inputCol=\"store_id\", outputCol=\"store_id_index\")\n",
    "yearIndexer = StringIndexer(inputCol=\"year\", outputCol=\"year_index\")"
   ]
  },
  {
   "cell_type": "code",
   "execution_count": null,
   "metadata": {
    "pycharm": {
     "name": "#%%\n"
    }
   },
   "outputs": [],
   "source": [
    "log.info(\"Initiating pipeline\")\n",
    "transformed = Pipeline(stages=[filterDepartment, imputePrice, negativeSales, aggregate,\n",
    "                               logTransformation, lagFeatures, storeIndexer,\n",
    "                               yearIndexer]).fit(df).transform(df)"
   ]
  },
  {
   "cell_type": "code",
   "execution_count": null,
   "metadata": {
    "pycharm": {
     "name": "#%%\n"
    }
   },
   "outputs": [],
   "source": [
    "train, test = data.train_test_split(transformed)"
   ]
  },
  {
   "cell_type": "code",
   "execution_count": null,
   "metadata": {
    "pycharm": {
     "name": "#%%\n"
    }
   },
   "outputs": [
    {
     "name": "stdout",
     "output_type": "stream",
     "text": [
      "Training XGBoost\n",
      "score:                                                                                                                 \n",
      "4.416647634808213                                                                                                      \n",
      "score:                                                                                                                 \n",
      "4.61977159898341                                                                                                       \n",
      "  2%|▉                                            | 2/100 [18:45<15:19:37, 563.03s/trial, best loss: 4.416647634808213]"
     ]
    }
   ],
   "source": [
    "inputColumns = [\"store_id_index\", \"month\", \"year_index\", \"event_name_1\", \"event_name_2\", \"sell_price\"]\n",
    "inputColumns.extend([\"lag_{}\".format(i) for i in range(1, 12)])\n",
    "\n",
    "#xgbModel =\n",
    "xgbModel = XGBoost(inputCols=inputColumns, labelCol=\"sales\").fit(train)"
   ]
  },
  {
   "cell_type": "code",
   "execution_count": 16,
   "metadata": {
    "pycharm": {
     "name": "#%%\n"
    }
   },
   "outputs": [
    {
     "name": "stdout",
     "output_type": "stream",
     "text": [
      "    prediction    actual\n",
      "0     3.884693  3.766264\n",
      "1     3.907605  3.991448\n",
      "2     3.933316  3.898725\n",
      "3     3.886194  4.073572\n",
      "4     3.973794  3.770557\n",
      "5     4.027556  3.922154\n",
      "6     3.903761  3.970393\n",
      "7     3.940236  4.006380\n",
      "8     4.057255  4.146748\n",
      "9     3.911772  4.128529\n",
      "10    3.979000  3.827434\n",
      "11    4.011597  3.823279\n",
      "12    4.051314  3.981139\n",
      "13    4.065004  3.773933\n",
      "14    3.913321  4.146686\n",
      "15    3.688709  3.850830\n",
      "16    3.704654  3.932879\n",
      "17    3.710896  4.117006\n",
      "18    3.803989  3.881670\n",
      "19    3.919174  3.850830\n",
      "20    3.754980  4.121429\n",
      "21    3.990922  3.908860\n",
      "22    3.899374  3.791269\n",
      "23    3.868634  3.890533\n",
      "24    3.958189  3.940865\n",
      "25    3.775538  4.104282\n",
      "26    3.868951  3.920019\n",
      "27    3.978200  4.025019\n",
      "28    3.821599  3.822756\n",
      "29    3.950344  3.860518\n",
      "30    3.830292  3.796921\n",
      "31    3.803753  3.931814\n",
      "32    3.943211  3.942157\n",
      "33    3.937515  4.023705\n",
      "34    3.876850  3.913920\n",
      "35    3.848201  3.876564\n",
      "36    3.688139  3.970440\n",
      "37    3.883985  3.875061\n",
      "38    3.834059  3.926651\n",
      "39    3.790470  3.963126\n",
      "40    3.703668  4.027146\n",
      "41    3.662833  3.959089\n",
      "42    3.827583  3.965484\n",
      "43    3.753241  4.064121\n",
      "44    3.717958  4.172369\n",
      "45    3.893755  4.066102\n",
      "46    3.857209  4.080807\n",
      "47    3.963386  3.880585\n",
      "48    3.918043  3.775465\n",
      "49    3.763903  3.955255\n"
     ]
    }
   ],
   "source": [
    "pred = xgbModel.transform(test)\n",
    "print(pred.show(10))"
   ]
  },
  {
   "cell_type": "code",
   "execution_count": null,
   "metadata": {
    "pycharm": {
     "name": "#%%\n"
    }
   },
   "outputs": [],
   "source": []
  }
 ],
 "metadata": {
  "kernelspec": {
   "display_name": "Python 3",
   "language": "python",
   "name": "python3"
  },
  "language_info": {
   "codemirror_mode": {
    "name": "ipython",
    "version": 3
   },
   "file_extension": ".py",
   "mimetype": "text/x-python",
   "name": "python",
   "nbconvert_exporter": "python",
   "pygments_lexer": "ipython3",
   "version": "3.8.8"
  }
 },
 "nbformat": 4,
 "nbformat_minor": 1
}
