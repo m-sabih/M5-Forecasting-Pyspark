{
 "cells": [
  {
   "cell_type": "code",
   "execution_count": 1,
   "metadata": {},
   "outputs": [],
   "source": [
    "%load_ext autoreload\n",
    "%autoreload 2"
   ]
  },
  {
   "cell_type": "code",
   "execution_count": 12,
   "metadata": {},
   "outputs": [],
   "source": [
    "from pyspark.ml.feature import VectorAssembler, StringIndexer\n",
    "from pyspark.sql import SparkSession\n",
    "from pyspark.ml import Pipeline\n",
    "\n",
    "from DataManipulation import DataManipulation\n",
    "from Estimators.XGBoost import XGBoost\n",
    "from Logging import Logging\n",
    "from Transformers.FilterDepartment import FilterDepartment\n",
    "from Transformers.ImputePrice import ImputePrice\n",
    "from Transformers.LagFeature import LagFeature\n",
    "from Transformers.LogTransformation import LogTransformation\n",
    "from Transformers.MonthlyAggregate import MonthlyAggregate\n",
    "from Transformers.NegativeSales import NegativeSales\n",
    "from Estimators.RandomForest import RandomForest\n",
    "from Estimators.ProphetEstimator import ProphetEstimator\n",
    "from pyspark.ml.feature import MinMaxScaler\n",
    "from pyspark.sql.functions import mean, stddev\n",
    "from Transformers.Scaling import Scaling\n",
    "from Evaluator.MAPE import MAPE\n",
    "import pyspark.sql.functions as F\n",
    "import pandas as pd\n",
    "import findspark\n",
    "import sys\n",
    "import warnings\n",
    "\n",
    "if not sys.warnoptions:\n",
    "    warnings.simplefilter(\"ignore\")"
   ]
  },
  {
   "cell_type": "code",
   "execution_count": 3,
   "metadata": {
    "pycharm": {
     "name": "#%%\n"
    }
   },
   "outputs": [],
   "source": [
    "def initialize_session(name):\n",
    "    return SparkSession.builder.master(\"local[*]\").appName(name).\\\n",
    "        config(\"spark.driver.bindAddress\", \"localhost\").\\\n",
    "        config(\"spark.ui.port\", \"4050\").getOrCreate()"
   ]
  },
  {
   "cell_type": "code",
   "execution_count": 4,
   "metadata": {
    "pycharm": {
     "name": "#%%\n"
    }
   },
   "outputs": [],
   "source": [
    "findspark.init()\n",
    "spark = initialize_session(\"Assignment\")\n",
    "spark.conf.set(\"spark.sql.execution.arrow.enabled\", \"true\")\n",
    "log = Logging.getLogger()\n",
    "log.info(\"Initializing session\")\n",
    "\n",
    "data = DataManipulation()\n",
    "df = data.get_data()"
   ]
  },
  {
   "cell_type": "code",
   "execution_count": 5,
   "metadata": {
    "pycharm": {
     "name": "#%%\n"
    }
   },
   "outputs": [],
   "source": [
    "# df = data.filter_store(df, \"WI_1\")\n",
    "filterDepartment = FilterDepartment(inputCol=\"FOODS_1\", filterCol=\"dept_id\")"
   ]
  },
  {
   "cell_type": "code",
   "execution_count": 6,
   "metadata": {
    "pycharm": {
     "name": "#%%\n"
    }
   },
   "outputs": [],
   "source": [
    "imputePrice = ImputePrice()\n",
    "negativeSales = NegativeSales(column=\"sales\")\n",
    "aggregate = MonthlyAggregate(columns=[\"store_id\", \"dept_id\", \"year\", \"month\"],\n",
    "                             expressions={\"sales\": \"sum\",\n",
    "                                          \"sell_price\": \"avg\",\n",
    "                                          \"event_name_1\": \"count\",\n",
    "                                          \"event_name_2\": \"count\",\n",
    "                                          \"snap_WI\": \"sum\"}\n",
    "                             )\n",
    "logTransformation = LogTransformation(inputCols=[\"sales\"])\n",
    "lagFeatures = LagFeature(partitionBy=[\"store_id\", \"dept_id\"],\n",
    "                         orderBy=[\"year\", \"month\"],\n",
    "                         lags=[i for i in range(1, 13)],\n",
    "                         target=\"sales\"\n",
    "                         )\n",
    "\n",
    "storeIndexer = StringIndexer(inputCol=\"store_id\", outputCol=\"store_id_index\")\n",
    "yearIndexer = StringIndexer(inputCol=\"year\", outputCol=\"year_index\")\n",
    "#scaling = Scaling(inputCols=[\"sell_price\"])\n",
    "#scaling1 = Scaling(inputCols=[\"event_name_1\"])\n",
    "#scaling2 = Scaling(inputCols=[\"event_name_2\"])"
   ]
  },
  {
   "cell_type": "code",
   "execution_count": 7,
   "metadata": {
    "pycharm": {
     "name": "#%%\n"
    }
   },
   "outputs": [],
   "source": [
    "inputColumns = [\"store_id_index\", \"month\", \"year_index\", \"event_name_1\", \"event_name_2\", \"sell_price\"]\n",
    "inputColumns.extend([\"lag_{}\".format(i) for i in range(1, 13)])\n",
    "vector = VectorAssembler(inputCols=inputColumns,outputCol=\"features\")"
   ]
  },
  {
   "cell_type": "code",
   "execution_count": 8,
   "metadata": {
    "pycharm": {
     "name": "#%%\n"
    }
   },
   "outputs": [],
   "source": [
    "log.info(\"Initiating pipeline\")\n",
    "transformed = Pipeline(stages=[filterDepartment, imputePrice, negativeSales, aggregate,\n",
    "                               logTransformation, lagFeatures, storeIndexer,\n",
    "                               yearIndexer, vector]).fit(df).transform(df)"
   ]
  },
  {
   "cell_type": "code",
   "execution_count": 9,
   "metadata": {
    "pycharm": {
     "name": "#%%\n"
    }
   },
   "outputs": [],
   "source": [
    "train, test = data.train_test_split(transformed)"
   ]
  },
  {
   "cell_type": "markdown",
   "metadata": {},
   "source": [
    "# XGBoost"
   ]
  },
  {
   "cell_type": "code",
   "execution_count": 28,
   "metadata": {
    "pycharm": {
     "name": "#%%\n"
    }
   },
   "outputs": [
    {
     "name": "stdout",
     "output_type": "stream",
     "text": [
      "Training XGBoost\n",
      "score: 0.038140776496895734\n",
      "score:                                                                                                                 \n",
      "0.03040679583651568                                                                                                    \n",
      "score:                                                                                                                 \n",
      "0.0301911522897184                                                                                                     \n",
      "score:                                                                                                                 \n",
      "0.030295133603962483                                                                                                   \n",
      "score:                                                                                                                 \n",
      "0.02991132022344387                                                                                                    \n",
      "score:                                                                                                                 \n",
      "0.030327289170048056                                                                                                   \n",
      "score:                                                                                                                 \n",
      "0.030006563612121232                                                                                                   \n",
      "score:                                                                                                                 \n",
      "0.030005515061053218                                                                                                   \n",
      "score:                                                                                                                 \n",
      "0.02998956834689394                                                                                                    \n",
      "score:                                                                                                                 \n",
      "0.030183462915219686                                                                                                   \n",
      "score:                                                                                                                 \n",
      "0.030592988053954016                                                                                                   \n",
      "100%|██████████████████████████████████████████████| 10/10 [47:52<00:00, 287.28s/trial, best loss: 0.02991132022344387]\n",
      "{'colsample_bytree': 0.8, 'eta': 0.2, 'max_depth': 6, 'min_child_weight': 2, 'n_estimators': 85, 'subsample': 0.8}\n"
     ]
    }
   ],
   "source": [
    "xgbModel = XGBoost(inputCols=inputColumns, labelCol=\"sales\").fit(train)"
   ]
  },
  {
   "cell_type": "code",
   "execution_count": 60,
   "metadata": {
    "pycharm": {
     "name": "#%%\n"
    }
   },
   "outputs": [
    {
     "name": "stdout",
     "output_type": "stream",
     "text": [
      "+-----+----+-----+----------+------------------+\n",
      "|store|year|month|prediction|            actual|\n",
      "+-----+----+-----+----------+------------------+\n",
      "|  0.0| 5.0|    1| 4.0389442|3.7662640906519957|\n",
      "|  0.0| 5.0|    2| 3.7691476| 3.991447598003803|\n",
      "|  0.0| 5.0|    3| 3.9158623|3.8987251815894934|\n",
      "|  0.0| 5.0|    4| 3.9507616| 4.073571728304925|\n",
      "|  0.0| 5.0|    5| 3.8980036| 3.770557474850995|\n",
      "|  1.0| 5.0|    1|  3.945459| 3.922154325231059|\n",
      "|  1.0| 5.0|    2| 3.7430043|   3.9703933720796|\n",
      "|  1.0| 5.0|    3| 3.8384516| 4.006380458549693|\n",
      "|  1.0| 5.0|    4| 3.8938484|  4.14674801363064|\n",
      "|  1.0| 5.0|    5| 3.8458862|4.1285285037974395|\n",
      "|  2.0| 5.0|    1| 3.6775389|3.8274338954007794|\n",
      "|  2.0| 5.0|    2|  3.805361|3.8232785569516707|\n",
      "|  2.0| 5.0|    3| 3.8210578|3.9811387826406603|\n",
      "|  2.0| 5.0|    4|  3.794316| 3.773932647467645|\n",
      "|  2.0| 5.0|    5|  3.546763| 4.146686055647526|\n",
      "|  3.0| 5.0|    1| 3.8259609| 3.850829959848531|\n",
      "|  3.0| 5.0|    2| 3.8181422| 3.932879457823799|\n",
      "|  3.0| 5.0|    3| 3.7170005|4.1170059966359664|\n",
      "|  3.0| 5.0|    4| 3.6661444|3.8816699076720615|\n",
      "|  3.0| 5.0|    5|  4.011169| 3.850829959848531|\n",
      "+-----+----+-----+----------+------------------+\n",
      "only showing top 20 rows\n",
      "\n",
      "None\n"
     ]
    }
   ],
   "source": [
    "pred = xgbModel.transform(test)\n",
    "print(pred.show())"
   ]
  },
  {
   "cell_type": "code",
   "execution_count": 70,
   "metadata": {},
   "outputs": [],
   "source": [
    "#pred.repartition(1).write.csv(\"RFresult\", header=\"true\")\n",
    "pred.toPandas().to_csv(\"XGBresult.csv\", header=True, index=False)"
   ]
  },
  {
   "cell_type": "code",
   "execution_count": 30,
   "metadata": {},
   "outputs": [
    {
     "name": "stdout",
     "output_type": "stream",
     "text": [
      "Score:  0.03440495505899868\n"
     ]
    }
   ],
   "source": [
    "mape = MAPE(labelCol=\"actual\", predictionCol=\"prediction\")\n",
    "score = mape.evaluate(pred)\n",
    "print(\"Score: \", score)"
   ]
  },
  {
   "cell_type": "code",
   "execution_count": 31,
   "metadata": {},
   "outputs": [],
   "source": [
    "xgbModel.save(\"XGBoostBestModel\")"
   ]
  },
  {
   "cell_type": "markdown",
   "metadata": {},
   "source": [
    "# Random Forest"
   ]
  },
  {
   "cell_type": "code",
   "execution_count": 32,
   "metadata": {
    "pycharm": {
     "is_executing": true
    }
   },
   "outputs": [
    {
     "name": "stdout",
     "output_type": "stream",
     "text": [
      "Training Random Forest\n",
      "score: 0.011476324896382584\n",
      "score:                                                                                                                 \n",
      "0.02997232685130526                                                                                                    \n",
      "score:                                                                                                                 \n",
      "0.030305298698946905                                                                                                   \n",
      "score:                                                                                                                 \n",
      "0.030254975808959937                                                                                                   \n",
      "score:                                                                                                                 \n",
      "0.03016691127838474                                                                                                    \n",
      "score:                                                                                                                 \n",
      "0.030289711499282706                                                                                                   \n",
      "score:                                                                                                                 \n",
      "0.01094241143328192                                                                                                    \n",
      "score:                                                                                                                 \n",
      "0.010809573053441041                                                                                                   \n",
      "score:                                                                                                                 \n",
      "0.030171036358676906                                                                                                   \n",
      "score:                                                                                                                 \n",
      "0.03029965172036903                                                                                                    \n",
      "score:                                                                                                                 \n",
      "0.030460219215500364                                                                                                   \n",
      "100%|███████████████████████████████████████████| 10/10 [1:32:54<00:00, 557.42s/trial, best loss: 0.010809573053441041]\n",
      "{'maxDepth': 12, 'minInfoGain': 0, 'numTrees': 178, 'subsamplingRate': 1}\n"
     ]
    }
   ],
   "source": [
    "rfModel = RandomForest(featuresCol=\"features\", labelCol=\"sales\").fit(train)"
   ]
  },
  {
   "cell_type": "code",
   "execution_count": 53,
   "metadata": {
    "pycharm": {
     "name": "#%%\n"
    }
   },
   "outputs": [
    {
     "name": "stdout",
     "output_type": "stream",
     "text": [
      "+--------+----+-----+------------------+------------------+\n",
      "|store_id|year|month|             sales|        prediction|\n",
      "+--------+----+-----+------------------+------------------+\n",
      "|    CA_1|2016|    1| 3.959089114367392| 3.973188818744754|\n",
      "|    CA_1|2016|    2|3.9631264410819047|   3.9842871115052|\n",
      "|    CA_1|2016|    3| 4.006380458549693|3.9704498068074487|\n",
      "|    CA_1|2016|    4|  3.95525468282018|3.9904649691232867|\n",
      "|    CA_1|2016|    5|  3.88058495606498|3.9977359691860155|\n",
      "|    CA_2|2016|    1|  4.14674801363064| 4.081151340642005|\n",
      "|    CA_2|2016|    2| 4.104282207094438| 4.078755324558147|\n",
      "|    CA_2|2016|    3| 4.121428518367963| 4.059489182785702|\n",
      "|    CA_2|2016|    4| 4.146686055647526|4.0629658390873855|\n",
      "|    CA_2|2016|    5| 4.073571728304925| 4.067109754296584|\n",
      "|    CA_3|2016|    1| 4.172369376763842| 4.059356119997409|\n",
      "|    CA_3|2016|    2|4.1285285037974395| 4.074892297993666|\n",
      "|    CA_3|2016|    3|4.1170059966359664|  4.07102261219478|\n",
      "|    CA_3|2016|    4| 4.066102196766773| 4.068016176878561|\n",
      "|    CA_3|2016|    5| 4.023705042622037|4.0503306087350035|\n",
      "|    CA_4|2016|    1|3.8274338954007794|3.8644840591124607|\n",
      "|    CA_4|2016|    2|3.7754648093457392|3.9058859204935863|\n",
      "|    CA_4|2016|    3| 3.850829959848531| 3.846919914294594|\n",
      "|    CA_4|2016|    4|3.8227563329513905|3.8287150223555195|\n",
      "|    CA_4|2016|    5| 3.770557474850995|3.8820052679039567|\n",
      "+--------+----+-----+------------------+------------------+\n",
      "only showing top 20 rows\n",
      "\n"
     ]
    }
   ],
   "source": [
    "predRf = rfModel.transform(test)\n",
    "predRf.select(\"store_id\", \"year\", \"month\", \"sales\", \"prediction\").show()"
   ]
  },
  {
   "cell_type": "code",
   "execution_count": 59,
   "metadata": {},
   "outputs": [],
   "source": [
    "RFresult = predRf.select(\"store_id\", \"year\", \"month\", \"sales\", \"prediction\")\n",
    "#RFresult.repartition(1).write.csv(\"RFresult\", header=\"true\")\n",
    "result = RFresult.toPandas()"
   ]
  },
  {
   "cell_type": "code",
   "execution_count": 71,
   "metadata": {},
   "outputs": [],
   "source": [
    "result.to_csv(\"RFresult.csv\",header=True, index=False)"
   ]
  },
  {
   "cell_type": "code",
   "execution_count": 35,
   "metadata": {},
   "outputs": [
    {
     "name": "stdout",
     "output_type": "stream",
     "text": [
      "Score:  0.010606751116485118\n"
     ]
    }
   ],
   "source": [
    "mape = MAPE(labelCol=\"sales\", predictionCol=\"prediction\")\n",
    "score = mape.evaluate(predRf)\n",
    "print(\"Score: \", score)"
   ]
  },
  {
   "cell_type": "markdown",
   "metadata": {},
   "source": [
    "# Prophet"
   ]
  },
  {
   "cell_type": "code",
   "execution_count": 9,
   "metadata": {},
   "outputs": [],
   "source": [
    "transformedProphet = transformed.withColumn(\"ds\", F.to_date(F.concat_ws(\"-\", \"Year\",\"month\")))\n",
    "trainProphet, testProphet = data.train_test_split(transformedProphet)"
   ]
  },
  {
   "cell_type": "code",
   "execution_count": 10,
   "metadata": {},
   "outputs": [],
   "source": [
    "def getStores(data):\n",
    "    storesName = data.select(\"store_id\").distinct().collect()\n",
    "    stores = {}\n",
    "    for store in storesName:\n",
    "        stores[store.store_id] = data.filter(df[\"store_id\"] == store.store_id)    \n",
    "    return stores"
   ]
  },
  {
   "cell_type": "code",
   "execution_count": 11,
   "metadata": {},
   "outputs": [],
   "source": [
    "trainStores = getStores(trainProphet)\n",
    "testStores = getStores(testProphet)"
   ]
  },
  {
   "cell_type": "code",
   "execution_count": 13,
   "metadata": {},
   "outputs": [],
   "source": [
    "#prophetModel = ProphetEstimator(labelCol=\"sales\").fit(trainStores[\"WI_2\"])\n",
    "#pred = prophetModel.transform(testStores[\"WI_2\"])\n",
    "#pred.show()"
   ]
  },
  {
   "cell_type": "code",
   "execution_count": 14,
   "metadata": {},
   "outputs": [
    {
     "name": "stdout",
     "output_type": "stream",
     "text": [
      "Training Prophet\n"
     ]
    },
    {
     "name": "stderr",
     "output_type": "stream",
     "text": [
      "INFO:numexpr.utils:NumExpr defaulting to 8 threads.\n",
      "INFO:fbprophet:Disabling weekly seasonality. Run prophet with weekly_seasonality=True to override this.\n",
      "INFO:fbprophet:Disabling daily seasonality. Run prophet with daily_seasonality=True to override this.\n"
     ]
    },
    {
     "name": "stdout",
     "output_type": "stream",
     "text": [
      "Training Prophet\n"
     ]
    },
    {
     "name": "stderr",
     "output_type": "stream",
     "text": [
      "INFO:fbprophet:Disabling weekly seasonality. Run prophet with weekly_seasonality=True to override this.\n",
      "INFO:fbprophet:Disabling daily seasonality. Run prophet with daily_seasonality=True to override this.\n"
     ]
    },
    {
     "name": "stdout",
     "output_type": "stream",
     "text": [
      "Training Prophet\n"
     ]
    },
    {
     "name": "stderr",
     "output_type": "stream",
     "text": [
      "INFO:fbprophet:Disabling weekly seasonality. Run prophet with weekly_seasonality=True to override this.\n",
      "INFO:fbprophet:Disabling daily seasonality. Run prophet with daily_seasonality=True to override this.\n"
     ]
    },
    {
     "name": "stdout",
     "output_type": "stream",
     "text": [
      "Training Prophet\n"
     ]
    },
    {
     "name": "stderr",
     "output_type": "stream",
     "text": [
      "INFO:fbprophet:Disabling weekly seasonality. Run prophet with weekly_seasonality=True to override this.\n",
      "INFO:fbprophet:Disabling daily seasonality. Run prophet with daily_seasonality=True to override this.\n"
     ]
    },
    {
     "name": "stdout",
     "output_type": "stream",
     "text": [
      "Training Prophet\n"
     ]
    },
    {
     "name": "stderr",
     "output_type": "stream",
     "text": [
      "INFO:fbprophet:Disabling weekly seasonality. Run prophet with weekly_seasonality=True to override this.\n",
      "INFO:fbprophet:Disabling daily seasonality. Run prophet with daily_seasonality=True to override this.\n"
     ]
    },
    {
     "name": "stdout",
     "output_type": "stream",
     "text": [
      "Training Prophet\n"
     ]
    },
    {
     "name": "stderr",
     "output_type": "stream",
     "text": [
      "INFO:fbprophet:Disabling weekly seasonality. Run prophet with weekly_seasonality=True to override this.\n",
      "INFO:fbprophet:Disabling daily seasonality. Run prophet with daily_seasonality=True to override this.\n"
     ]
    },
    {
     "name": "stdout",
     "output_type": "stream",
     "text": [
      "Training Prophet\n"
     ]
    },
    {
     "name": "stderr",
     "output_type": "stream",
     "text": [
      "INFO:fbprophet:Disabling weekly seasonality. Run prophet with weekly_seasonality=True to override this.\n",
      "INFO:fbprophet:Disabling daily seasonality. Run prophet with daily_seasonality=True to override this.\n"
     ]
    },
    {
     "name": "stdout",
     "output_type": "stream",
     "text": [
      "Training Prophet\n"
     ]
    },
    {
     "name": "stderr",
     "output_type": "stream",
     "text": [
      "INFO:fbprophet:Disabling weekly seasonality. Run prophet with weekly_seasonality=True to override this.\n",
      "INFO:fbprophet:Disabling daily seasonality. Run prophet with daily_seasonality=True to override this.\n"
     ]
    },
    {
     "name": "stdout",
     "output_type": "stream",
     "text": [
      "Training Prophet\n"
     ]
    },
    {
     "name": "stderr",
     "output_type": "stream",
     "text": [
      "INFO:fbprophet:Disabling weekly seasonality. Run prophet with weekly_seasonality=True to override this.\n",
      "INFO:fbprophet:Disabling daily seasonality. Run prophet with daily_seasonality=True to override this.\n"
     ]
    },
    {
     "name": "stdout",
     "output_type": "stream",
     "text": [
      "Training Prophet\n"
     ]
    },
    {
     "name": "stderr",
     "output_type": "stream",
     "text": [
      "INFO:fbprophet:Disabling weekly seasonality. Run prophet with weekly_seasonality=True to override this.\n",
      "INFO:fbprophet:Disabling daily seasonality. Run prophet with daily_seasonality=True to override this.\n"
     ]
    }
   ],
   "source": [
    "models = {}\n",
    "for key, value in trainStores.items():\n",
    "    prophetModel = ProphetEstimator(labelCol=\"sales\").fit(value)\n",
    "    models[key] = prophetModel  "
   ]
  },
  {
   "cell_type": "code",
   "execution_count": 15,
   "metadata": {},
   "outputs": [],
   "source": [
    "predictions = {}\n",
    "for key, value in models.items():    \n",
    "    data = testStores[key]\n",
    "    pred = value.transform(data)\n",
    "    predictions[key] = pred"
   ]
  },
  {
   "cell_type": "code",
   "execution_count": 22,
   "metadata": {},
   "outputs": [],
   "source": [
    "from functools import reduce\n",
    "from pyspark.sql import DataFrame\n",
    "\n",
    "def union_all(*dfs):\n",
    "    return reduce(DataFrame.union, dfs)"
   ]
  },
  {
   "cell_type": "code",
   "execution_count": 23,
   "metadata": {},
   "outputs": [],
   "source": [
    "predProphet = union_all(*predictions.values())"
   ]
  },
  {
   "cell_type": "code",
   "execution_count": 24,
   "metadata": {},
   "outputs": [
    {
     "name": "stdout",
     "output_type": "stream",
     "text": [
      "+-----+----+-----+------------------+------------------+\n",
      "|store|year|month|             sales|              yhat|\n",
      "+-----+----+-----+------------------+------------------+\n",
      "| WI_2|2016|    1| 4.025018972282759|3.7844230019530993|\n",
      "| WI_2|2016|    2|   3.9703933720796| 4.066482393414515|\n",
      "| WI_2|2016|    3| 4.064120905829622| 4.005805930697541|\n",
      "| WI_2|2016|    4| 4.080806804334363| 4.028455399559174|\n",
      "| WI_2|2016|    5| 4.027145665774341|3.9845950463125046|\n",
      "| WI_3|2016|    1|3.9421569284674907| 3.681262273031782|\n",
      "| WI_3|2016|    2|3.9200189160289147| 3.963220942588123|\n",
      "| WI_3|2016|    3|3.8987251815894934|3.9311875477247513|\n",
      "| WI_3|2016|    4|3.8765642139838454|3.9044075735421537|\n",
      "| WI_3|2016|    5|   3.8750612633917| 3.923496247527877|\n",
      "| TX_2|2016|    1|3.8605176774617465|3.6267798026311406|\n",
      "| TX_2|2016|    2| 3.890532791927745|3.9494741822809907|\n",
      "| TX_2|2016|    3|3.9088601730172763| 3.883800425638834|\n",
      "| TX_2|2016|    4| 3.850829959848531|3.8043470537167083|\n",
      "| TX_2|2016|    5|3.8232785569516707| 3.816095569195934|\n",
      "| WI_1|2016|    1|3.9654839242451385|3.7698934230646017|\n",
      "| WI_1|2016|    2|3.9318137039591394| 4.029262049289644|\n",
      "| WI_1|2016|    3| 3.991447598003803| 4.081381363198305|\n",
      "| WI_1|2016|    4|3.9811387826406603|3.9990061258333487|\n",
      "| WI_1|2016|    5| 3.913919764951466|3.9878796773554956|\n",
      "+-----+----+-----+------------------+------------------+\n",
      "only showing top 20 rows\n",
      "\n"
     ]
    }
   ],
   "source": [
    "predProphet.show()"
   ]
  },
  {
   "cell_type": "code",
   "execution_count": 25,
   "metadata": {},
   "outputs": [
    {
     "name": "stdout",
     "output_type": "stream",
     "text": [
      "Score:  0.02683103959912822\n"
     ]
    }
   ],
   "source": [
    "mape = MAPE(labelCol=\"sales\", predictionCol=\"yhat\")\n",
    "score = mape.evaluate(predProphet)\n",
    "print(\"Score: \", score)"
   ]
  },
  {
   "cell_type": "code",
   "execution_count": null,
   "metadata": {},
   "outputs": [],
   "source": []
  }
 ],
 "metadata": {
  "kernelspec": {
   "display_name": "Python 3",
   "language": "python",
   "name": "python3"
  },
  "language_info": {
   "codemirror_mode": {
    "name": "ipython",
    "version": 3
   },
   "file_extension": ".py",
   "mimetype": "text/x-python",
   "name": "python",
   "nbconvert_exporter": "python",
   "pygments_lexer": "ipython3",
   "version": "3.8.8"
  }
 },
 "nbformat": 4,
 "nbformat_minor": 1
}
