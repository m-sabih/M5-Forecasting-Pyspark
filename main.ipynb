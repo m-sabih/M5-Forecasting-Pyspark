{
 "cells": [
  {
   "cell_type": "code",
   "execution_count": 1,
   "metadata": {},
   "outputs": [],
   "source": [
    "%load_ext autoreload\n",
    "%autoreload 2"
   ]
  },
  {
   "cell_type": "code",
   "execution_count": 2,
   "metadata": {},
   "outputs": [],
   "source": [
    "from pyspark.ml.feature import VectorAssembler, StringIndexer\n",
    "from pyspark.sql import SparkSession\n",
    "from pyspark.ml import Pipeline\n",
    "\n",
    "from DataManipulation import DataManipulation\n",
    "from Estimators.XGBoost import XGBoost\n",
    "from Logging import Logging\n",
    "from Transformers.FilterDepartment import FilterDepartment\n",
    "from Transformers.ImputePrice import ImputePrice\n",
    "from Transformers.LagFeature import LagFeature\n",
    "from Transformers.LogTransformation import LogTransformation\n",
    "from Transformers.MonthlyAggregate import MonthlyAggregate\n",
    "from Transformers.NegativeSales import NegativeSales\n",
    "from Estimators.RandomForest import RandomForest\n",
    "from Estimators.ProphetEstimator import ProphetEstimator\n",
    "from pyspark.ml.feature import MinMaxScaler\n",
    "from pyspark.sql.functions import mean, stddev\n",
    "from Transformers.Scaling import Scaling\n",
    "from Evaluator.MAPE import MAPE\n",
    "import pyspark.sql.functions as F\n",
    "import pandas as pd\n",
    "import findspark\n",
    "import sys\n",
    "import warnings\n",
    "\n",
    "if not sys.warnoptions:\n",
    "    warnings.simplefilter(\"ignore\")"
   ]
  },
  {
   "cell_type": "code",
   "execution_count": 3,
   "metadata": {
    "pycharm": {
     "name": "#%%\n"
    }
   },
   "outputs": [],
   "source": [
    "def initialize_session(name):\n",
    "    return SparkSession.builder.master(\"local[*]\").appName(name).\\\n",
    "        config(\"spark.driver.bindAddress\", \"localhost\").\\\n",
    "        config(\"spark.ui.port\", \"4050\").getOrCreate()"
   ]
  },
  {
   "cell_type": "code",
   "execution_count": 4,
   "metadata": {
    "pycharm": {
     "name": "#%%\n"
    }
   },
   "outputs": [],
   "source": [
    "findspark.init()\n",
    "spark = initialize_session(\"Assignment\")\n",
    "spark.conf.set(\"spark.sql.execution.arrow.enabled\", \"true\")\n",
    "log = Logging.getLogger()\n",
    "log.info(\"Initializing session\")\n",
    "\n",
    "data = DataManipulation()\n",
    "df = data.get_data()"
   ]
  },
  {
   "cell_type": "code",
   "execution_count": 5,
   "metadata": {
    "pycharm": {
     "name": "#%%\n"
    }
   },
   "outputs": [],
   "source": [
    "# df = data.filter_store(df, \"WI_1\")\n",
    "filterDepartment = FilterDepartment(inputCol=\"FOODS_1\", filterCol=\"dept_id\")"
   ]
  },
  {
   "cell_type": "code",
   "execution_count": 6,
   "metadata": {
    "pycharm": {
     "name": "#%%\n"
    }
   },
   "outputs": [],
   "source": [
    "imputePrice = ImputePrice()\n",
    "negativeSales = NegativeSales(column=\"sales\")\n",
    "aggregate = MonthlyAggregate(columns=[\"store_id\", \"dept_id\", \"year\", \"month\"],\n",
    "                             expressions={\"sales\": \"sum\",\n",
    "                                          \"sell_price\": \"avg\",\n",
    "                                          \"event_name_1\": \"count\",\n",
    "                                          \"event_name_2\": \"count\",\n",
    "                                          \"snap_WI\": \"sum\"}\n",
    "                             )\n",
    "logTransformation = LogTransformation(inputCols=[\"sales\"])\n",
    "lagFeatures = LagFeature(partitionBy=[\"store_id\", \"dept_id\"],\n",
    "                         orderBy=[\"year\", \"month\"],\n",
    "                         lags=[i for i in range(1, 13)],\n",
    "                         target=\"sales\"\n",
    "                         )\n",
    "\n",
    "storeIndexer = StringIndexer(inputCol=\"store_id\", outputCol=\"store_id_index\")\n",
    "yearIndexer = StringIndexer(inputCol=\"year\", outputCol=\"year_index\")\n",
    "#scaling = Scaling(inputCols=[\"sell_price\"])\n",
    "#scaling1 = Scaling(inputCols=[\"event_name_1\"])\n",
    "#scaling2 = Scaling(inputCols=[\"event_name_2\"])"
   ]
  },
  {
   "cell_type": "code",
   "execution_count": 7,
   "metadata": {
    "pycharm": {
     "name": "#%%\n"
    }
   },
   "outputs": [],
   "source": [
    "inputColumns = [\"store_id_index\", \"month\", \"year_index\", \"event_name_1\", \"event_name_2\", \"sell_price\"]\n",
    "inputColumns.extend([\"lag_{}\".format(i) for i in range(1, 13)])\n",
    "vector = VectorAssembler(inputCols=inputColumns,outputCol=\"features\")"
   ]
  },
  {
   "cell_type": "code",
   "execution_count": 8,
   "metadata": {
    "pycharm": {
     "name": "#%%\n"
    }
   },
   "outputs": [],
   "source": [
    "log.info(\"Initiating pipeline\")\n",
    "transformed = Pipeline(stages=[filterDepartment, imputePrice, negativeSales, aggregate,\n",
    "                               logTransformation, lagFeatures, storeIndexer,\n",
    "                               yearIndexer, vector]).fit(df).transform(df)"
   ]
  },
  {
   "cell_type": "code",
   "execution_count": 9,
   "metadata": {
    "pycharm": {
     "name": "#%%\n"
    }
   },
   "outputs": [],
   "source": [
    "train, test = data.train_test_split(transformed)"
   ]
  },
  {
   "cell_type": "markdown",
   "metadata": {},
   "source": [
    "# XGBoost"
   ]
  },
  {
   "cell_type": "code",
   "execution_count": 28,
   "metadata": {
    "pycharm": {
     "name": "#%%\n"
    }
   },
   "outputs": [
    {
     "name": "stdout",
     "output_type": "stream",
     "text": [
      "Training XGBoost\n",
      "score: 0.038140776496895734\n",
      "score:                                                                                                                 \n",
      "0.03040679583651568                                                                                                    \n",
      "score:                                                                                                                 \n",
      "0.0301911522897184                                                                                                     \n",
      "score:                                                                                                                 \n",
      "0.030295133603962483                                                                                                   \n",
      "score:                                                                                                                 \n",
      "0.02991132022344387                                                                                                    \n",
      "score:                                                                                                                 \n",
      "0.030327289170048056                                                                                                   \n",
      "score:                                                                                                                 \n",
      "0.030006563612121232                                                                                                   \n",
      "score:                                                                                                                 \n",
      "0.030005515061053218                                                                                                   \n",
      "score:                                                                                                                 \n",
      "0.02998956834689394                                                                                                    \n",
      "score:                                                                                                                 \n",
      "0.030183462915219686                                                                                                   \n",
      "score:                                                                                                                 \n",
      "0.030592988053954016                                                                                                   \n",
      "100%|██████████████████████████████████████████████| 10/10 [47:52<00:00, 287.28s/trial, best loss: 0.02991132022344387]\n",
      "{'colsample_bytree': 0.8, 'eta': 0.2, 'max_depth': 6, 'min_child_weight': 2, 'n_estimators': 85, 'subsample': 0.8}\n"
     ]
    }
   ],
   "source": [
    "xgbModel = XGBoost(inputCols=inputColumns, labelCol=\"sales\").fit(train)"
   ]
  },
  {
   "cell_type": "code",
   "execution_count": 60,
   "metadata": {
    "pycharm": {
     "name": "#%%\n"
    }
   },
   "outputs": [
    {
     "name": "stdout",
     "output_type": "stream",
     "text": [
      "+-----+----+-----+----------+------------------+\n",
      "|store|year|month|prediction|            actual|\n",
      "+-----+----+-----+----------+------------------+\n",
      "|  0.0| 5.0|    1| 4.0389442|3.7662640906519957|\n",
      "|  0.0| 5.0|    2| 3.7691476| 3.991447598003803|\n",
      "|  0.0| 5.0|    3| 3.9158623|3.8987251815894934|\n",
      "|  0.0| 5.0|    4| 3.9507616| 4.073571728304925|\n",
      "|  0.0| 5.0|    5| 3.8980036| 3.770557474850995|\n",
      "|  1.0| 5.0|    1|  3.945459| 3.922154325231059|\n",
      "|  1.0| 5.0|    2| 3.7430043|   3.9703933720796|\n",
      "|  1.0| 5.0|    3| 3.8384516| 4.006380458549693|\n",
      "|  1.0| 5.0|    4| 3.8938484|  4.14674801363064|\n",
      "|  1.0| 5.0|    5| 3.8458862|4.1285285037974395|\n",
      "|  2.0| 5.0|    1| 3.6775389|3.8274338954007794|\n",
      "|  2.0| 5.0|    2|  3.805361|3.8232785569516707|\n",
      "|  2.0| 5.0|    3| 3.8210578|3.9811387826406603|\n",
      "|  2.0| 5.0|    4|  3.794316| 3.773932647467645|\n",
      "|  2.0| 5.0|    5|  3.546763| 4.146686055647526|\n",
      "|  3.0| 5.0|    1| 3.8259609| 3.850829959848531|\n",
      "|  3.0| 5.0|    2| 3.8181422| 3.932879457823799|\n",
      "|  3.0| 5.0|    3| 3.7170005|4.1170059966359664|\n",
      "|  3.0| 5.0|    4| 3.6661444|3.8816699076720615|\n",
      "|  3.0| 5.0|    5|  4.011169| 3.850829959848531|\n",
      "+-----+----+-----+----------+------------------+\n",
      "only showing top 20 rows\n",
      "\n",
      "None\n"
     ]
    }
   ],
   "source": [
    "pred = xgbModel.transform(test)\n",
    "print(pred.show())"
   ]
  },
  {
   "cell_type": "code",
   "execution_count": 70,
   "metadata": {},
   "outputs": [],
   "source": [
    "#pred.repartition(1).write.csv(\"RFresult\", header=\"true\")\n",
    "pred.toPandas().to_csv(\"XGBresult.csv\", header=True, index=False)"
   ]
  },
  {
   "cell_type": "code",
   "execution_count": 30,
   "metadata": {},
   "outputs": [
    {
     "name": "stdout",
     "output_type": "stream",
     "text": [
      "Score:  0.03440495505899868\n"
     ]
    }
   ],
   "source": [
    "mape = MAPE(labelCol=\"actual\", predictionCol=\"prediction\")\n",
    "score = mape.evaluate(pred)\n",
    "print(\"Score: \", score)"
   ]
  },
  {
   "cell_type": "code",
   "execution_count": 31,
   "metadata": {},
   "outputs": [],
   "source": [
    "xgbModel.save(\"XGBoostBestModel\")"
   ]
  },
  {
   "cell_type": "markdown",
   "metadata": {},
   "source": [
    "# Random Forest"
   ]
  },
  {
   "cell_type": "code",
   "execution_count": 32,
   "metadata": {
    "pycharm": {
     "is_executing": true
    }
   },
   "outputs": [
    {
     "name": "stdout",
     "output_type": "stream",
     "text": [
      "Training Random Forest\n",
      "score: 0.011476324896382584\n",
      "score:                                                                                                                 \n",
      "0.02997232685130526                                                                                                    \n",
      "score:                                                                                                                 \n",
      "0.030305298698946905                                                                                                   \n",
      "score:                                                                                                                 \n",
      "0.030254975808959937                                                                                                   \n",
      "score:                                                                                                                 \n",
      "0.03016691127838474                                                                                                    \n",
      "score:                                                                                                                 \n",
      "0.030289711499282706                                                                                                   \n",
      "score:                                                                                                                 \n",
      "0.01094241143328192                                                                                                    \n",
      "score:                                                                                                                 \n",
      "0.010809573053441041                                                                                                   \n",
      "score:                                                                                                                 \n",
      "0.030171036358676906                                                                                                   \n",
      "score:                                                                                                                 \n",
      "0.03029965172036903                                                                                                    \n",
      "score:                                                                                                                 \n",
      "0.030460219215500364                                                                                                   \n",
      "100%|███████████████████████████████████████████| 10/10 [1:32:54<00:00, 557.42s/trial, best loss: 0.010809573053441041]\n",
      "{'maxDepth': 12, 'minInfoGain': 0, 'numTrees': 178, 'subsamplingRate': 1}\n"
     ]
    }
   ],
   "source": [
    "rfModel = RandomForest(featuresCol=\"features\", labelCol=\"sales\").fit(train)"
   ]
  },
  {
   "cell_type": "code",
   "execution_count": 53,
   "metadata": {
    "pycharm": {
     "name": "#%%\n"
    }
   },
   "outputs": [
    {
     "name": "stdout",
     "output_type": "stream",
     "text": [
      "+--------+----+-----+------------------+------------------+\n",
      "|store_id|year|month|             sales|        prediction|\n",
      "+--------+----+-----+------------------+------------------+\n",
      "|    CA_1|2016|    1| 3.959089114367392| 3.973188818744754|\n",
      "|    CA_1|2016|    2|3.9631264410819047|   3.9842871115052|\n",
      "|    CA_1|2016|    3| 4.006380458549693|3.9704498068074487|\n",
      "|    CA_1|2016|    4|  3.95525468282018|3.9904649691232867|\n",
      "|    CA_1|2016|    5|  3.88058495606498|3.9977359691860155|\n",
      "|    CA_2|2016|    1|  4.14674801363064| 4.081151340642005|\n",
      "|    CA_2|2016|    2| 4.104282207094438| 4.078755324558147|\n",
      "|    CA_2|2016|    3| 4.121428518367963| 4.059489182785702|\n",
      "|    CA_2|2016|    4| 4.146686055647526|4.0629658390873855|\n",
      "|    CA_2|2016|    5| 4.073571728304925| 4.067109754296584|\n",
      "|    CA_3|2016|    1| 4.172369376763842| 4.059356119997409|\n",
      "|    CA_3|2016|    2|4.1285285037974395| 4.074892297993666|\n",
      "|    CA_3|2016|    3|4.1170059966359664|  4.07102261219478|\n",
      "|    CA_3|2016|    4| 4.066102196766773| 4.068016176878561|\n",
      "|    CA_3|2016|    5| 4.023705042622037|4.0503306087350035|\n",
      "|    CA_4|2016|    1|3.8274338954007794|3.8644840591124607|\n",
      "|    CA_4|2016|    2|3.7754648093457392|3.9058859204935863|\n",
      "|    CA_4|2016|    3| 3.850829959848531| 3.846919914294594|\n",
      "|    CA_4|2016|    4|3.8227563329513905|3.8287150223555195|\n",
      "|    CA_4|2016|    5| 3.770557474850995|3.8820052679039567|\n",
      "+--------+----+-----+------------------+------------------+\n",
      "only showing top 20 rows\n",
      "\n"
     ]
    }
   ],
   "source": [
    "predRf = rfModel.transform(test)\n",
    "predRf.select(\"store_id\", \"year\", \"month\", \"sales\", \"prediction\").show()"
   ]
  },
  {
   "cell_type": "code",
   "execution_count": 59,
   "metadata": {},
   "outputs": [],
   "source": [
    "RFresult = predRf.select(\"store_id\", \"year\", \"month\", \"sales\", \"prediction\")\n",
    "#RFresult.repartition(1).write.csv(\"RFresult\", header=\"true\")\n",
    "result = RFresult.toPandas()"
   ]
  },
  {
   "cell_type": "code",
   "execution_count": 71,
   "metadata": {},
   "outputs": [],
   "source": [
    "result.to_csv(\"RFresult.csv\",header=True, index=False)"
   ]
  },
  {
   "cell_type": "code",
   "execution_count": 35,
   "metadata": {},
   "outputs": [
    {
     "name": "stdout",
     "output_type": "stream",
     "text": [
      "Score:  0.010606751116485118\n"
     ]
    }
   ],
   "source": [
    "mape = MAPE(labelCol=\"sales\", predictionCol=\"prediction\")\n",
    "score = mape.evaluate(predRf)\n",
    "print(\"Score: \", score)"
   ]
  },
  {
   "cell_type": "markdown",
   "metadata": {},
   "source": [
    "# Prophet"
   ]
  },
  {
   "cell_type": "code",
   "execution_count": 9,
   "metadata": {},
   "outputs": [],
   "source": [
    "transformedProphet = transformed.withColumn(\"ds\", F.to_date(F.concat_ws(\"-\", \"Year\",\"month\")))\n",
    "trainProphet, testProphet = data.train_test_split(transformedProphet)"
   ]
  },
  {
   "cell_type": "code",
   "execution_count": 10,
   "metadata": {},
   "outputs": [],
   "source": [
    "def getStores(data):\n",
    "    storesName = data.select(\"store_id\").distinct().collect()\n",
    "    stores = {}\n",
    "    for store in storesName:\n",
    "        stores[store.store_id] = data.filter(df[\"store_id\"] == store.store_id)    \n",
    "    return stores"
   ]
  },
  {
   "cell_type": "code",
   "execution_count": 11,
   "metadata": {},
   "outputs": [],
   "source": [
    "trainStores = getStores(trainProphet)\n",
    "testStores = getStores(testProphet)"
   ]
  },
  {
   "cell_type": "code",
   "execution_count": 12,
   "metadata": {},
   "outputs": [],
   "source": [
    "#prophetModel = ProphetEstimator(labelCol=\"sales\").fit(trainStores[\"WI_2\"])\n",
    "#pred = prophetModel.transform(testStores[\"WI_2\"])\n",
    "#pred.show()"
   ]
  },
  {
   "cell_type": "code",
   "execution_count": 13,
   "metadata": {},
   "outputs": [
    {
     "name": "stdout",
     "output_type": "stream",
     "text": [
      "Training XGBoost\n"
     ]
    },
    {
     "name": "stderr",
     "output_type": "stream",
     "text": [
      "INFO:numexpr.utils:NumExpr defaulting to 8 threads.\n",
      "INFO:fbprophet:Disabling weekly seasonality. Run prophet with weekly_seasonality=True to override this.\n",
      "INFO:fbprophet:Disabling daily seasonality. Run prophet with daily_seasonality=True to override this.\n"
     ]
    },
    {
     "name": "stdout",
     "output_type": "stream",
     "text": [
      "score: 0.01840233127001839\n",
      "\r",
      "  0%|                                                                           | 0/10 [00:00<?, ?trial/s, best loss=?]"
     ]
    },
    {
     "name": "stderr",
     "output_type": "stream",
     "text": [
      "INFO:hyperopt.tpe:build_posterior_wrapper took 0.000000 seconds\n",
      "INFO:hyperopt.tpe:TPE using 0 trials\n",
      "INFO:fbprophet:Disabling weekly seasonality. Run prophet with weekly_seasonality=True to override this.\n",
      "INFO:fbprophet:Disabling daily seasonality. Run prophet with daily_seasonality=True to override this.\n"
     ]
    },
    {
     "name": "stdout",
     "output_type": "stream",
     "text": [
      "score:                                                                                                                 \n",
      "0.018816816489340568                                                                                                   \n",
      " 10%|████▋                                          | 1/10 [00:02<00:19,  2.22s/trial, best loss: 0.018816816489340568]"
     ]
    },
    {
     "name": "stderr",
     "output_type": "stream",
     "text": [
      "INFO:hyperopt.tpe:build_posterior_wrapper took 0.001998 seconds\n",
      "INFO:hyperopt.tpe:TPE using 1/1 trials with best loss 0.018817\n",
      "INFO:fbprophet:Disabling weekly seasonality. Run prophet with weekly_seasonality=True to override this.\n",
      "INFO:fbprophet:Disabling daily seasonality. Run prophet with daily_seasonality=True to override this.\n"
     ]
    },
    {
     "name": "stdout",
     "output_type": "stream",
     "text": [
      "score:                                                                                                                 \n",
      "0.01550634709632214                                                                                                    \n",
      " 20%|█████████▌                                      | 2/10 [00:05<00:20,  2.56s/trial, best loss: 0.01550634709632214]"
     ]
    },
    {
     "name": "stderr",
     "output_type": "stream",
     "text": [
      "INFO:hyperopt.tpe:build_posterior_wrapper took 0.001996 seconds\n",
      "INFO:hyperopt.tpe:TPE using 2/2 trials with best loss 0.015506\n",
      "INFO:fbprophet:Disabling weekly seasonality. Run prophet with weekly_seasonality=True to override this.\n",
      "INFO:fbprophet:Disabling daily seasonality. Run prophet with daily_seasonality=True to override this.\n"
     ]
    },
    {
     "name": "stdout",
     "output_type": "stream",
     "text": [
      "score:                                                                                                                 \n",
      "0.012903890771402577                                                                                                   \n",
      " 30%|██████████████                                 | 3/10 [00:09<00:23,  3.33s/trial, best loss: 0.012903890771402577]"
     ]
    },
    {
     "name": "stderr",
     "output_type": "stream",
     "text": [
      "INFO:hyperopt.tpe:build_posterior_wrapper took 0.005172 seconds\n",
      "INFO:hyperopt.tpe:TPE using 3/3 trials with best loss 0.012904\n",
      "INFO:fbprophet:Disabling weekly seasonality. Run prophet with weekly_seasonality=True to override this.\n",
      "INFO:fbprophet:Disabling daily seasonality. Run prophet with daily_seasonality=True to override this.\n"
     ]
    },
    {
     "name": "stdout",
     "output_type": "stream",
     "text": [
      "score:                                                                                                                 \n",
      "0.018447241975714918                                                                                                   \n",
      " 40%|██████████████████▊                            | 4/10 [00:13<00:21,  3.61s/trial, best loss: 0.012903890771402577]"
     ]
    },
    {
     "name": "stderr",
     "output_type": "stream",
     "text": [
      "INFO:hyperopt.tpe:build_posterior_wrapper took 0.000997 seconds\n",
      "INFO:hyperopt.tpe:TPE using 4/4 trials with best loss 0.012904\n",
      "INFO:fbprophet:Disabling weekly seasonality. Run prophet with weekly_seasonality=True to override this.\n",
      "INFO:fbprophet:Disabling daily seasonality. Run prophet with daily_seasonality=True to override this.\n",
      "INFO:fbprophet:n_changepoints greater than number of observations. Using 37.\n"
     ]
    },
    {
     "name": "stdout",
     "output_type": "stream",
     "text": [
      "score:                                                                                                                 \n",
      "0.014588217172766845                                                                                                   \n",
      " 50%|███████████████████████▌                       | 5/10 [02:59<05:11, 62.36s/trial, best loss: 0.012903890771402577]"
     ]
    },
    {
     "name": "stderr",
     "output_type": "stream",
     "text": [
      "INFO:hyperopt.tpe:build_posterior_wrapper took 0.005997 seconds\n",
      "INFO:hyperopt.tpe:TPE using 5/5 trials with best loss 0.012904\n",
      "INFO:fbprophet:Disabling weekly seasonality. Run prophet with weekly_seasonality=True to override this.\n",
      "INFO:fbprophet:Disabling daily seasonality. Run prophet with daily_seasonality=True to override this.\n"
     ]
    },
    {
     "name": "stdout",
     "output_type": "stream",
     "text": [
      "score:                                                                                                                 \n",
      "0.09818442660847948                                                                                                    \n",
      " 60%|████████████████████████████▏                  | 6/10 [05:46<06:31, 97.83s/trial, best loss: 0.012903890771402577]"
     ]
    },
    {
     "name": "stderr",
     "output_type": "stream",
     "text": [
      "INFO:hyperopt.tpe:build_posterior_wrapper took 0.002002 seconds\n",
      "INFO:hyperopt.tpe:TPE using 6/6 trials with best loss 0.012904\n",
      "INFO:fbprophet:Disabling weekly seasonality. Run prophet with weekly_seasonality=True to override this.\n",
      "INFO:fbprophet:Disabling daily seasonality. Run prophet with daily_seasonality=True to override this.\n"
     ]
    },
    {
     "name": "stdout",
     "output_type": "stream",
     "text": [
      "score:                                                                                                                 \n",
      "0.01550634709632214                                                                                                    \n",
      " 70%|████████████████████████████████▉              | 7/10 [05:49<03:20, 66.93s/trial, best loss: 0.012903890771402577]"
     ]
    },
    {
     "name": "stderr",
     "output_type": "stream",
     "text": [
      "INFO:hyperopt.tpe:build_posterior_wrapper took 0.004998 seconds\n",
      "INFO:hyperopt.tpe:TPE using 7/7 trials with best loss 0.012904\n",
      "INFO:fbprophet:Disabling weekly seasonality. Run prophet with weekly_seasonality=True to override this.\n",
      "INFO:fbprophet:Disabling daily seasonality. Run prophet with daily_seasonality=True to override this.\n",
      "INFO:fbprophet:n_changepoints greater than number of observations. Using 37.\n"
     ]
    },
    {
     "name": "stdout",
     "output_type": "stream",
     "text": [
      "score:                                                                                                                 \n",
      "0.009888717402002336                                                                                                   \n",
      " 80%|█████████████████████████████████████▌         | 8/10 [05:56<01:35, 47.68s/trial, best loss: 0.009888717402002336]"
     ]
    },
    {
     "name": "stderr",
     "output_type": "stream",
     "text": [
      "INFO:hyperopt.tpe:build_posterior_wrapper took 0.000996 seconds\n",
      "INFO:hyperopt.tpe:TPE using 8/8 trials with best loss 0.009889\n",
      "INFO:fbprophet:Disabling weekly seasonality. Run prophet with weekly_seasonality=True to override this.\n",
      "INFO:fbprophet:Disabling daily seasonality. Run prophet with daily_seasonality=True to override this.\n"
     ]
    },
    {
     "name": "stdout",
     "output_type": "stream",
     "text": [
      "score:                                                                                                                 \n",
      "0.01617318487791192                                                                                                    \n",
      " 90%|██████████████████████████████████████████▎    | 9/10 [06:00<00:34, 34.17s/trial, best loss: 0.009888717402002336]"
     ]
    },
    {
     "name": "stderr",
     "output_type": "stream",
     "text": [
      "INFO:hyperopt.tpe:build_posterior_wrapper took 0.012860 seconds\n",
      "INFO:hyperopt.tpe:TPE using 9/9 trials with best loss 0.009889\n",
      "INFO:fbprophet:Disabling weekly seasonality. Run prophet with weekly_seasonality=True to override this.\n",
      "INFO:fbprophet:Disabling daily seasonality. Run prophet with daily_seasonality=True to override this.\n"
     ]
    },
    {
     "name": "stdout",
     "output_type": "stream",
     "text": [
      "score:                                                                                                                 \n",
      "0.01837973317203755                                                                                                    \n",
      "100%|██████████████████████████████████████████████| 10/10 [06:04<00:00, 36.50s/trial, best loss: 0.009888717402002336]\n",
      "{'changepoint_prior_scale': 1, 'holidays_prior_scale': 4, 'n_changepoints': 7}\n"
     ]
    },
    {
     "name": "stderr",
     "output_type": "stream",
     "text": [
      "INFO:fbprophet:Disabling weekly seasonality. Run prophet with weekly_seasonality=True to override this.\n",
      "INFO:fbprophet:Disabling daily seasonality. Run prophet with daily_seasonality=True to override this.\n"
     ]
    },
    {
     "name": "stdout",
     "output_type": "stream",
     "text": [
      "Training XGBoost\n"
     ]
    },
    {
     "name": "stderr",
     "output_type": "stream",
     "text": [
      "INFO:fbprophet:Disabling weekly seasonality. Run prophet with weekly_seasonality=True to override this.\n",
      "INFO:fbprophet:Disabling daily seasonality. Run prophet with daily_seasonality=True to override this.\n"
     ]
    },
    {
     "name": "stdout",
     "output_type": "stream",
     "text": [
      "score: 0.05851314856555362\n",
      "\r",
      "  0%|                                                                           | 0/10 [00:00<?, ?trial/s, best loss=?]"
     ]
    },
    {
     "name": "stderr",
     "output_type": "stream",
     "text": [
      "INFO:hyperopt.tpe:build_posterior_wrapper took 0.000000 seconds\n",
      "INFO:hyperopt.tpe:TPE using 0 trials\n",
      "INFO:fbprophet:Disabling weekly seasonality. Run prophet with weekly_seasonality=True to override this.\n",
      "INFO:fbprophet:Disabling daily seasonality. Run prophet with daily_seasonality=True to override this.\n",
      "INFO:fbprophet:n_changepoints greater than number of observations. Using 37.\n"
     ]
    },
    {
     "name": "stdout",
     "output_type": "stream",
     "text": [
      "score:                                                                                                                 \n",
      "0.02068662901069981                                                                                                    \n",
      " 10%|████▋                                          | 1/10 [02:56<26:32, 176.93s/trial, best loss: 0.02068662901069981]"
     ]
    },
    {
     "name": "stderr",
     "output_type": "stream",
     "text": [
      "INFO:hyperopt.tpe:build_posterior_wrapper took 0.005624 seconds\n",
      "INFO:hyperopt.tpe:TPE using 1/1 trials with best loss 0.020687\n",
      "INFO:fbprophet:Disabling weekly seasonality. Run prophet with weekly_seasonality=True to override this.\n",
      "INFO:fbprophet:Disabling daily seasonality. Run prophet with daily_seasonality=True to override this.\n"
     ]
    },
    {
     "name": "stdout",
     "output_type": "stream",
     "text": [
      "score:                                                                                                                 \n",
      "0.0313909950099141                                                                                                     \n",
      " 20%|█████████▌                                      | 2/10 [03:00<09:58, 74.86s/trial, best loss: 0.02068662901069981]"
     ]
    },
    {
     "name": "stderr",
     "output_type": "stream",
     "text": [
      "INFO:hyperopt.tpe:build_posterior_wrapper took 0.000000 seconds\n",
      "INFO:hyperopt.tpe:TPE using 2/2 trials with best loss 0.020687\n",
      "INFO:fbprophet:Disabling weekly seasonality. Run prophet with weekly_seasonality=True to override this.\n",
      "INFO:fbprophet:Disabling daily seasonality. Run prophet with daily_seasonality=True to override this.\n"
     ]
    },
    {
     "name": "stdout",
     "output_type": "stream",
     "text": [
      "score:                                                                                                                 \n",
      "0.025739795530203332                                                                                                   \n",
      " 30%|██████████████                                 | 3/10 [05:49<13:45, 117.94s/trial, best loss: 0.02068662901069981]"
     ]
    },
    {
     "name": "stderr",
     "output_type": "stream",
     "text": [
      "INFO:hyperopt.tpe:build_posterior_wrapper took 0.000000 seconds\n",
      "INFO:hyperopt.tpe:TPE using 3/3 trials with best loss 0.020687\n",
      "INFO:fbprophet:Disabling weekly seasonality. Run prophet with weekly_seasonality=True to override this.\n",
      "INFO:fbprophet:Disabling daily seasonality. Run prophet with daily_seasonality=True to override this.\n",
      "INFO:fbprophet:n_changepoints greater than number of observations. Using 37.\n"
     ]
    },
    {
     "name": "stdout",
     "output_type": "stream",
     "text": [
      "score:                                                                                                                 \n",
      "0.021036833221217313                                                                                                   \n",
      " 40%|██████████████████▊                            | 4/10 [08:33<13:35, 136.00s/trial, best loss: 0.02068662901069981]"
     ]
    },
    {
     "name": "stderr",
     "output_type": "stream",
     "text": [
      "INFO:hyperopt.tpe:build_posterior_wrapper took 0.002077 seconds\n",
      "INFO:hyperopt.tpe:TPE using 4/4 trials with best loss 0.020687\n",
      "INFO:fbprophet:Disabling weekly seasonality. Run prophet with weekly_seasonality=True to override this.\n",
      "INFO:fbprophet:Disabling daily seasonality. Run prophet with daily_seasonality=True to override this.\n",
      "INFO:fbprophet:n_changepoints greater than number of observations. Using 37.\n"
     ]
    },
    {
     "name": "stdout",
     "output_type": "stream",
     "text": [
      "score:                                                                                                                 \n",
      "0.026073776285332306                                                                                                   \n",
      " 50%|███████████████████████▌                       | 5/10 [11:06<11:50, 142.12s/trial, best loss: 0.02068662901069981]"
     ]
    },
    {
     "name": "stderr",
     "output_type": "stream",
     "text": [
      "INFO:hyperopt.tpe:build_posterior_wrapper took 0.001994 seconds\n",
      "INFO:hyperopt.tpe:TPE using 5/5 trials with best loss 0.020687\n",
      "INFO:fbprophet:Disabling weekly seasonality. Run prophet with weekly_seasonality=True to override this.\n",
      "INFO:fbprophet:Disabling daily seasonality. Run prophet with daily_seasonality=True to override this.\n"
     ]
    },
    {
     "name": "stdout",
     "output_type": "stream",
     "text": [
      "score:                                                                                                                 \n",
      "0.03440366886595563                                                                                                    \n",
      " 60%|████████████████████████████▊                   | 6/10 [11:07<06:17, 94.41s/trial, best loss: 0.02068662901069981]"
     ]
    },
    {
     "name": "stderr",
     "output_type": "stream",
     "text": [
      "INFO:hyperopt.tpe:build_posterior_wrapper took 0.001076 seconds\n",
      "INFO:hyperopt.tpe:TPE using 6/6 trials with best loss 0.020687\n",
      "INFO:fbprophet:Disabling weekly seasonality. Run prophet with weekly_seasonality=True to override this.\n",
      "INFO:fbprophet:Disabling daily seasonality. Run prophet with daily_seasonality=True to override this.\n"
     ]
    },
    {
     "name": "stdout",
     "output_type": "stream",
     "text": [
      "score:                                                                                                                 \n",
      "0.028752859311406257                                                                                                   \n",
      " 70%|█████████████████████████████████▌              | 7/10 [11:11<03:14, 64.69s/trial, best loss: 0.02068662901069981]"
     ]
    },
    {
     "name": "stderr",
     "output_type": "stream",
     "text": [
      "INFO:hyperopt.tpe:build_posterior_wrapper took 0.001994 seconds\n",
      "INFO:hyperopt.tpe:TPE using 7/7 trials with best loss 0.020687\n",
      "INFO:fbprophet:Disabling weekly seasonality. Run prophet with weekly_seasonality=True to override this.\n",
      "INFO:fbprophet:Disabling daily seasonality. Run prophet with daily_seasonality=True to override this.\n",
      "INFO:fbprophet:n_changepoints greater than number of observations. Using 37.\n"
     ]
    },
    {
     "name": "stdout",
     "output_type": "stream",
     "text": [
      "score:                                                                                                                 \n",
      "0.021036833221217313                                                                                                   \n",
      " 80%|██████████████████████████████████████▍         | 8/10 [13:48<03:08, 94.11s/trial, best loss: 0.02068662901069981]"
     ]
    },
    {
     "name": "stderr",
     "output_type": "stream",
     "text": [
      "INFO:hyperopt.tpe:build_posterior_wrapper took 0.002265 seconds\n",
      "INFO:hyperopt.tpe:TPE using 8/8 trials with best loss 0.020687\n",
      "INFO:fbprophet:Disabling weekly seasonality. Run prophet with weekly_seasonality=True to override this.\n",
      "INFO:fbprophet:Disabling daily seasonality. Run prophet with daily_seasonality=True to override this.\n"
     ]
    },
    {
     "name": "stdout",
     "output_type": "stream",
     "text": [
      "score:                                                                                                                 \n",
      "0.045570341363969834                                                                                                   \n",
      " 90%|██████████████████████████████████████████▎    | 9/10 [16:10<01:49, 109.11s/trial, best loss: 0.02068662901069981]"
     ]
    },
    {
     "name": "stderr",
     "output_type": "stream",
     "text": [
      "INFO:hyperopt.tpe:build_posterior_wrapper took 0.002408 seconds\n",
      "INFO:hyperopt.tpe:TPE using 9/9 trials with best loss 0.020687\n",
      "INFO:fbprophet:Disabling weekly seasonality. Run prophet with weekly_seasonality=True to override this.\n",
      "INFO:fbprophet:Disabling daily seasonality. Run prophet with daily_seasonality=True to override this.\n",
      "INFO:fbprophet:n_changepoints greater than number of observations. Using 37.\n"
     ]
    },
    {
     "name": "stdout",
     "output_type": "stream",
     "text": [
      "score:                                                                                                                 \n",
      "0.026073776285332306                                                                                                   \n",
      "100%|██████████████████████████████████████████████| 10/10 [18:39<00:00, 111.98s/trial, best loss: 0.02068662901069981]\n",
      "{'changepoint_prior_scale': 1, 'holidays_prior_scale': 4, 'n_changepoints': 6}\n"
     ]
    },
    {
     "name": "stderr",
     "output_type": "stream",
     "text": [
      "INFO:fbprophet:Disabling weekly seasonality. Run prophet with weekly_seasonality=True to override this.\n",
      "INFO:fbprophet:Disabling daily seasonality. Run prophet with daily_seasonality=True to override this.\n"
     ]
    },
    {
     "name": "stdout",
     "output_type": "stream",
     "text": [
      "Training XGBoost\n"
     ]
    },
    {
     "name": "stderr",
     "output_type": "stream",
     "text": [
      "INFO:fbprophet:Disabling weekly seasonality. Run prophet with weekly_seasonality=True to override this.\n",
      "INFO:fbprophet:Disabling daily seasonality. Run prophet with daily_seasonality=True to override this.\n"
     ]
    },
    {
     "name": "stdout",
     "output_type": "stream",
     "text": [
      "score: 0.0267298559975902\n",
      "\r",
      "  0%|                                                                           | 0/10 [00:00<?, ?trial/s, best loss=?]"
     ]
    },
    {
     "name": "stderr",
     "output_type": "stream",
     "text": [
      "INFO:hyperopt.tpe:build_posterior_wrapper took 0.000000 seconds\n",
      "INFO:hyperopt.tpe:TPE using 0 trials\n",
      "INFO:fbprophet:Disabling weekly seasonality. Run prophet with weekly_seasonality=True to override this.\n",
      "INFO:fbprophet:Disabling daily seasonality. Run prophet with daily_seasonality=True to override this.\n"
     ]
    },
    {
     "name": "stdout",
     "output_type": "stream",
     "text": [
      "score:                                                                                                                 \n",
      "0.012781218247586575                                                                                                   \n",
      " 10%|████▋                                          | 1/10 [00:02<00:25,  2.81s/trial, best loss: 0.012781218247586575]"
     ]
    },
    {
     "name": "stderr",
     "output_type": "stream",
     "text": [
      "INFO:hyperopt.tpe:build_posterior_wrapper took 0.001818 seconds\n",
      "INFO:hyperopt.tpe:TPE using 1/1 trials with best loss 0.012781\n",
      "INFO:fbprophet:Disabling weekly seasonality. Run prophet with weekly_seasonality=True to override this.\n",
      "INFO:fbprophet:Disabling daily seasonality. Run prophet with daily_seasonality=True to override this.\n"
     ]
    },
    {
     "name": "stdout",
     "output_type": "stream",
     "text": [
      "score:                                                                                                                 \n",
      "0.013538912913101414                                                                                                   \n",
      " 20%|█████████▍                                     | 2/10 [00:05<00:21,  2.70s/trial, best loss: 0.012781218247586575]"
     ]
    },
    {
     "name": "stderr",
     "output_type": "stream",
     "text": [
      "INFO:hyperopt.tpe:build_posterior_wrapper took 0.009444 seconds\n",
      "INFO:hyperopt.tpe:TPE using 2/2 trials with best loss 0.012781\n",
      "INFO:fbprophet:Disabling weekly seasonality. Run prophet with weekly_seasonality=True to override this.\n",
      "INFO:fbprophet:Disabling daily seasonality. Run prophet with daily_seasonality=True to override this.\n",
      "INFO:fbprophet:n_changepoints greater than number of observations. Using 37.\n"
     ]
    },
    {
     "name": "stdout",
     "output_type": "stream",
     "text": [
      "score:                                                                                                                 \n",
      "0.009801083691446662                                                                                                   \n",
      " 30%|██████████████                                 | 3/10 [02:53<09:07, 78.23s/trial, best loss: 0.009801083691446662]"
     ]
    },
    {
     "name": "stderr",
     "output_type": "stream",
     "text": [
      "INFO:hyperopt.tpe:build_posterior_wrapper took 0.014493 seconds\n",
      "INFO:hyperopt.tpe:TPE using 3/3 trials with best loss 0.009801\n",
      "INFO:fbprophet:Disabling weekly seasonality. Run prophet with weekly_seasonality=True to override this.\n",
      "INFO:fbprophet:Disabling daily seasonality. Run prophet with daily_seasonality=True to override this.\n",
      "INFO:fbprophet:n_changepoints greater than number of observations. Using 37.\n"
     ]
    },
    {
     "name": "stdout",
     "output_type": "stream",
     "text": [
      "score:                                                                                                                 \n",
      "0.02984655661772148                                                                                                    \n",
      " 40%|██████████████████▍                           | 4/10 [05:35<11:08, 111.35s/trial, best loss: 0.009801083691446662]"
     ]
    },
    {
     "name": "stderr",
     "output_type": "stream",
     "text": [
      "INFO:hyperopt.tpe:build_posterior_wrapper took 0.001996 seconds\n",
      "INFO:hyperopt.tpe:TPE using 4/4 trials with best loss 0.009801\n",
      "INFO:fbprophet:Disabling weekly seasonality. Run prophet with weekly_seasonality=True to override this.\n",
      "INFO:fbprophet:Disabling daily seasonality. Run prophet with daily_seasonality=True to override this.\n"
     ]
    },
    {
     "name": "stdout",
     "output_type": "stream",
     "text": [
      "score:                                                                                                                 \n",
      "0.03577232571706713                                                                                                    \n",
      " 50%|███████████████████████▌                       | 5/10 [05:39<06:02, 72.51s/trial, best loss: 0.009801083691446662]"
     ]
    },
    {
     "name": "stderr",
     "output_type": "stream",
     "text": [
      "INFO:hyperopt.tpe:build_posterior_wrapper took 0.001994 seconds\n",
      "INFO:hyperopt.tpe:TPE using 5/5 trials with best loss 0.009801\n",
      "INFO:fbprophet:Disabling weekly seasonality. Run prophet with weekly_seasonality=True to override this.\n",
      "INFO:fbprophet:Disabling daily seasonality. Run prophet with daily_seasonality=True to override this.\n",
      "INFO:fbprophet:n_changepoints greater than number of observations. Using 37.\n"
     ]
    },
    {
     "name": "stdout",
     "output_type": "stream",
     "text": [
      "score:                                                                                                                 \n",
      "0.02984655661772148                                                                                                    \n",
      " 60%|███████████████████████████▌                  | 6/10 [08:23<06:55, 103.84s/trial, best loss: 0.009801083691446662]"
     ]
    },
    {
     "name": "stderr",
     "output_type": "stream",
     "text": [
      "INFO:hyperopt.tpe:build_posterior_wrapper took 0.001994 seconds\n",
      "INFO:hyperopt.tpe:TPE using 6/6 trials with best loss 0.009801\n",
      "INFO:fbprophet:Disabling weekly seasonality. Run prophet with weekly_seasonality=True to override this.\n",
      "INFO:fbprophet:Disabling daily seasonality. Run prophet with daily_seasonality=True to override this.\n"
     ]
    },
    {
     "name": "stdout",
     "output_type": "stream",
     "text": [
      "score:                                                                                                                 \n",
      "0.013879512728166017                                                                                                   \n",
      " 70%|████████████████████████████████▉              | 7/10 [08:26<03:32, 70.76s/trial, best loss: 0.009801083691446662]"
     ]
    },
    {
     "name": "stderr",
     "output_type": "stream",
     "text": [
      "INFO:hyperopt.tpe:build_posterior_wrapper took 0.001993 seconds\n",
      "INFO:hyperopt.tpe:TPE using 7/7 trials with best loss 0.009801\n",
      "INFO:fbprophet:Disabling weekly seasonality. Run prophet with weekly_seasonality=True to override this.\n",
      "INFO:fbprophet:Disabling daily seasonality. Run prophet with daily_seasonality=True to override this.\n",
      "INFO:fbprophet:n_changepoints greater than number of observations. Using 37.\n"
     ]
    },
    {
     "name": "stdout",
     "output_type": "stream",
     "text": [
      "score:                                                                                                                 \n",
      "0.04389152413080941                                                                                                    \n",
      " 80%|█████████████████████████████████████▌         | 8/10 [11:08<03:19, 99.85s/trial, best loss: 0.009801083691446662]"
     ]
    },
    {
     "name": "stderr",
     "output_type": "stream",
     "text": [
      "INFO:hyperopt.tpe:build_posterior_wrapper took 0.002007 seconds\n",
      "INFO:hyperopt.tpe:TPE using 8/8 trials with best loss 0.009801\n",
      "INFO:fbprophet:Disabling weekly seasonality. Run prophet with weekly_seasonality=True to override this.\n",
      "INFO:fbprophet:Disabling daily seasonality. Run prophet with daily_seasonality=True to override this.\n"
     ]
    },
    {
     "name": "stdout",
     "output_type": "stream",
     "text": [
      "score:                                                                                                                 \n",
      "0.017881947026712402                                                                                                   \n",
      " 90%|██████████████████████████████████████████▎    | 9/10 [11:13<01:10, 70.01s/trial, best loss: 0.009801083691446662]"
     ]
    },
    {
     "name": "stderr",
     "output_type": "stream",
     "text": [
      "INFO:hyperopt.tpe:build_posterior_wrapper took 0.001995 seconds\n",
      "INFO:hyperopt.tpe:TPE using 9/9 trials with best loss 0.009801\n",
      "INFO:fbprophet:Disabling weekly seasonality. Run prophet with weekly_seasonality=True to override this.\n",
      "INFO:fbprophet:Disabling daily seasonality. Run prophet with daily_seasonality=True to override this.\n"
     ]
    },
    {
     "name": "stdout",
     "output_type": "stream",
     "text": [
      "score:                                                                                                                 \n",
      "0.03577232571706713                                                                                                    \n",
      "100%|██████████████████████████████████████████████| 10/10 [11:16<00:00, 67.69s/trial, best loss: 0.009801083691446662]\n",
      "{'changepoint_prior_scale': 4, 'holidays_prior_scale': 3, 'n_changepoints': 6}\n"
     ]
    },
    {
     "name": "stderr",
     "output_type": "stream",
     "text": [
      "INFO:fbprophet:Disabling weekly seasonality. Run prophet with weekly_seasonality=True to override this.\n",
      "INFO:fbprophet:Disabling daily seasonality. Run prophet with daily_seasonality=True to override this.\n"
     ]
    },
    {
     "name": "stdout",
     "output_type": "stream",
     "text": [
      "Training XGBoost\n"
     ]
    },
    {
     "name": "stderr",
     "output_type": "stream",
     "text": [
      "INFO:fbprophet:Disabling weekly seasonality. Run prophet with weekly_seasonality=True to override this.\n",
      "INFO:fbprophet:Disabling daily seasonality. Run prophet with daily_seasonality=True to override this.\n"
     ]
    },
    {
     "name": "stdout",
     "output_type": "stream",
     "text": [
      "score: 0.016392109137133935\n",
      "\r",
      "  0%|                                                                           | 0/10 [00:00<?, ?trial/s, best loss=?]"
     ]
    },
    {
     "name": "stderr",
     "output_type": "stream",
     "text": [
      "INFO:hyperopt.tpe:build_posterior_wrapper took 0.001194 seconds\n",
      "INFO:hyperopt.tpe:TPE using 0 trials\n",
      "INFO:fbprophet:Disabling weekly seasonality. Run prophet with weekly_seasonality=True to override this.\n",
      "INFO:fbprophet:Disabling daily seasonality. Run prophet with daily_seasonality=True to override this.\n"
     ]
    },
    {
     "name": "stdout",
     "output_type": "stream",
     "text": [
      "score:                                                                                                                 \n",
      "0.015764643707050264                                                                                                   \n",
      " 10%|████▋                                          | 1/10 [00:04<00:40,  4.47s/trial, best loss: 0.015764643707050264]"
     ]
    },
    {
     "name": "stderr",
     "output_type": "stream",
     "text": [
      "INFO:hyperopt.tpe:build_posterior_wrapper took 0.001994 seconds\n",
      "INFO:hyperopt.tpe:TPE using 1/1 trials with best loss 0.015765\n",
      "INFO:fbprophet:Disabling weekly seasonality. Run prophet with weekly_seasonality=True to override this.\n",
      "INFO:fbprophet:Disabling daily seasonality. Run prophet with daily_seasonality=True to override this.\n"
     ]
    },
    {
     "name": "stdout",
     "output_type": "stream",
     "text": [
      "score:                                                                                                                 \n",
      "0.015970965036312117                                                                                                   \n",
      " 20%|█████████▍                                     | 2/10 [00:06<00:24,  3.11s/trial, best loss: 0.015764643707050264]"
     ]
    },
    {
     "name": "stderr",
     "output_type": "stream",
     "text": [
      "INFO:hyperopt.tpe:build_posterior_wrapper took 0.002023 seconds\n",
      "INFO:hyperopt.tpe:TPE using 2/2 trials with best loss 0.015765\n",
      "INFO:fbprophet:Disabling weekly seasonality. Run prophet with weekly_seasonality=True to override this.\n",
      "INFO:fbprophet:Disabling daily seasonality. Run prophet with daily_seasonality=True to override this.\n"
     ]
    },
    {
     "name": "stdout",
     "output_type": "stream",
     "text": [
      "score:                                                                                                                 \n",
      "0.01813028996523805                                                                                                    \n",
      " 30%|██████████████                                 | 3/10 [00:08<00:18,  2.60s/trial, best loss: 0.015764643707050264]"
     ]
    },
    {
     "name": "stderr",
     "output_type": "stream",
     "text": [
      "INFO:hyperopt.tpe:build_posterior_wrapper took 0.001060 seconds\n",
      "INFO:hyperopt.tpe:TPE using 3/3 trials with best loss 0.015765\n",
      "INFO:fbprophet:Disabling weekly seasonality. Run prophet with weekly_seasonality=True to override this.\n",
      "INFO:fbprophet:Disabling daily seasonality. Run prophet with daily_seasonality=True to override this.\n"
     ]
    },
    {
     "name": "stdout",
     "output_type": "stream",
     "text": [
      "score:                                                                                                                 \n",
      "0.01570191930228085                                                                                                    \n",
      " 40%|███████████████████▏                            | 4/10 [00:11<00:16,  2.73s/trial, best loss: 0.01570191930228085]"
     ]
    },
    {
     "name": "stderr",
     "output_type": "stream",
     "text": [
      "INFO:hyperopt.tpe:build_posterior_wrapper took 0.002000 seconds\n",
      "INFO:hyperopt.tpe:TPE using 4/4 trials with best loss 0.015702\n",
      "INFO:fbprophet:Disabling weekly seasonality. Run prophet with weekly_seasonality=True to override this.\n",
      "INFO:fbprophet:Disabling daily seasonality. Run prophet with daily_seasonality=True to override this.\n",
      "INFO:fbprophet:n_changepoints greater than number of observations. Using 37.\n"
     ]
    },
    {
     "name": "stdout",
     "output_type": "stream",
     "text": [
      "score:                                                                                                                 \n",
      "0.01254506757337312                                                                                                    \n",
      " 50%|████████████████████████                        | 5/10 [02:50<04:54, 58.89s/trial, best loss: 0.01254506757337312]"
     ]
    },
    {
     "name": "stderr",
     "output_type": "stream",
     "text": [
      "INFO:hyperopt.tpe:build_posterior_wrapper took 0.000997 seconds\n",
      "INFO:hyperopt.tpe:TPE using 5/5 trials with best loss 0.012545\n",
      "INFO:fbprophet:Disabling weekly seasonality. Run prophet with weekly_seasonality=True to override this.\n",
      "INFO:fbprophet:Disabling daily seasonality. Run prophet with daily_seasonality=True to override this.\n",
      "INFO:fbprophet:n_changepoints greater than number of observations. Using 37.\n"
     ]
    },
    {
     "name": "stdout",
     "output_type": "stream",
     "text": [
      "score:                                                                                                                 \n",
      "0.017035198607891416                                                                                                   \n",
      " 60%|████████████████████████████▊                   | 6/10 [05:29<06:12, 93.14s/trial, best loss: 0.01254506757337312]"
     ]
    },
    {
     "name": "stderr",
     "output_type": "stream",
     "text": [
      "INFO:hyperopt.tpe:build_posterior_wrapper took 0.001994 seconds\n",
      "INFO:hyperopt.tpe:TPE using 6/6 trials with best loss 0.012545\n",
      "INFO:fbprophet:Disabling weekly seasonality. Run prophet with weekly_seasonality=True to override this.\n",
      "INFO:fbprophet:Disabling daily seasonality. Run prophet with daily_seasonality=True to override this.\n"
     ]
    },
    {
     "name": "stdout",
     "output_type": "stream",
     "text": [
      "score:                                                                                                                 \n",
      "0.07021490043177007                                                                                                    \n",
      " 70%|████████████████████████████████▉              | 7/10 [07:48<05:24, 108.03s/trial, best loss: 0.01254506757337312]"
     ]
    },
    {
     "name": "stderr",
     "output_type": "stream",
     "text": [
      "INFO:hyperopt.tpe:build_posterior_wrapper took 0.001995 seconds\n",
      "INFO:hyperopt.tpe:TPE using 7/7 trials with best loss 0.012545\n",
      "INFO:fbprophet:Disabling weekly seasonality. Run prophet with weekly_seasonality=True to override this.\n",
      "INFO:fbprophet:Disabling daily seasonality. Run prophet with daily_seasonality=True to override this.\n",
      "INFO:fbprophet:n_changepoints greater than number of observations. Using 37.\n"
     ]
    },
    {
     "name": "stdout",
     "output_type": "stream",
     "text": [
      "score:                                                                                                                 \n",
      "0.01298714901489463                                                                                                    \n",
      " 80%|█████████████████████████████████████▌         | 8/10 [10:32<04:11, 125.93s/trial, best loss: 0.01254506757337312]"
     ]
    },
    {
     "name": "stderr",
     "output_type": "stream",
     "text": [
      "INFO:hyperopt.tpe:build_posterior_wrapper took 0.002992 seconds\n",
      "INFO:hyperopt.tpe:TPE using 8/8 trials with best loss 0.012545\n",
      "INFO:fbprophet:Disabling weekly seasonality. Run prophet with weekly_seasonality=True to override this.\n",
      "INFO:fbprophet:Disabling daily seasonality. Run prophet with daily_seasonality=True to override this.\n"
     ]
    },
    {
     "name": "stdout",
     "output_type": "stream",
     "text": [
      "score:                                                                                                                 \n",
      "0.01570191930228085                                                                                                    \n",
      " 90%|███████████████████████████████████████████▏    | 9/10 [10:35<01:27, 87.49s/trial, best loss: 0.01254506757337312]"
     ]
    },
    {
     "name": "stderr",
     "output_type": "stream",
     "text": [
      "INFO:hyperopt.tpe:build_posterior_wrapper took 0.002023 seconds\n",
      "INFO:hyperopt.tpe:TPE using 9/9 trials with best loss 0.012545\n",
      "INFO:fbprophet:Disabling weekly seasonality. Run prophet with weekly_seasonality=True to override this.\n",
      "INFO:fbprophet:Disabling daily seasonality. Run prophet with daily_seasonality=True to override this.\n"
     ]
    },
    {
     "name": "stdout",
     "output_type": "stream",
     "text": [
      "score:                                                                                                                 \n",
      "0.01624169009246808                                                                                                    \n",
      "100%|███████████████████████████████████████████████| 10/10 [10:40<00:00, 64.02s/trial, best loss: 0.01254506757337312]\n",
      "{'changepoint_prior_scale': 2, 'holidays_prior_scale': 3, 'n_changepoints': 6}\n"
     ]
    },
    {
     "name": "stderr",
     "output_type": "stream",
     "text": [
      "INFO:fbprophet:Disabling weekly seasonality. Run prophet with weekly_seasonality=True to override this.\n",
      "INFO:fbprophet:Disabling daily seasonality. Run prophet with daily_seasonality=True to override this.\n"
     ]
    },
    {
     "name": "stdout",
     "output_type": "stream",
     "text": [
      "Training XGBoost\n"
     ]
    },
    {
     "name": "stderr",
     "output_type": "stream",
     "text": [
      "INFO:fbprophet:Disabling weekly seasonality. Run prophet with weekly_seasonality=True to override this.\n",
      "INFO:fbprophet:Disabling daily seasonality. Run prophet with daily_seasonality=True to override this.\n"
     ]
    },
    {
     "name": "stdout",
     "output_type": "stream",
     "text": [
      "score: 0.025418223187866296\n",
      "\r",
      "  0%|                                                                           | 0/10 [00:00<?, ?trial/s, best loss=?]"
     ]
    },
    {
     "name": "stderr",
     "output_type": "stream",
     "text": [
      "INFO:hyperopt.tpe:build_posterior_wrapper took 0.002004 seconds\n",
      "INFO:hyperopt.tpe:TPE using 0 trials\n",
      "INFO:fbprophet:Disabling weekly seasonality. Run prophet with weekly_seasonality=True to override this.\n",
      "INFO:fbprophet:Disabling daily seasonality. Run prophet with daily_seasonality=True to override this.\n",
      "INFO:fbprophet:n_changepoints greater than number of observations. Using 37.\n"
     ]
    },
    {
     "name": "stdout",
     "output_type": "stream",
     "text": [
      "score:                                                                                                                 \n",
      "0.02270999054766661                                                                                                    \n",
      " 10%|████▊                                           | 1/10 [00:05<00:52,  5.79s/trial, best loss: 0.02270999054766661]"
     ]
    },
    {
     "name": "stderr",
     "output_type": "stream",
     "text": [
      "INFO:hyperopt.tpe:build_posterior_wrapper took 0.000997 seconds\n",
      "INFO:hyperopt.tpe:TPE using 1/1 trials with best loss 0.022710\n",
      "INFO:fbprophet:Disabling weekly seasonality. Run prophet with weekly_seasonality=True to override this.\n",
      "INFO:fbprophet:Disabling daily seasonality. Run prophet with daily_seasonality=True to override this.\n"
     ]
    },
    {
     "name": "stdout",
     "output_type": "stream",
     "text": [
      "score:                                                                                                                 \n",
      "0.019702936239329134                                                                                                   \n",
      " 20%|█████████▍                                     | 2/10 [00:08<00:30,  3.78s/trial, best loss: 0.019702936239329134]"
     ]
    },
    {
     "name": "stderr",
     "output_type": "stream",
     "text": [
      "INFO:hyperopt.tpe:build_posterior_wrapper took 0.001980 seconds\n",
      "INFO:hyperopt.tpe:TPE using 2/2 trials with best loss 0.019703\n",
      "INFO:fbprophet:Disabling weekly seasonality. Run prophet with weekly_seasonality=True to override this.\n",
      "INFO:fbprophet:Disabling daily seasonality. Run prophet with daily_seasonality=True to override this.\n"
     ]
    },
    {
     "name": "stdout",
     "output_type": "stream",
     "text": [
      "score:                                                                                                                 \n",
      "0.023257245196303598                                                                                                   \n",
      " 30%|██████████████                                 | 3/10 [00:11<00:24,  3.53s/trial, best loss: 0.019702936239329134]"
     ]
    },
    {
     "name": "stderr",
     "output_type": "stream",
     "text": [
      "INFO:hyperopt.tpe:build_posterior_wrapper took 0.000998 seconds\n",
      "INFO:hyperopt.tpe:TPE using 3/3 trials with best loss 0.019703\n",
      "INFO:fbprophet:Disabling weekly seasonality. Run prophet with weekly_seasonality=True to override this.\n",
      "INFO:fbprophet:Disabling daily seasonality. Run prophet with daily_seasonality=True to override this.\n"
     ]
    },
    {
     "name": "stdout",
     "output_type": "stream",
     "text": [
      "score:                                                                                                                 \n",
      "0.013875766944372342                                                                                                   \n",
      " 40%|██████████████████▊                            | 4/10 [00:16<00:25,  4.27s/trial, best loss: 0.013875766944372342]"
     ]
    },
    {
     "name": "stderr",
     "output_type": "stream",
     "text": [
      "INFO:hyperopt.tpe:build_posterior_wrapper took 0.000996 seconds\n",
      "INFO:hyperopt.tpe:TPE using 4/4 trials with best loss 0.013876\n",
      "INFO:fbprophet:Disabling weekly seasonality. Run prophet with weekly_seasonality=True to override this.\n",
      "INFO:fbprophet:Disabling daily seasonality. Run prophet with daily_seasonality=True to override this.\n"
     ]
    },
    {
     "name": "stdout",
     "output_type": "stream",
     "text": [
      "score:                                                                                                                 \n",
      "0.027346593236904398                                                                                                   \n",
      " 50%|███████████████████████▌                       | 5/10 [00:20<00:20,  4.15s/trial, best loss: 0.013875766944372342]"
     ]
    },
    {
     "name": "stderr",
     "output_type": "stream",
     "text": [
      "INFO:hyperopt.tpe:build_posterior_wrapper took 0.001947 seconds\n",
      "INFO:hyperopt.tpe:TPE using 5/5 trials with best loss 0.013876\n",
      "INFO:fbprophet:Disabling weekly seasonality. Run prophet with weekly_seasonality=True to override this.\n",
      "INFO:fbprophet:Disabling daily seasonality. Run prophet with daily_seasonality=True to override this.\n"
     ]
    },
    {
     "name": "stdout",
     "output_type": "stream",
     "text": [
      "score:                                                                                                                 \n",
      "0.022249171482234143                                                                                                   \n",
      " 60%|████████████████████████████▏                  | 6/10 [00:22<00:13,  3.44s/trial, best loss: 0.013875766944372342]"
     ]
    },
    {
     "name": "stderr",
     "output_type": "stream",
     "text": [
      "INFO:hyperopt.tpe:build_posterior_wrapper took 0.001994 seconds\n",
      "INFO:hyperopt.tpe:TPE using 6/6 trials with best loss 0.013876\n",
      "INFO:fbprophet:Disabling weekly seasonality. Run prophet with weekly_seasonality=True to override this.\n",
      "INFO:fbprophet:Disabling daily seasonality. Run prophet with daily_seasonality=True to override this.\n",
      "INFO:fbprophet:n_changepoints greater than number of observations. Using 37.\n"
     ]
    },
    {
     "name": "stdout",
     "output_type": "stream",
     "text": [
      "score:                                                                                                                 \n",
      "0.06757801437980357                                                                                                    \n",
      " 70%|████████████████████████████████▉              | 7/10 [03:08<02:49, 56.65s/trial, best loss: 0.013875766944372342]"
     ]
    },
    {
     "name": "stderr",
     "output_type": "stream",
     "text": [
      "INFO:hyperopt.tpe:build_posterior_wrapper took 0.000997 seconds\n",
      "INFO:hyperopt.tpe:TPE using 7/7 trials with best loss 0.013876\n",
      "INFO:fbprophet:Disabling weekly seasonality. Run prophet with weekly_seasonality=True to override this.\n",
      "INFO:fbprophet:Disabling daily seasonality. Run prophet with daily_seasonality=True to override this.\n"
     ]
    },
    {
     "name": "stdout",
     "output_type": "stream",
     "text": [
      "score:                                                                                                                 \n",
      "0.014452235379358766                                                                                                   \n",
      " 80%|█████████████████████████████████████▌         | 8/10 [03:14<01:20, 40.35s/trial, best loss: 0.013875766944372342]"
     ]
    },
    {
     "name": "stderr",
     "output_type": "stream",
     "text": [
      "INFO:hyperopt.tpe:build_posterior_wrapper took 0.001994 seconds\n",
      "INFO:hyperopt.tpe:TPE using 8/8 trials with best loss 0.013876\n",
      "INFO:fbprophet:Disabling weekly seasonality. Run prophet with weekly_seasonality=True to override this.\n",
      "INFO:fbprophet:Disabling daily seasonality. Run prophet with daily_seasonality=True to override this.\n"
     ]
    },
    {
     "name": "stdout",
     "output_type": "stream",
     "text": [
      "score:                                                                                                                 \n",
      "0.023145784490137905                                                                                                   \n",
      " 90%|██████████████████████████████████████████▎    | 9/10 [03:16<00:28, 28.36s/trial, best loss: 0.013875766944372342]"
     ]
    },
    {
     "name": "stderr",
     "output_type": "stream",
     "text": [
      "INFO:hyperopt.tpe:build_posterior_wrapper took 0.000997 seconds\n",
      "INFO:hyperopt.tpe:TPE using 9/9 trials with best loss 0.013876\n",
      "INFO:fbprophet:Disabling weekly seasonality. Run prophet with weekly_seasonality=True to override this.\n",
      "INFO:fbprophet:Disabling daily seasonality. Run prophet with daily_seasonality=True to override this.\n"
     ]
    },
    {
     "name": "stdout",
     "output_type": "stream",
     "text": [
      "score:                                                                                                                 \n",
      "0.13841305465481804                                                                                                    \n",
      "100%|██████████████████████████████████████████████| 10/10 [03:19<00:00, 19.93s/trial, best loss: 0.013875766944372342]\n",
      "{'changepoint_prior_scale': 2, 'holidays_prior_scale': 5, 'n_changepoints': 3}\n"
     ]
    },
    {
     "name": "stderr",
     "output_type": "stream",
     "text": [
      "INFO:fbprophet:Disabling weekly seasonality. Run prophet with weekly_seasonality=True to override this.\n",
      "INFO:fbprophet:Disabling daily seasonality. Run prophet with daily_seasonality=True to override this.\n"
     ]
    },
    {
     "name": "stdout",
     "output_type": "stream",
     "text": [
      "Training XGBoost\n"
     ]
    },
    {
     "name": "stderr",
     "output_type": "stream",
     "text": [
      "INFO:fbprophet:Disabling weekly seasonality. Run prophet with weekly_seasonality=True to override this.\n",
      "INFO:fbprophet:Disabling daily seasonality. Run prophet with daily_seasonality=True to override this.\n"
     ]
    },
    {
     "name": "stdout",
     "output_type": "stream",
     "text": [
      "score: 0.021003632912945353\n",
      "\r",
      "  0%|                                                                           | 0/10 [00:00<?, ?trial/s, best loss=?]"
     ]
    },
    {
     "name": "stderr",
     "output_type": "stream",
     "text": [
      "INFO:hyperopt.tpe:build_posterior_wrapper took 0.002105 seconds\n",
      "INFO:hyperopt.tpe:TPE using 0 trials\n",
      "INFO:fbprophet:Disabling weekly seasonality. Run prophet with weekly_seasonality=True to override this.\n",
      "INFO:fbprophet:Disabling daily seasonality. Run prophet with daily_seasonality=True to override this.\n"
     ]
    },
    {
     "name": "stdout",
     "output_type": "stream",
     "text": [
      "score:                                                                                                                 \n",
      "0.010956466240168938                                                                                                   \n",
      " 10%|████▋                                          | 1/10 [00:06<01:00,  6.72s/trial, best loss: 0.010956466240168938]"
     ]
    },
    {
     "name": "stderr",
     "output_type": "stream",
     "text": [
      "INFO:hyperopt.tpe:build_posterior_wrapper took 0.008404 seconds\n",
      "INFO:hyperopt.tpe:TPE using 1/1 trials with best loss 0.010956\n",
      "INFO:fbprophet:Disabling weekly seasonality. Run prophet with weekly_seasonality=True to override this.\n",
      "INFO:fbprophet:Disabling daily seasonality. Run prophet with daily_seasonality=True to override this.\n",
      "INFO:fbprophet:n_changepoints greater than number of observations. Using 37.\n"
     ]
    },
    {
     "name": "stdout",
     "output_type": "stream",
     "text": [
      "score:                                                                                                                 \n",
      "0.011295949695818007                                                                                                   \n",
      " 20%|█████████▏                                    | 2/10 [03:49<17:51, 133.92s/trial, best loss: 0.010956466240168938]"
     ]
    },
    {
     "name": "stderr",
     "output_type": "stream",
     "text": [
      "INFO:hyperopt.tpe:build_posterior_wrapper took 0.004989 seconds\n",
      "INFO:hyperopt.tpe:TPE using 2/2 trials with best loss 0.010956\n",
      "INFO:fbprophet:Disabling weekly seasonality. Run prophet with weekly_seasonality=True to override this.\n",
      "INFO:fbprophet:Disabling daily seasonality. Run prophet with daily_seasonality=True to override this.\n"
     ]
    },
    {
     "name": "stdout",
     "output_type": "stream",
     "text": [
      "score:                                                                                                                 \n",
      "0.010861199637093186                                                                                                   \n",
      " 30%|█████████████▊                                | 3/10 [07:20<19:44, 169.21s/trial, best loss: 0.010861199637093186]"
     ]
    },
    {
     "name": "stderr",
     "output_type": "stream",
     "text": [
      "INFO:hyperopt.tpe:build_posterior_wrapper took 0.005416 seconds\n",
      "INFO:hyperopt.tpe:TPE using 3/3 trials with best loss 0.010861\n",
      "INFO:fbprophet:Disabling weekly seasonality. Run prophet with weekly_seasonality=True to override this.\n",
      "INFO:fbprophet:Disabling daily seasonality. Run prophet with daily_seasonality=True to override this.\n"
     ]
    },
    {
     "name": "stdout",
     "output_type": "stream",
     "text": [
      "score:                                                                                                                 \n",
      "0.029685385654307922                                                                                                   \n",
      " 40%|██████████████████▍                           | 4/10 [10:28<17:38, 176.36s/trial, best loss: 0.010861199637093186]"
     ]
    },
    {
     "name": "stderr",
     "output_type": "stream",
     "text": [
      "INFO:hyperopt.tpe:build_posterior_wrapper took 0.001232 seconds\n",
      "INFO:hyperopt.tpe:TPE using 4/4 trials with best loss 0.010861\n",
      "INFO:fbprophet:Disabling weekly seasonality. Run prophet with weekly_seasonality=True to override this.\n",
      "INFO:fbprophet:Disabling daily seasonality. Run prophet with daily_seasonality=True to override this.\n"
     ]
    },
    {
     "name": "stdout",
     "output_type": "stream",
     "text": [
      "score:                                                                                                                 \n",
      "0.03753768915235475                                                                                                    \n",
      " 50%|███████████████████████                       | 5/10 [13:37<15:05, 181.18s/trial, best loss: 0.010861199637093186]"
     ]
    },
    {
     "name": "stderr",
     "output_type": "stream",
     "text": [
      "INFO:hyperopt.tpe:build_posterior_wrapper took 0.005990 seconds\n",
      "INFO:hyperopt.tpe:TPE using 5/5 trials with best loss 0.010861\n",
      "INFO:fbprophet:Disabling weekly seasonality. Run prophet with weekly_seasonality=True to override this.\n",
      "INFO:fbprophet:Disabling daily seasonality. Run prophet with daily_seasonality=True to override this.\n"
     ]
    },
    {
     "name": "stdout",
     "output_type": "stream",
     "text": [
      "score:                                                                                                                 \n",
      "0.01017391411743146                                                                                                    \n",
      " 60%|████████████████████████████▏                  | 6/10 [13:43<08:06, 121.59s/trial, best loss: 0.01017391411743146]"
     ]
    },
    {
     "name": "stderr",
     "output_type": "stream",
     "text": [
      "INFO:hyperopt.tpe:build_posterior_wrapper took 0.000996 seconds\n",
      "INFO:hyperopt.tpe:TPE using 6/6 trials with best loss 0.010174\n",
      "INFO:fbprophet:Disabling weekly seasonality. Run prophet with weekly_seasonality=True to override this.\n",
      "INFO:fbprophet:Disabling daily seasonality. Run prophet with daily_seasonality=True to override this.\n"
     ]
    },
    {
     "name": "stdout",
     "output_type": "stream",
     "text": [
      "score:                                                                                                                 \n",
      "0.01017391411743146                                                                                                    \n",
      " 70%|█████████████████████████████████▌              | 7/10 [13:49<04:11, 83.80s/trial, best loss: 0.01017391411743146]"
     ]
    },
    {
     "name": "stderr",
     "output_type": "stream",
     "text": [
      "INFO:hyperopt.tpe:build_posterior_wrapper took 0.004993 seconds\n",
      "INFO:hyperopt.tpe:TPE using 7/7 trials with best loss 0.010174\n",
      "INFO:fbprophet:Disabling weekly seasonality. Run prophet with weekly_seasonality=True to override this.\n",
      "INFO:fbprophet:Disabling daily seasonality. Run prophet with daily_seasonality=True to override this.\n",
      "INFO:fbprophet:n_changepoints greater than number of observations. Using 37.\n"
     ]
    },
    {
     "name": "stdout",
     "output_type": "stream",
     "text": [
      "score:                                                                                                                 \n",
      "0.018126478508018216                                                                                                   \n",
      " 80%|██████████████████████████████████████▍         | 8/10 [13:55<01:57, 58.97s/trial, best loss: 0.01017391411743146]"
     ]
    },
    {
     "name": "stderr",
     "output_type": "stream",
     "text": [
      "INFO:hyperopt.tpe:build_posterior_wrapper took 0.004003 seconds\n",
      "INFO:hyperopt.tpe:TPE using 8/8 trials with best loss 0.010174\n",
      "INFO:fbprophet:Disabling weekly seasonality. Run prophet with weekly_seasonality=True to override this.\n",
      "INFO:fbprophet:Disabling daily seasonality. Run prophet with daily_seasonality=True to override this.\n",
      "INFO:fbprophet:n_changepoints greater than number of observations. Using 37.\n"
     ]
    },
    {
     "name": "stdout",
     "output_type": "stream",
     "text": [
      "score:                                                                                                                 \n",
      "0.011295949695818007                                                                                                   \n",
      " 90%|██████████████████████████████████████████▎    | 9/10 [17:34<01:49, 109.05s/trial, best loss: 0.01017391411743146]"
     ]
    },
    {
     "name": "stderr",
     "output_type": "stream",
     "text": [
      "INFO:hyperopt.tpe:build_posterior_wrapper took 0.005032 seconds\n",
      "INFO:hyperopt.tpe:TPE using 9/9 trials with best loss 0.010174\n",
      "INFO:fbprophet:Disabling weekly seasonality. Run prophet with weekly_seasonality=True to override this.\n",
      "INFO:fbprophet:Disabling daily seasonality. Run prophet with daily_seasonality=True to override this.\n"
     ]
    },
    {
     "name": "stdout",
     "output_type": "stream",
     "text": [
      "score:                                                                                                                 \n",
      "0.010596865061110496                                                                                                   \n",
      "100%|██████████████████████████████████████████████| 10/10 [17:40<00:00, 106.09s/trial, best loss: 0.01017391411743146]\n",
      "{'changepoint_prior_scale': 3, 'holidays_prior_scale': 0, 'n_changepoints': 3}\n"
     ]
    },
    {
     "name": "stderr",
     "output_type": "stream",
     "text": [
      "INFO:fbprophet:Disabling weekly seasonality. Run prophet with weekly_seasonality=True to override this.\n",
      "INFO:fbprophet:Disabling daily seasonality. Run prophet with daily_seasonality=True to override this.\n"
     ]
    },
    {
     "name": "stdout",
     "output_type": "stream",
     "text": [
      "Training XGBoost\n"
     ]
    },
    {
     "name": "stderr",
     "output_type": "stream",
     "text": [
      "INFO:fbprophet:Disabling weekly seasonality. Run prophet with weekly_seasonality=True to override this.\n",
      "INFO:fbprophet:Disabling daily seasonality. Run prophet with daily_seasonality=True to override this.\n"
     ]
    },
    {
     "name": "stdout",
     "output_type": "stream",
     "text": [
      "score: 0.014234230879097394\n",
      "\r",
      "  0%|                                                                           | 0/10 [00:00<?, ?trial/s, best loss=?]"
     ]
    },
    {
     "name": "stderr",
     "output_type": "stream",
     "text": [
      "INFO:hyperopt.tpe:build_posterior_wrapper took 0.004362 seconds\n",
      "INFO:hyperopt.tpe:TPE using 0 trials\n",
      "INFO:fbprophet:Disabling weekly seasonality. Run prophet with weekly_seasonality=True to override this.\n",
      "INFO:fbprophet:Disabling daily seasonality. Run prophet with daily_seasonality=True to override this.\n"
     ]
    },
    {
     "name": "stdout",
     "output_type": "stream",
     "text": [
      "score:                                                                                                                 \n",
      "0.012860853154737638                                                                                                   \n",
      " 10%|████▋                                          | 1/10 [00:05<00:46,  5.19s/trial, best loss: 0.012860853154737638]"
     ]
    },
    {
     "name": "stderr",
     "output_type": "stream",
     "text": [
      "INFO:hyperopt.tpe:build_posterior_wrapper took 0.001993 seconds\n",
      "INFO:hyperopt.tpe:TPE using 1/1 trials with best loss 0.012861\n",
      "INFO:fbprophet:Disabling weekly seasonality. Run prophet with weekly_seasonality=True to override this.\n",
      "INFO:fbprophet:Disabling daily seasonality. Run prophet with daily_seasonality=True to override this.\n"
     ]
    },
    {
     "name": "stdout",
     "output_type": "stream",
     "text": [
      "score:                                                                                                                 \n",
      "0.012217552638517216                                                                                                   \n",
      " 20%|█████████▍                                     | 2/10 [00:10<00:40,  5.10s/trial, best loss: 0.012217552638517216]"
     ]
    },
    {
     "name": "stderr",
     "output_type": "stream",
     "text": [
      "INFO:hyperopt.tpe:build_posterior_wrapper took 0.005248 seconds\n",
      "INFO:hyperopt.tpe:TPE using 2/2 trials with best loss 0.012218\n",
      "INFO:fbprophet:Disabling weekly seasonality. Run prophet with weekly_seasonality=True to override this.\n",
      "INFO:fbprophet:Disabling daily seasonality. Run prophet with daily_seasonality=True to override this.\n"
     ]
    },
    {
     "name": "stdout",
     "output_type": "stream",
     "text": [
      "score:                                                                                                                 \n",
      "0.032033607685120924                                                                                                   \n",
      " 30%|██████████████                                 | 3/10 [03:41<11:35, 99.32s/trial, best loss: 0.012217552638517216]"
     ]
    },
    {
     "name": "stderr",
     "output_type": "stream",
     "text": [
      "INFO:hyperopt.tpe:build_posterior_wrapper took 0.001994 seconds\n",
      "INFO:hyperopt.tpe:TPE using 3/3 trials with best loss 0.012218\n",
      "INFO:fbprophet:Disabling weekly seasonality. Run prophet with weekly_seasonality=True to override this.\n",
      "INFO:fbprophet:Disabling daily seasonality. Run prophet with daily_seasonality=True to override this.\n"
     ]
    },
    {
     "name": "stdout",
     "output_type": "stream",
     "text": [
      "score:                                                                                                                 \n",
      "0.032033607685120924                                                                                                   \n",
      " 40%|██████████████████▍                           | 4/10 [06:47<13:19, 133.30s/trial, best loss: 0.012217552638517216]"
     ]
    },
    {
     "name": "stderr",
     "output_type": "stream",
     "text": [
      "INFO:hyperopt.tpe:build_posterior_wrapper took 0.001999 seconds\n",
      "INFO:hyperopt.tpe:TPE using 4/4 trials with best loss 0.012218\n",
      "INFO:fbprophet:Disabling weekly seasonality. Run prophet with weekly_seasonality=True to override this.\n",
      "INFO:fbprophet:Disabling daily seasonality. Run prophet with daily_seasonality=True to override this.\n"
     ]
    },
    {
     "name": "stdout",
     "output_type": "stream",
     "text": [
      "score:                                                                                                                 \n",
      "0.010479230774245245                                                                                                   \n",
      " 50%|███████████████████████▌                       | 5/10 [06:50<07:13, 86.61s/trial, best loss: 0.010479230774245245]"
     ]
    },
    {
     "name": "stderr",
     "output_type": "stream",
     "text": [
      "INFO:hyperopt.tpe:build_posterior_wrapper took 0.001995 seconds\n",
      "INFO:hyperopt.tpe:TPE using 5/5 trials with best loss 0.010479\n",
      "INFO:fbprophet:Disabling weekly seasonality. Run prophet with weekly_seasonality=True to override this.\n",
      "INFO:fbprophet:Disabling daily seasonality. Run prophet with daily_seasonality=True to override this.\n"
     ]
    },
    {
     "name": "stdout",
     "output_type": "stream",
     "text": [
      "score:                                                                                                                 \n",
      "0.012876052600508552                                                                                                   \n",
      " 60%|████████████████████████████▏                  | 6/10 [06:56<03:56, 59.23s/trial, best loss: 0.010479230774245245]"
     ]
    },
    {
     "name": "stderr",
     "output_type": "stream",
     "text": [
      "INFO:hyperopt.tpe:build_posterior_wrapper took 0.001995 seconds\n",
      "INFO:hyperopt.tpe:TPE using 6/6 trials with best loss 0.010479\n",
      "INFO:fbprophet:Disabling weekly seasonality. Run prophet with weekly_seasonality=True to override this.\n",
      "INFO:fbprophet:Disabling daily seasonality. Run prophet with daily_seasonality=True to override this.\n"
     ]
    },
    {
     "name": "stdout",
     "output_type": "stream",
     "text": [
      "score:                                                                                                                 \n",
      "0.017028400109365027                                                                                                   \n",
      " 70%|████████████████████████████████▉              | 7/10 [06:59<02:01, 40.56s/trial, best loss: 0.010479230774245245]"
     ]
    },
    {
     "name": "stderr",
     "output_type": "stream",
     "text": [
      "INFO:hyperopt.tpe:build_posterior_wrapper took 0.004025 seconds\n",
      "INFO:hyperopt.tpe:TPE using 7/7 trials with best loss 0.010479\n",
      "INFO:fbprophet:Disabling weekly seasonality. Run prophet with weekly_seasonality=True to override this.\n",
      "INFO:fbprophet:Disabling daily seasonality. Run prophet with daily_seasonality=True to override this.\n"
     ]
    },
    {
     "name": "stdout",
     "output_type": "stream",
     "text": [
      "score:                                                                                                                 \n",
      "0.010479230774245245                                                                                                   \n",
      " 80%|█████████████████████████████████████▌         | 8/10 [07:01<00:57, 28.56s/trial, best loss: 0.010479230774245245]"
     ]
    },
    {
     "name": "stderr",
     "output_type": "stream",
     "text": [
      "INFO:hyperopt.tpe:build_posterior_wrapper took 0.002993 seconds\n",
      "INFO:hyperopt.tpe:TPE using 8/8 trials with best loss 0.010479\n",
      "INFO:fbprophet:Disabling weekly seasonality. Run prophet with weekly_seasonality=True to override this.\n",
      "INFO:fbprophet:Disabling daily seasonality. Run prophet with daily_seasonality=True to override this.\n"
     ]
    },
    {
     "name": "stdout",
     "output_type": "stream",
     "text": [
      "score:                                                                                                                 \n",
      "0.01965394266446205                                                                                                    \n",
      " 90%|██████████████████████████████████████████▎    | 9/10 [07:05<00:20, 20.81s/trial, best loss: 0.010479230774245245]"
     ]
    },
    {
     "name": "stderr",
     "output_type": "stream",
     "text": [
      "INFO:hyperopt.tpe:build_posterior_wrapper took 0.001996 seconds\n",
      "INFO:hyperopt.tpe:TPE using 9/9 trials with best loss 0.010479\n",
      "INFO:fbprophet:Disabling weekly seasonality. Run prophet with weekly_seasonality=True to override this.\n",
      "INFO:fbprophet:Disabling daily seasonality. Run prophet with daily_seasonality=True to override this.\n"
     ]
    },
    {
     "name": "stdout",
     "output_type": "stream",
     "text": [
      "score:                                                                                                                 \n",
      "0.09166412589797858                                                                                                    \n",
      "100%|██████████████████████████████████████████████| 10/10 [09:46<00:00, 58.66s/trial, best loss: 0.010479230774245245]\n",
      "{'changepoint_prior_scale': 4, 'holidays_prior_scale': 3, 'n_changepoints': 1}\n"
     ]
    },
    {
     "name": "stderr",
     "output_type": "stream",
     "text": [
      "INFO:fbprophet:Disabling weekly seasonality. Run prophet with weekly_seasonality=True to override this.\n",
      "INFO:fbprophet:Disabling daily seasonality. Run prophet with daily_seasonality=True to override this.\n"
     ]
    },
    {
     "name": "stdout",
     "output_type": "stream",
     "text": [
      "Training XGBoost\n"
     ]
    },
    {
     "name": "stderr",
     "output_type": "stream",
     "text": [
      "INFO:fbprophet:Disabling weekly seasonality. Run prophet with weekly_seasonality=True to override this.\n",
      "INFO:fbprophet:Disabling daily seasonality. Run prophet with daily_seasonality=True to override this.\n"
     ]
    },
    {
     "name": "stdout",
     "output_type": "stream",
     "text": [
      "score: 0.03113582390786192\n",
      "\r",
      "  0%|                                                                           | 0/10 [00:00<?, ?trial/s, best loss=?]"
     ]
    },
    {
     "name": "stderr",
     "output_type": "stream",
     "text": [
      "INFO:hyperopt.tpe:build_posterior_wrapper took 0.003538 seconds\n",
      "INFO:hyperopt.tpe:TPE using 0 trials\n",
      "INFO:fbprophet:Disabling weekly seasonality. Run prophet with weekly_seasonality=True to override this.\n",
      "INFO:fbprophet:Disabling daily seasonality. Run prophet with daily_seasonality=True to override this.\n"
     ]
    },
    {
     "name": "stdout",
     "output_type": "stream",
     "text": [
      "score:                                                                                                                 \n",
      "0.0325012038992407                                                                                                     \n",
      " 10%|████▉                                            | 1/10 [00:04<00:39,  4.41s/trial, best loss: 0.0325012038992407]"
     ]
    },
    {
     "name": "stderr",
     "output_type": "stream",
     "text": [
      "INFO:hyperopt.tpe:build_posterior_wrapper took 0.001994 seconds\n",
      "INFO:hyperopt.tpe:TPE using 1/1 trials with best loss 0.032501\n",
      "INFO:fbprophet:Disabling weekly seasonality. Run prophet with weekly_seasonality=True to override this.\n",
      "INFO:fbprophet:Disabling daily seasonality. Run prophet with daily_seasonality=True to override this.\n"
     ]
    },
    {
     "name": "stdout",
     "output_type": "stream",
     "text": [
      "score:                                                                                                                 \n",
      "0.03473483130203851                                                                                                    \n",
      " 20%|█████████▊                                       | 2/10 [00:09<00:37,  4.74s/trial, best loss: 0.0325012038992407]"
     ]
    },
    {
     "name": "stderr",
     "output_type": "stream",
     "text": [
      "INFO:hyperopt.tpe:build_posterior_wrapper took 0.001000 seconds\n",
      "INFO:hyperopt.tpe:TPE using 2/2 trials with best loss 0.032501\n",
      "INFO:fbprophet:Disabling weekly seasonality. Run prophet with weekly_seasonality=True to override this.\n",
      "INFO:fbprophet:Disabling daily seasonality. Run prophet with daily_seasonality=True to override this.\n"
     ]
    },
    {
     "name": "stdout",
     "output_type": "stream",
     "text": [
      "score:                                                                                                                 \n",
      "0.03473483130203851                                                                                                    \n",
      " 30%|██████████████▋                                  | 3/10 [00:14<00:33,  4.81s/trial, best loss: 0.0325012038992407]"
     ]
    },
    {
     "name": "stderr",
     "output_type": "stream",
     "text": [
      "INFO:hyperopt.tpe:build_posterior_wrapper took 0.005395 seconds\n",
      "INFO:hyperopt.tpe:TPE using 3/3 trials with best loss 0.032501\n",
      "INFO:fbprophet:Disabling weekly seasonality. Run prophet with weekly_seasonality=True to override this.\n",
      "INFO:fbprophet:Disabling daily seasonality. Run prophet with daily_seasonality=True to override this.\n"
     ]
    },
    {
     "name": "stdout",
     "output_type": "stream",
     "text": [
      "score:                                                                                                                 \n",
      "0.027489564023950256                                                                                                   \n",
      " 40%|██████████████████▊                            | 4/10 [03:46<08:40, 86.80s/trial, best loss: 0.027489564023950256]"
     ]
    },
    {
     "name": "stderr",
     "output_type": "stream",
     "text": [
      "INFO:hyperopt.tpe:build_posterior_wrapper took 0.001032 seconds\n",
      "INFO:hyperopt.tpe:TPE using 4/4 trials with best loss 0.027490\n",
      "INFO:fbprophet:Disabling weekly seasonality. Run prophet with weekly_seasonality=True to override this.\n",
      "INFO:fbprophet:Disabling daily seasonality. Run prophet with daily_seasonality=True to override this.\n"
     ]
    },
    {
     "name": "stdout",
     "output_type": "stream",
     "text": [
      "score:                                                                                                                 \n",
      "0.032444876451759856                                                                                                   \n",
      " 50%|███████████████████████▌                       | 5/10 [03:50<04:45, 57.01s/trial, best loss: 0.027489564023950256]"
     ]
    },
    {
     "name": "stderr",
     "output_type": "stream",
     "text": [
      "INFO:hyperopt.tpe:build_posterior_wrapper took 0.002066 seconds\n",
      "INFO:hyperopt.tpe:TPE using 5/5 trials with best loss 0.027490\n",
      "INFO:fbprophet:Disabling weekly seasonality. Run prophet with weekly_seasonality=True to override this.\n",
      "INFO:fbprophet:Disabling daily seasonality. Run prophet with daily_seasonality=True to override this.\n"
     ]
    },
    {
     "name": "stdout",
     "output_type": "stream",
     "text": [
      "score:                                                                                                                 \n",
      "0.029083197437006117                                                                                                   \n",
      " 60%|████████████████████████████▏                  | 6/10 [03:57<02:39, 39.83s/trial, best loss: 0.027489564023950256]"
     ]
    },
    {
     "name": "stderr",
     "output_type": "stream",
     "text": [
      "INFO:hyperopt.tpe:build_posterior_wrapper took 0.002991 seconds\n",
      "INFO:hyperopt.tpe:TPE using 6/6 trials with best loss 0.027490\n",
      "INFO:fbprophet:Disabling weekly seasonality. Run prophet with weekly_seasonality=True to override this.\n",
      "INFO:fbprophet:Disabling daily seasonality. Run prophet with daily_seasonality=True to override this.\n"
     ]
    },
    {
     "name": "stdout",
     "output_type": "stream",
     "text": [
      "score:                                                                                                                 \n",
      "0.028863840221034245                                                                                                   \n",
      " 70%|████████████████████████████████▉              | 7/10 [04:04<01:27, 29.20s/trial, best loss: 0.027489564023950256]"
     ]
    },
    {
     "name": "stderr",
     "output_type": "stream",
     "text": [
      "INFO:hyperopt.tpe:build_posterior_wrapper took 0.001992 seconds\n",
      "INFO:hyperopt.tpe:TPE using 7/7 trials with best loss 0.027490\n",
      "INFO:fbprophet:Disabling weekly seasonality. Run prophet with weekly_seasonality=True to override this.\n",
      "INFO:fbprophet:Disabling daily seasonality. Run prophet with daily_seasonality=True to override this.\n"
     ]
    },
    {
     "name": "stdout",
     "output_type": "stream",
     "text": [
      "score:                                                                                                                 \n",
      "0.027161897521405826                                                                                                   \n",
      " 80%|█████████████████████████████████████▌         | 8/10 [04:12<00:44, 22.35s/trial, best loss: 0.027161897521405826]"
     ]
    },
    {
     "name": "stderr",
     "output_type": "stream",
     "text": [
      "INFO:hyperopt.tpe:build_posterior_wrapper took 0.001995 seconds\n",
      "INFO:hyperopt.tpe:TPE using 8/8 trials with best loss 0.027162\n",
      "INFO:fbprophet:Disabling weekly seasonality. Run prophet with weekly_seasonality=True to override this.\n",
      "INFO:fbprophet:Disabling daily seasonality. Run prophet with daily_seasonality=True to override this.\n"
     ]
    },
    {
     "name": "stdout",
     "output_type": "stream",
     "text": [
      "score:                                                                                                                 \n",
      "0.030725291911544578                                                                                                   \n",
      " 90%|██████████████████████████████████████████▎    | 9/10 [07:43<01:21, 81.19s/trial, best loss: 0.027161897521405826]"
     ]
    },
    {
     "name": "stderr",
     "output_type": "stream",
     "text": [
      "INFO:hyperopt.tpe:build_posterior_wrapper took 0.002984 seconds\n",
      "INFO:hyperopt.tpe:TPE using 9/9 trials with best loss 0.027162\n",
      "INFO:fbprophet:Disabling weekly seasonality. Run prophet with weekly_seasonality=True to override this.\n",
      "INFO:fbprophet:Disabling daily seasonality. Run prophet with daily_seasonality=True to override this.\n"
     ]
    },
    {
     "name": "stdout",
     "output_type": "stream",
     "text": [
      "score:                                                                                                                 \n",
      "0.026444400362441944                                                                                                   \n",
      "100%|██████████████████████████████████████████████| 10/10 [07:48<00:00, 46.80s/trial, best loss: 0.026444400362441944]\n",
      "{'changepoint_prior_scale': 4, 'holidays_prior_scale': 2, 'n_changepoints': 2}\n"
     ]
    },
    {
     "name": "stderr",
     "output_type": "stream",
     "text": [
      "INFO:fbprophet:Disabling weekly seasonality. Run prophet with weekly_seasonality=True to override this.\n",
      "INFO:fbprophet:Disabling daily seasonality. Run prophet with daily_seasonality=True to override this.\n"
     ]
    },
    {
     "name": "stdout",
     "output_type": "stream",
     "text": [
      "Training XGBoost\n"
     ]
    },
    {
     "name": "stderr",
     "output_type": "stream",
     "text": [
      "INFO:fbprophet:Disabling weekly seasonality. Run prophet with weekly_seasonality=True to override this.\n",
      "INFO:fbprophet:Disabling daily seasonality. Run prophet with daily_seasonality=True to override this.\n"
     ]
    },
    {
     "name": "stdout",
     "output_type": "stream",
     "text": [
      "score: 0.022624462791673294\n",
      "\r",
      "  0%|                                                                           | 0/10 [00:00<?, ?trial/s, best loss=?]"
     ]
    },
    {
     "name": "stderr",
     "output_type": "stream",
     "text": [
      "INFO:hyperopt.tpe:build_posterior_wrapper took 0.002998 seconds\n",
      "INFO:hyperopt.tpe:TPE using 0 trials\n",
      "INFO:fbprophet:Disabling weekly seasonality. Run prophet with weekly_seasonality=True to override this.\n",
      "INFO:fbprophet:Disabling daily seasonality. Run prophet with daily_seasonality=True to override this.\n"
     ]
    },
    {
     "name": "stdout",
     "output_type": "stream",
     "text": [
      "score:                                                                                                                 \n",
      "0.02673725303916843                                                                                                    \n",
      " 10%|████▊                                           | 1/10 [00:04<00:38,  4.27s/trial, best loss: 0.02673725303916843]"
     ]
    },
    {
     "name": "stderr",
     "output_type": "stream",
     "text": [
      "INFO:hyperopt.tpe:build_posterior_wrapper took 0.001994 seconds\n",
      "INFO:hyperopt.tpe:TPE using 1/1 trials with best loss 0.026737\n",
      "INFO:fbprophet:Disabling weekly seasonality. Run prophet with weekly_seasonality=True to override this.\n",
      "INFO:fbprophet:Disabling daily seasonality. Run prophet with daily_seasonality=True to override this.\n"
     ]
    },
    {
     "name": "stdout",
     "output_type": "stream",
     "text": [
      "score:                                                                                                                 \n",
      "0.060254364653937964                                                                                                   \n",
      " 20%|█████████▍                                     | 2/10 [03:01<14:09, 106.17s/trial, best loss: 0.02673725303916843]"
     ]
    },
    {
     "name": "stderr",
     "output_type": "stream",
     "text": [
      "INFO:hyperopt.tpe:build_posterior_wrapper took 0.001991 seconds\n",
      "INFO:hyperopt.tpe:TPE using 2/2 trials with best loss 0.026737\n",
      "INFO:fbprophet:Disabling weekly seasonality. Run prophet with weekly_seasonality=True to override this.\n",
      "INFO:fbprophet:Disabling daily seasonality. Run prophet with daily_seasonality=True to override this.\n"
     ]
    },
    {
     "name": "stdout",
     "output_type": "stream",
     "text": [
      "score:                                                                                                                 \n",
      "0.030632853063667753                                                                                                   \n",
      " 30%|██████████████▍                                 | 3/10 [03:03<06:50, 58.57s/trial, best loss: 0.02673725303916843]"
     ]
    },
    {
     "name": "stderr",
     "output_type": "stream",
     "text": [
      "INFO:hyperopt.tpe:build_posterior_wrapper took 0.001996 seconds\n",
      "INFO:hyperopt.tpe:TPE using 3/3 trials with best loss 0.026737\n",
      "INFO:fbprophet:Disabling weekly seasonality. Run prophet with weekly_seasonality=True to override this.\n",
      "INFO:fbprophet:Disabling daily seasonality. Run prophet with daily_seasonality=True to override this.\n",
      "INFO:fbprophet:n_changepoints greater than number of observations. Using 37.\n"
     ]
    },
    {
     "name": "stdout",
     "output_type": "stream",
     "text": [
      "score:                                                                                                                 \n",
      "0.040005646932812756                                                                                                   \n",
      " 40%|██████████████████▊                            | 4/10 [06:01<10:33, 105.64s/trial, best loss: 0.02673725303916843]"
     ]
    },
    {
     "name": "stderr",
     "output_type": "stream",
     "text": [
      "INFO:hyperopt.tpe:build_posterior_wrapper took 0.001995 seconds\n",
      "INFO:hyperopt.tpe:TPE using 4/4 trials with best loss 0.026737\n",
      "INFO:fbprophet:Disabling weekly seasonality. Run prophet with weekly_seasonality=True to override this.\n",
      "INFO:fbprophet:Disabling daily seasonality. Run prophet with daily_seasonality=True to override this.\n"
     ]
    },
    {
     "name": "stdout",
     "output_type": "stream",
     "text": [
      "score:                                                                                                                 \n",
      "0.0280145257511695                                                                                                     \n",
      " 50%|████████████████████████                        | 5/10 [06:08<05:51, 70.25s/trial, best loss: 0.02673725303916843]"
     ]
    },
    {
     "name": "stderr",
     "output_type": "stream",
     "text": [
      "INFO:hyperopt.tpe:build_posterior_wrapper took 0.001992 seconds\n",
      "INFO:hyperopt.tpe:TPE using 5/5 trials with best loss 0.026737\n",
      "INFO:fbprophet:Disabling weekly seasonality. Run prophet with weekly_seasonality=True to override this.\n",
      "INFO:fbprophet:Disabling daily seasonality. Run prophet with daily_seasonality=True to override this.\n",
      "INFO:fbprophet:n_changepoints greater than number of observations. Using 37.\n"
     ]
    },
    {
     "name": "stdout",
     "output_type": "stream",
     "text": [
      "score:                                                                                                                 \n",
      "0.027396650740828393                                                                                                   \n",
      " 60%|████████████████████████████▊                   | 6/10 [06:15<03:14, 48.72s/trial, best loss: 0.02673725303916843]"
     ]
    },
    {
     "name": "stderr",
     "output_type": "stream",
     "text": [
      "INFO:hyperopt.tpe:build_posterior_wrapper took 0.001010 seconds\n",
      "INFO:hyperopt.tpe:TPE using 6/6 trials with best loss 0.026737\n",
      "INFO:fbprophet:Disabling weekly seasonality. Run prophet with weekly_seasonality=True to override this.\n",
      "INFO:fbprophet:Disabling daily seasonality. Run prophet with daily_seasonality=True to override this.\n"
     ]
    },
    {
     "name": "stdout",
     "output_type": "stream",
     "text": [
      "score:                                                                                                                 \n",
      "0.026940554923484728                                                                                                   \n",
      " 70%|█████████████████████████████████▌              | 7/10 [06:18<01:41, 33.67s/trial, best loss: 0.02673725303916843]"
     ]
    },
    {
     "name": "stderr",
     "output_type": "stream",
     "text": [
      "INFO:hyperopt.tpe:build_posterior_wrapper took 0.002992 seconds\n",
      "INFO:hyperopt.tpe:TPE using 7/7 trials with best loss 0.026737\n",
      "INFO:fbprophet:Disabling weekly seasonality. Run prophet with weekly_seasonality=True to override this.\n",
      "INFO:fbprophet:Disabling daily seasonality. Run prophet with daily_seasonality=True to override this.\n",
      "INFO:fbprophet:n_changepoints greater than number of observations. Using 37.\n"
     ]
    },
    {
     "name": "stdout",
     "output_type": "stream",
     "text": [
      "score:                                                                                                                 \n",
      "0.037967275624726536                                                                                                   \n",
      " 80%|██████████████████████████████████████▍         | 8/10 [09:04<02:31, 75.62s/trial, best loss: 0.02673725303916843]"
     ]
    },
    {
     "name": "stderr",
     "output_type": "stream",
     "text": [
      "INFO:hyperopt.tpe:build_posterior_wrapper took 0.001994 seconds\n",
      "INFO:hyperopt.tpe:TPE using 8/8 trials with best loss 0.026737\n",
      "INFO:fbprophet:Disabling weekly seasonality. Run prophet with weekly_seasonality=True to override this.\n",
      "INFO:fbprophet:Disabling daily seasonality. Run prophet with daily_seasonality=True to override this.\n"
     ]
    },
    {
     "name": "stdout",
     "output_type": "stream",
     "text": [
      "score:                                                                                                                 \n",
      "0.02474873063120278                                                                                                    \n",
      " 90%|███████████████████████████████████████████▏    | 9/10 [09:06<00:52, 52.61s/trial, best loss: 0.02474873063120278]"
     ]
    },
    {
     "name": "stderr",
     "output_type": "stream",
     "text": [
      "INFO:hyperopt.tpe:build_posterior_wrapper took 0.000995 seconds\n",
      "INFO:hyperopt.tpe:TPE using 9/9 trials with best loss 0.024749\n",
      "INFO:fbprophet:Disabling weekly seasonality. Run prophet with weekly_seasonality=True to override this.\n",
      "INFO:fbprophet:Disabling daily seasonality. Run prophet with daily_seasonality=True to override this.\n"
     ]
    },
    {
     "name": "stdout",
     "output_type": "stream",
     "text": [
      "score:                                                                                                                 \n",
      "0.026003121065656488                                                                                                   \n",
      "100%|███████████████████████████████████████████████| 10/10 [09:08<00:00, 54.86s/trial, best loss: 0.02474873063120278]\n",
      "{'changepoint_prior_scale': 1, 'holidays_prior_scale': 3, 'n_changepoints': 0}\n"
     ]
    },
    {
     "name": "stderr",
     "output_type": "stream",
     "text": [
      "INFO:fbprophet:Disabling weekly seasonality. Run prophet with weekly_seasonality=True to override this.\n",
      "INFO:fbprophet:Disabling daily seasonality. Run prophet with daily_seasonality=True to override this.\n"
     ]
    },
    {
     "name": "stdout",
     "output_type": "stream",
     "text": [
      "Training XGBoost\n"
     ]
    },
    {
     "name": "stderr",
     "output_type": "stream",
     "text": [
      "INFO:fbprophet:Disabling weekly seasonality. Run prophet with weekly_seasonality=True to override this.\n",
      "INFO:fbprophet:Disabling daily seasonality. Run prophet with daily_seasonality=True to override this.\n"
     ]
    },
    {
     "name": "stdout",
     "output_type": "stream",
     "text": [
      "score: 0.017588040183716503\n",
      "\r",
      "  0%|                                                                           | 0/10 [00:00<?, ?trial/s, best loss=?]"
     ]
    },
    {
     "name": "stderr",
     "output_type": "stream",
     "text": [
      "INFO:hyperopt.tpe:build_posterior_wrapper took 0.001995 seconds\n",
      "INFO:hyperopt.tpe:TPE using 0 trials\n",
      "INFO:fbprophet:Disabling weekly seasonality. Run prophet with weekly_seasonality=True to override this.\n",
      "INFO:fbprophet:Disabling daily seasonality. Run prophet with daily_seasonality=True to override this.\n"
     ]
    },
    {
     "name": "stdout",
     "output_type": "stream",
     "text": [
      "score:                                                                                                                 \n",
      "0.013374748455400627                                                                                                   \n",
      " 10%|████▋                                          | 1/10 [00:04<00:41,  4.62s/trial, best loss: 0.013374748455400627]"
     ]
    },
    {
     "name": "stderr",
     "output_type": "stream",
     "text": [
      "INFO:hyperopt.tpe:build_posterior_wrapper took 0.000998 seconds\n",
      "INFO:hyperopt.tpe:TPE using 1/1 trials with best loss 0.013375\n",
      "INFO:fbprophet:Disabling weekly seasonality. Run prophet with weekly_seasonality=True to override this.\n",
      "INFO:fbprophet:Disabling daily seasonality. Run prophet with daily_seasonality=True to override this.\n"
     ]
    },
    {
     "name": "stdout",
     "output_type": "stream",
     "text": [
      "score:                                                                                                                 \n",
      "0.018989121389867365                                                                                                   \n",
      " 20%|█████████▍                                     | 2/10 [00:07<00:29,  3.65s/trial, best loss: 0.013374748455400627]"
     ]
    },
    {
     "name": "stderr",
     "output_type": "stream",
     "text": [
      "INFO:hyperopt.tpe:build_posterior_wrapper took 0.003990 seconds\n",
      "INFO:hyperopt.tpe:TPE using 2/2 trials with best loss 0.013375\n",
      "INFO:fbprophet:Disabling weekly seasonality. Run prophet with weekly_seasonality=True to override this.\n",
      "INFO:fbprophet:Disabling daily seasonality. Run prophet with daily_seasonality=True to override this.\n"
     ]
    },
    {
     "name": "stdout",
     "output_type": "stream",
     "text": [
      "score:                                                                                                                 \n",
      "0.01701232071978741                                                                                                    \n",
      " 30%|██████████████                                 | 3/10 [00:11<00:24,  3.56s/trial, best loss: 0.013374748455400627]"
     ]
    },
    {
     "name": "stderr",
     "output_type": "stream",
     "text": [
      "INFO:hyperopt.tpe:build_posterior_wrapper took 0.001993 seconds\n",
      "INFO:hyperopt.tpe:TPE using 3/3 trials with best loss 0.013375\n",
      "INFO:fbprophet:Disabling weekly seasonality. Run prophet with weekly_seasonality=True to override this.\n",
      "INFO:fbprophet:Disabling daily seasonality. Run prophet with daily_seasonality=True to override this.\n"
     ]
    },
    {
     "name": "stdout",
     "output_type": "stream",
     "text": [
      "score:                                                                                                                 \n",
      "0.01701232071978741                                                                                                    \n",
      " 40%|██████████████████▊                            | 4/10 [00:14<00:21,  3.51s/trial, best loss: 0.013374748455400627]"
     ]
    },
    {
     "name": "stderr",
     "output_type": "stream",
     "text": [
      "INFO:hyperopt.tpe:build_posterior_wrapper took 0.002001 seconds\n",
      "INFO:hyperopt.tpe:TPE using 4/4 trials with best loss 0.013375\n",
      "INFO:fbprophet:Disabling weekly seasonality. Run prophet with weekly_seasonality=True to override this.\n",
      "INFO:fbprophet:Disabling daily seasonality. Run prophet with daily_seasonality=True to override this.\n"
     ]
    },
    {
     "name": "stdout",
     "output_type": "stream",
     "text": [
      "score:                                                                                                                 \n",
      "0.018180302805631487                                                                                                   \n",
      " 50%|███████████████████████▌                       | 5/10 [00:17<00:17,  3.44s/trial, best loss: 0.013374748455400627]"
     ]
    },
    {
     "name": "stderr",
     "output_type": "stream",
     "text": [
      "INFO:hyperopt.tpe:build_posterior_wrapper took 0.000998 seconds\n",
      "INFO:hyperopt.tpe:TPE using 5/5 trials with best loss 0.013375\n",
      "INFO:fbprophet:Disabling weekly seasonality. Run prophet with weekly_seasonality=True to override this.\n",
      "INFO:fbprophet:Disabling daily seasonality. Run prophet with daily_seasonality=True to override this.\n",
      "INFO:fbprophet:n_changepoints greater than number of observations. Using 37.\n"
     ]
    },
    {
     "name": "stdout",
     "output_type": "stream",
     "text": [
      "score:                                                                                                                 \n",
      "0.03670211885350667                                                                                                    \n",
      " 60%|████████████████████████████▏                  | 6/10 [03:16<04:12, 63.17s/trial, best loss: 0.013374748455400627]"
     ]
    },
    {
     "name": "stderr",
     "output_type": "stream",
     "text": [
      "INFO:hyperopt.tpe:build_posterior_wrapper took 0.001993 seconds\n",
      "INFO:hyperopt.tpe:TPE using 6/6 trials with best loss 0.013375\n",
      "INFO:fbprophet:Disabling weekly seasonality. Run prophet with weekly_seasonality=True to override this.\n",
      "INFO:fbprophet:Disabling daily seasonality. Run prophet with daily_seasonality=True to override this.\n"
     ]
    },
    {
     "name": "stdout",
     "output_type": "stream",
     "text": [
      "score:                                                                                                                 \n",
      "0.020293066808690956                                                                                                   \n",
      " 70%|████████████████████████████████▉              | 7/10 [03:20<02:10, 43.57s/trial, best loss: 0.013374748455400627]"
     ]
    },
    {
     "name": "stderr",
     "output_type": "stream",
     "text": [
      "INFO:hyperopt.tpe:build_posterior_wrapper took 0.002992 seconds\n",
      "INFO:hyperopt.tpe:TPE using 7/7 trials with best loss 0.013375\n",
      "INFO:fbprophet:Disabling weekly seasonality. Run prophet with weekly_seasonality=True to override this.\n",
      "INFO:fbprophet:Disabling daily seasonality. Run prophet with daily_seasonality=True to override this.\n"
     ]
    },
    {
     "name": "stdout",
     "output_type": "stream",
     "text": [
      "score:                                                                                                                 \n",
      "0.012779542975569137                                                                                                   \n",
      " 80%|█████████████████████████████████████▌         | 8/10 [06:01<02:42, 81.00s/trial, best loss: 0.012779542975569137]"
     ]
    },
    {
     "name": "stderr",
     "output_type": "stream",
     "text": [
      "INFO:hyperopt.tpe:build_posterior_wrapper took 0.001993 seconds\n",
      "INFO:hyperopt.tpe:TPE using 8/8 trials with best loss 0.012780\n",
      "INFO:fbprophet:Disabling weekly seasonality. Run prophet with weekly_seasonality=True to override this.\n",
      "INFO:fbprophet:Disabling daily seasonality. Run prophet with daily_seasonality=True to override this.\n"
     ]
    },
    {
     "name": "stdout",
     "output_type": "stream",
     "text": [
      "score:                                                                                                                 \n",
      "0.04978657676722544                                                                                                    \n",
      " 90%|█████████████████████████████████████████▍    | 9/10 [08:26<01:40, 100.94s/trial, best loss: 0.012779542975569137]"
     ]
    },
    {
     "name": "stderr",
     "output_type": "stream",
     "text": [
      "INFO:hyperopt.tpe:build_posterior_wrapper took 0.000999 seconds\n",
      "INFO:hyperopt.tpe:TPE using 9/9 trials with best loss 0.012780\n",
      "INFO:fbprophet:Disabling weekly seasonality. Run prophet with weekly_seasonality=True to override this.\n",
      "INFO:fbprophet:Disabling daily seasonality. Run prophet with daily_seasonality=True to override this.\n",
      "INFO:fbprophet:n_changepoints greater than number of observations. Using 37.\n"
     ]
    },
    {
     "name": "stdout",
     "output_type": "stream",
     "text": [
      "score:                                                                                                                 \n",
      "0.018960198573942315                                                                                                   \n",
      "100%|██████████████████████████████████████████████| 10/10 [08:30<00:00, 51.07s/trial, best loss: 0.012779542975569137]\n",
      "{'changepoint_prior_scale': 2, 'holidays_prior_scale': 3, 'n_changepoints': 5}\n"
     ]
    },
    {
     "name": "stderr",
     "output_type": "stream",
     "text": [
      "INFO:fbprophet:Disabling weekly seasonality. Run prophet with weekly_seasonality=True to override this.\n",
      "INFO:fbprophet:Disabling daily seasonality. Run prophet with daily_seasonality=True to override this.\n"
     ]
    }
   ],
   "source": [
    "models = {}\n",
    "for key, value in trainStores.items():\n",
    "    prophetModel = ProphetEstimator(labelCol=\"sales\").fit(value)\n",
    "    models[key] = prophetModel  "
   ]
  },
  {
   "cell_type": "code",
   "execution_count": 14,
   "metadata": {},
   "outputs": [],
   "source": [
    "predictions = {}\n",
    "for key, value in models.items():    \n",
    "    data = testStores[key]\n",
    "    pred = value.transform(data)\n",
    "    predictions[key] = pred"
   ]
  },
  {
   "cell_type": "code",
   "execution_count": 15,
   "metadata": {},
   "outputs": [],
   "source": [
    "from functools import reduce\n",
    "from pyspark.sql import DataFrame\n",
    "\n",
    "def union_all(*dfs):\n",
    "    return reduce(DataFrame.union, dfs)"
   ]
  },
  {
   "cell_type": "code",
   "execution_count": 16,
   "metadata": {},
   "outputs": [],
   "source": [
    "predProphet = union_all(*predictions.values())"
   ]
  },
  {
   "cell_type": "code",
   "execution_count": 17,
   "metadata": {},
   "outputs": [
    {
     "name": "stdout",
     "output_type": "stream",
     "text": [
      "+-----+----+-----+------------------+------------------+\n",
      "|store|year|month|             sales|        prediction|\n",
      "+-----+----+-----+------------------+------------------+\n",
      "| WI_2|2016|    1| 4.025018972282759| 3.812879002202152|\n",
      "| WI_2|2016|    2|   3.9703933720796| 4.078919088490924|\n",
      "| WI_2|2016|    3| 4.064120905829622| 4.012445022880062|\n",
      "| WI_2|2016|    4| 4.080806804334363| 4.038790253640893|\n",
      "| WI_2|2016|    5| 4.027145665774341|3.9947774022867804|\n",
      "| WI_3|2016|    1|3.9421569284674907| 3.805257215429924|\n",
      "| WI_3|2016|    2|3.9200189160289147| 4.066183519222138|\n",
      "| WI_3|2016|    3|3.8987251815894934| 4.040335622666704|\n",
      "| WI_3|2016|    4|3.8765642139838454| 4.019205467042756|\n",
      "| WI_3|2016|    5|   3.8750612633917| 4.035035981449077|\n",
      "| TX_2|2016|    1|3.8605176774617465| 3.717997912915747|\n",
      "| TX_2|2016|    2| 3.890532791927745| 4.029121668418658|\n",
      "| TX_2|2016|    3|3.9088601730172763|3.9704680952987155|\n",
      "| TX_2|2016|    4| 3.850829959848531| 3.887074999509756|\n",
      "| TX_2|2016|    5|3.8232785569516707| 3.889620335539311|\n",
      "| WI_1|2016|    1|3.9654839242451385|  3.81727816430751|\n",
      "| WI_1|2016|    2|3.9318137039591394| 4.066400471870828|\n",
      "| WI_1|2016|    3| 3.991447598003803| 4.115562473841416|\n",
      "| WI_1|2016|    4|3.9811387826406603| 4.036202558292942|\n",
      "| WI_1|2016|    5| 3.913919764951466| 4.021095255508565|\n",
      "+-----+----+-----+------------------+------------------+\n",
      "only showing top 20 rows\n",
      "\n"
     ]
    }
   ],
   "source": [
    "predProphet.show()"
   ]
  },
  {
   "cell_type": "code",
   "execution_count": 19,
   "metadata": {},
   "outputs": [
    {
     "name": "stdout",
     "output_type": "stream",
     "text": [
      "Score:  0.029810513505208327\n"
     ]
    }
   ],
   "source": [
    "mape = MAPE(labelCol=\"sales\", predictionCol=\"prediction\")\n",
    "score = mape.evaluate(predProphet)\n",
    "print(\"Score: \", score)"
   ]
  },
  {
   "cell_type": "code",
   "execution_count": 20,
   "metadata": {},
   "outputs": [],
   "source": [
    "result = predProphet.toPandas()\n",
    "result.to_csv(\"Prophetresult.csv\",header=True, index=False)"
   ]
  },
  {
   "cell_type": "code",
   "execution_count": null,
   "metadata": {},
   "outputs": [],
   "source": []
  }
 ],
 "metadata": {
  "kernelspec": {
   "display_name": "Python 3",
   "language": "python",
   "name": "python3"
  },
  "language_info": {
   "codemirror_mode": {
    "name": "ipython",
    "version": 3
   },
   "file_extension": ".py",
   "mimetype": "text/x-python",
   "name": "python",
   "nbconvert_exporter": "python",
   "pygments_lexer": "ipython3",
   "version": "3.8.8"
  }
 },
 "nbformat": 4,
 "nbformat_minor": 1
}
